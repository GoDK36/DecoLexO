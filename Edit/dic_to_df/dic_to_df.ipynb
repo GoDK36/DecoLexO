{
 "cells": [
  {
   "cell_type": "code",
   "execution_count": 106,
   "metadata": {
    "tags": [
     "outputPrepend"
    ]
   },
   "outputs": [
    {
     "output_type": "stream",
     "name": "stdout",
     "text": "'MES', 'NOU', 'QPRD', 'QFOO', 'XXPR', 'XCUL', 'XLIF', 'XRES', 'XPOL', 'XSER']\n['단일', 'NS03', 'ZNZ', 'LEO', 'SLB', 'PHA', 'QPRO']\n['단일어', 'NS01', 'ZNZ', 'LEO', 'SLC', 'NAB', 'XXPR', 'XPOL']\n['단일화', 'NS01', 'ZNZ', 'LEO', 'SLC', 'PHD', 'QCOG', 'QLOC', 'XCUL', 'XLIF']\n['단자', 'NS01', 'ZNZ', 'LEO', 'SLB', 'MCO', 'NAB', 'QXNG', 'QXFU', 'XPLA']\n['단전', 'NS02', 'ZNZ', 'LEO', 'SLB', 'PHD', 'QXNG', 'QXSY', 'QPES', 'XSWN']\n['단절', 'NS03', 'ZNZ', 'LEO', 'SLB', 'PHD', 'QCOG', 'QLAN', 'XSWN']\n['단점', 'NS02', 'ZNZ', 'LEO', 'SLB', 'NAB', 'QCOD']\n['단정적', 'NS02', 'ZNM', 'LEO', 'SLC', 'JEG', 'QPRO', 'QLOC']\n['단종', 'NS02', 'ZNZ', 'LEO', 'SLB', 'PHD', 'QBUI', 'XXCO', 'XCOS', 'XCUL', 'XPLA', 'XRES', 'XWOR']\n['단지', 'NS01', 'ZND', 'LEO', 'SLB', 'MES', 'QCLL', 'QCRR', 'XPOL', 'XSOC', 'XCUL']\n['단체', 'NS01', 'ZNZ', 'LEO', 'SLB', 'NAB', 'QXNG', 'QXFU', 'QCOG', 'XPOL', 'XITP', 'XPLA', 'XRES']\n['단추', 'NS01', 'ZNZ', 'LEO', 'SLB', 'MCO', 'QSOA']\n['단층', 'NS02', 'ZNX', 'PXN', 'NZX', 'SLB', 'LEO', 'PHP', 'QMEA', 'XCLO']\n['단칸', 'NS02', 'ZNX', 'PXN', 'NZX', 'SLB', 'LEO', 'QXPO', 'QXFP', 'XPOL', 'XEDU', 'XCLO', 'XSIN']\n['단판', 'NS02', 'ZNX', 'PXN', 'NZX', 'SLB', 'LEO', 'QSUS', 'XRES']\n['단편', 'NS02', 'ZNZ', 'LEO', 'SLB', 'NAB', 'QXNG', 'QXEL', 'QSOA']\n['단품', 'NS02', 'ZNZ', 'LEO', 'SLB', 'QHUM', 'XITP']\n['단풍', 'NS02', 'ZNZ', 'LEO', 'SLB', 'MCO', 'QCOD']\n['단합', 'NS02', 'ZNZ', 'LEO', 'SLB', 'PHD', 'QCRA']\n['단행', 'NS02', 'ZNZ', 'LEO', 'SLB', 'PHV', 'QBOD', 'QCLL', 'QSUS', 'XCLO']\n['달', 'NS02', 'ZND', 'LEO', 'SLA', 'MES', 'NOU', 'QBOD', 'QPLT', 'XCUL']\n['달걀', 'NS03', 'ZNZ', 'LEO', 'SLB', 'MCO']\n['달구지', 'NS01', 'ZND', 'LEO', 'SLC', 'MES', 'NOU', 'QSUS', 'XCOS', 'XCUL', 'XRES']\n['달래', 'NS01', 'ZNZ', 'LEO', 'SLB', 'MCO', 'QSOA', 'XEDU', 'XLIF']\n['달러', 'NS01', 'ZNF', 'SIM', 'SLB', 'NZF', 'LEO', 'ROM', 'QINA', 'XCLO']\n['달력', 'NS02', 'ZNX', 'SXN', 'NZX', 'SLB', 'LEO', 'QVOD']\n['달리기', 'NS01', 'ZNZ', 'LEO', 'SLC', 'PHV', 'PGN', 'QCOD']\n['달변', 'NS02', 'ZNZ', 'LEO', 'SLB', 'NAB', 'QVOD']\n['달음박질', 'NS03', 'ZNZ', 'LEO', 'SLD', 'PHV', 'QEVN', 'XXPR', 'XCLO', 'XCUL', 'XSER', 'XECO']\n['달음질', 'NS03', 'ZNZ', 'LEO', 'SLC', 'PHV', 'QMOM']\n['달인', 'NS02', 'ZNZ', 'LEO', 'SLB', 'MCO', 'QMOM', 'XLIF', 'XCUL']\n['달팽이', 'NS01', 'ZNZ', 'LEO', 'SLC', 'MCO', 'QCRA']\n['달포', 'NS01', 'ZNX', 'SXN', 'NZX', 'SLB', 'LEO', 'QXNG', 'QXFU', 'QBIC']\n['닭', 'NS02', 'ZNZ', 'LEO', 'SLA', 'MCO', 'QMOM', 'QPRC']\n['담', 'NS02', 'ZNZ', 'LEO', 'SLA', 'HAL', 'MCO']\n['담당', 'NS02', 'ZNZ', 'LEO', 'SLB', 'PHV', 'QXDE', 'QXEL', 'QPRC', 'XSWN']\n['담력', 'NS02', 'ZNX', 'SXN', 'NZX', 'SLB', 'LEO', 'QPRC']\n['담론', 'NS02', 'ZNZ', 'LEO', 'SLB', 'PHV', 'QSOA', 'QSHC', 'QART', 'XXCR', 'XQFT', 'XCUL', 'XECO', 'XPOL', 'XSIN']\n['담배', 'NS01', 'ZNZ', 'LEO', 'SLB', 'MCO']\n['담백', 'NS02', 'ZNM', 'LEO', 'SLB', 'MDN']\n['담보', 'NS01', 'ZNZ', 'LEO', 'SLB', 'PHV', 'QHUM', 'QSHC', 'XGAM']\n['담석', 'NS02', 'ZNX', 'SXN', 'NZX', 'SLB', 'LEO', 'QHUM', 'XQFT', 'XCUL', 'XSIN']\n['담소', 'NS01', 'ZNZ', 'LEO', 'SLB', 'PHV']\n['담요', 'NS01', 'ZNX', 'PXN', 'NZX', 'SLB', 'LEO', 'QBAN', 'QBPL', 'XSWN', 'XCUL', 'XRES']\n['담임', 'NS02', 'ZNZ', 'LEO', 'SLB', 'MCO']\n['담채화', 'NS01', 'ZNZ', 'LEO', 'SLC', 'HAL', 'MCO', 'QANM', 'QFOO']\n['담판', 'NS02', 'ZNZ', 'LEO', 'SLB', 'PHV', 'QART', 'XXCR', 'XMOV']\n['담화', 'NS01', 'ZNZ', 'LEO', 'SLB', 'PHV']\n['답', 'NS02', 'ZNZ', 'LEO', 'SLA', 'PHV', 'QXDE', 'QXEL', 'QEVN', 'XXPR', 'XRES']\n['답례', 'NS01', 'ZNX', 'SXN', 'NZX', 'SLB', 'LEO', 'PHV', 'QNTR', 'XXEV', 'XQFT', 'XCLO', 'XCOS', 'XCUL', 'XRES', 'XSPO']\n['답사', 'NS01', 'ZNX', 'SXN', 'NZX', 'SLB', 'LEO', 'HAL', 'QHUM', 'XCUL']\n['답신', 'NS02', 'ZNX', 'SXN', 'NZX', 'SLB', 'LEO', 'PHV']\n['답장', 'NS02', 'ZNX', 'SXN', 'NZX', 'SLB', 'LEO', 'PHV', 'QXPO', 'QXFP']\n['닷새', 'NS01', 'ZNZ', 'LEO', 'SLB', 'NAB', 'QXDE', 'QXEL', 'QINC', 'QREG']\n['당', 'NS02', 'ZND', 'LEO', 'SLA', 'INC', 'QXNB', 'QXFU', 'QINC', 'XCUL', 'XSWN']\n['당구', 'NS01', 'ZNZ', 'LEO', 'SLB', 'HAL', 'NAB', 'PHV', 'QCOD', 'XXPR']\n['당국', 'NS02', 'ZNZ', 'LEO', 'SLB', 'NAB', 'XCUL']\n['당근', 'NS02', 'ZNZ', 'LEO', 'SLB', 'MCO', 'QINA']\n['당도', 'NS01', 'ZNX', 'SXN', 'NZX', 'SLB', 'LEO', 'QXDE', 'QXEL', 'QSOA']\n['당락', 'NS02', 'ZNZ', 'LEO', 'SLB', 'NAB', 'QCOD']\n['당론', 'NS02', 'ZNX', 'SXN', 'NZX', 'SLB', 'LEO', 'QXDE', 'QXEL']\n['당분', 'NS02', 'ZNX', 'SXN', 'NZX', 'SLB', 'LEO', 'QCRA', 'QCOG', 'XSPO', 'XITP']\n['당선', 'NS02', 'ZNZ', 'LEO', 'SLB', 'PHD', 'QCRC', 'QPRC']\n['당숙', 'NS02', 'ZNZ', 'LEO', 'SLB', 'MCO', 'QXDE', 'QXEL', 'QPRO', 'QPLE']\n['당신', 'NS02', 'ZNP', 'LEO', 'SLB', 'SEC', 'ELE', 'DEU', 'QCRC', 'QHUM']\n['당위적', 'NS02', 'ZNM', 'LEO', 'SLC', 'JEG', 'XCUL', 'XSPO']\n['당일', 'NS03', 'ZNZ', 'LEO', 'SLB', 'NAB', 'QSUS']\n['당장', 'NS02', 'ZNZ', 'LEO', 'SLB', 'NAB', 'QCLL']\n['당직', 'NS02', 'ZNX', 'SXN', 'NZX', 'SLB', 'LEO', 'HAL', 'QXDE', 'QXEL', 'QSOA', 'QHUM', 'XCUL', 'XPOL']\n['당첨', 'NS02', 'ZNZ', 'LEO', 'SLB', 'PHD', 'XRES']\n['당혹감', 'NS02', 'ZNZ', 'LEO', 'SLC', 'NAB', 'QXNG', 'QXFU', 'QMEA', 'XSWN']\n['당황', 'NS02', 'ZNZ', 'LEO', 'SLB', 'QLOC']\n['닻', 'NS02', 'ZNZ', 'LEO', 'SLA', 'MCO', 'QXNB', 'QXEL', 'QSTA']\n['대', 'NS01', 'ZND', 'LEO', 'SLA', 'MES', 'QXDE', 'QXEL', 'QPRO', 'XSWN', 'XECO']\n['대가', 'NS01', 'ZNZ', 'LEO', 'SLB', 'MCO', 'QEVN', 'QMUA', 'XSWN']\n['대가리', 'NS01', 'ZNZ', 'LEO', 'SLC', 'MCO', 'QXDE', 'QXEL', 'QDEC']\n['대갈통', 'NS02', 'ZNZ', 'LEO', 'SLC', 'MCO', 'QPRC']\n['대감', 'NS02', 'ZNZ', 'LEO', 'SLB', 'MCO', 'QSOA']\n['대강', 'NS02', 'ZNZ', 'LEO', 'SLB', 'HAL', 'NAB', 'QHUM', 'XXPE', 'XPOL', 'XCUL']\n['대개', 'NS01', 'ZNZ', 'LEO', 'SLB', 'NAB', 'QXNG', 'QXFU', 'QSOA']\n['대거', 'NS01', 'ZNZ', 'LEO', 'SLB', 'PHV', 'QXDE', 'QXEL', 'QPRC']\n['대검', 'NS02', 'ZNX', 'PXN', 'NZX', 'SLB', 'LEO', 'QLOC', 'QHUM', 'QINA', 'QPRC', 'XCUL']\n['대구', 'NS01', 'ZNZ', 'LEO', 'SLB', 'MCO', 'QXDE', 'QXEL']\n['대군', 'NS02', 'ZNZ', 'LEO', 'SLB', 'NAB', 'QSOA']\n['대권', 'NS02', 'ZNZ', 'LEO', 'SLB', 'NAB', 'QXDE', 'QXEL', 'QCOG', 'QTMP', 'QPRD', 'XITP', 'XSIN', 'XCLO', 'XECO', 'XSER']\n['대궐', 'NS03', 'ZNX', 'PXN', 'NZX', 'SLB', 'LEO', 'QXNB', 'QXSY', 'QBIO', 'XSWN']\n['대금', 'NS02', 'ZNZ', 'LEO', 'SLB', 'NAB', 'HAL', 'MCO', 'QXNG', 'QXFU', 'QHUM', 'XXPE', 'XPOL']\n['대꾸', 'NS01', 'ZNZ', 'LEO', 'SLB', 'PHV', 'QXPO', 'QXFP', 'QSOA', 'XPLA']\n['대낮', 'NS02', 'ZNX', 'PXN', 'NZX', 'SLB', 'LEO', 'QPLT']\n['대내외적', 'NS02', 'ZNM', 'LEO', 'SLD', 'JEG', 'QCOD']\n['대담', 'NS02', 'ZNZ', 'LEO', 'SLB', 'PHV', 'QPRC']\n['대답', 'NS02', 'ZNX', 'PXN', 'NZX', 'SLB', 'LEO', 'PHV', 'QHUM']\n['대대', 'NS01', 'ZND', 'LEO', 'SLB', 'MES', 'NOU', 'QBOD', 'XXPR', 'XCUL', 'XRES', 'XSER']\n['대두', 'NS01', 'ZNZ', 'LEO', 'SLB', 'PHD', 'MCO', 'QCOD']\n['대들보', 'NS01', 'ZNZ', 'LEO', 'SLC', 'MCO', 'QCOG', 'XRES', 'XSIN', 'XCUL']\n['대략', 'NS02', 'ZNZ', 'LEO', 'SLB', 'NAB', 'QXSP', 'QXJO', 'QPSI', 'XPLA', 'XSWN']\n['대량', 'NS02', 'ZNZ', 'LEO', 'SLB', 'NAB', 'QXPO', 'QXJO']\n['대로', 'NS01', 'ZND', 'LEO', 'SLB', 'INC', 'QXDE', 'QXEL', 'QMEA', 'XECO', 'XITP']\n['대륙', 'NS02', 'ZNZ', 'LEO', 'SLB', 'MCO', 'QXPO', 'QXJO', 'QPSI', 'XPLA', 'XSWN', 'XECO', 'XCOS', 'XGAM']\n['대리', 'NS01', 'ZNZ', 'LEO', 'SLB', 'MCO', 'QXDE', 'QXEL', 'QXNA', 'QINA']\n['대리석', 'NS02', 'ZNZ', 'LEO', 'SLC', 'MCO', 'QHUM', 'QSOA']\n['대망', 'NS02', 'ZNZ', 'LEO', 'SLB', 'NAB', 'PHV', 'QXPO', 'QXEL', 'QVIS']\n['대목', 'NS02', 'ZNZ', 'LEO', 'SLB', 'NAB', 'QXDE', 'QXEL']\n['대문', 'NS02', 'ZNX', 'PXN', 'NZX', 'SLB', 'LEO', 'QXPB', 'QXEL', 'XPOL']\n['대미', 'NS01', 'ZNM', 'LEO', 'SLB', 'MDN', 'QXDE', 'QXEL', 'QXNA', 'QDEC', 'QLIT', 'XECO', 'XSWN']\n['대본', 'NS02', 'ZNZ', 'LEO', 'SLB', 'PHV', 'QXNG', 'QXFU', 'QEVN']\n['대비', 'NS01', 'ZNX', 'PXN', 'NZX', 'SLB', 'LEO', 'QSOA']\n['대사', 'NS01', 'ZNZ', 'LEO', 'SLB', 'MCO', 'QXDE', 'QXEL', 'QPES', 'XSWN', 'XPOL']\n['대상', 'NS02', 'ZNM', 'LEO', 'SLB', 'PSN', 'QXDE', 'QPES', 'XSWN']\n['대선', 'NS02', 'ZNZ', 'LEO', 'SLB', 'QXDE', 'QXEL', 'QBIC', 'QPRT', 'QTOU', 'XITP']\n['대세', 'NS01', 'ZNZ', 'LEO', 'SLB', 'NAB', 'QXPO', 'QXJO', 'QSOA', 'XSER', 'XPLA', 'XSWN', 'XECO', 'XITP']\n['대소', 'NS01', 'ZNZ', 'LEO', 'SLB', 'PHV', 'NAB', 'QCLT', 'XLIF']\n['대안적', 'NS02', 'ZNM', 'LEO', 'SLC', 'JEG', 'QANM']\n['대양', 'NS02', 'ZNZ', 'LEO', 'SLB', 'NAB', 'QBOD']\n['대어', 'NS01', 'ZNZ', 'LEO', 'SLB', 'MCO', 'QHUM', 'XCUL']\n['대여', 'NS01', 'ZNZ', 'LEO', 'SLB', 'PHD', 'QINC']\n['대역', 'NS02', 'ZNZ', 'LEO', 'SLB', 'NAB', 'PHV', 'QCRR', 'XQFT', 'XCEL', 'XRES', 'XPLA', 'XSIN', 'XCLO']\n['대열', 'NS03', 'ZNZ', 'LEO', 'SLB', 'MCO', 'QXDE', 'QXEL', 'QCLT', 'XSIN']\n['대외', 'NS01', 'ZNM', 'LEO', 'SLB', 'MDN', 'QAND']\n['대의', 'NS01', 'ZNZ', 'LEO', 'SLB', 'NAB', 'QINS', 'QSOA']\n['대인', 'NS02', 'ZNZ', 'LEO', 'SLB', 'MCO', 'PHV', 'QBUI']\n['대자보', 'NS01', 'ZNZ', 'LEO', 'SLC', 'MCO', 'QCLL', 'XPOL', 'XCUL', 'XSOC']\n['대장', 'NS02', 'ZNZ', 'LEO', 'SLB', 'MCO', 'QXNG', 'QXFU', 'QSOA', 'QPRC']\n['대장장이', 'NS01', 'ZNZ', 'LEO', 'SLD', 'MCO']\n['대전', 'NS02', 'ZNZ', 'LEO', 'SLB', 'MCO', 'NAB', 'PHV', 'QCRA']\n['대졸', 'NS03', 'ZNZ', 'LEO', 'SLB', 'NAB', 'QXAD', 'QXEL', 'QCOM', 'QDIM', 'QSTR', 'XITP']\n['대중', 'NS02', 'ZNZ', 'LEO', 'SLB', 'NAB', 'QSOA', 'XCUL', 'XSPO']\n['대중적', 'NS02', 'ZNM', 'LEO', 'SLC', 'JEG', 'QXDE', 'QXEL', 'QPRO']\n['대지', 'NS01', 'ZNZ', 'LEO', 'SLB', 'MCO', 'QXNG', 'QXFU', 'QSOA', 'XPOL', 'XSWN']\n['대책', 'NS02', 'ZNZ', 'LEO', 'SLB', 'NAB', 'XXPE']\n['대첩', 'NS02', 'ZNZ', 'LEO', 'SLB', 'PHV', 'QXPO', 'QXFP', 'QSOA', 'XITP', 'XRES', 'XSIN', 'XWOR']\n['대체', 'NS01', 'ZNZ', 'LEO', 'SLB', 'NAB', 'QXNG', 'QXFU', 'QSOA']\n['대체적', 'NS02', 'ZNM', 'LEO', 'SLC', 'JEG', 'QXNG', 'QXFU', 'XPOL', 'XLIF']\n['대추', 'NS01', 'ZNZ', 'LEO', 'SLB', 'MCO', 'QXDE', 'QXEL', 'QSOA', 'XSIN', 'XRES', 'XCUL']\n['대충', 'NS02', 'ZNZ', 'LEO', 'SLB', 'NAB']\n['대칭', 'NS02', 'ZNZ', 'LEO', 'SLB', 'NAB', 'QXNG', 'QXFU', 'QSOA', 'XCUL', 'XSWN']\n['대타', 'NS01', 'ZNZ', 'LEO', 'SLB', 'PHV', 'QXDE', 'QXEL', 'QDEC', 'QPRC', 'QLOW', 'XECO']\n['대통령', 'NS02', 'ZNZ', 'LEO', 'SLC', 'MCO', 'QXNG', 'QXFU', 'QINA', 'XPOL']\n['대판', 'NS02', 'ZNX', 'PXN', 'NZX', 'SLB', 'LEO']\n['대패', 'NS01', 'ZNZ', 'LEO', 'SLB', 'MCO', 'PHV']\n['대포', 'NS01', 'ZNX', 'PXN', 'NZX', 'SLB', 'LEO', 'QXDE', 'QXEL', 'QANM', 'XRES', 'XCUL']\n['대폭', 'NS02', 'ZNX', 'PXN', 'NZX', 'SLB', 'LEO', 'QCOD']\n['대표', 'NS01', 'ZNZ', 'LEO', 'SLB', 'MCO', 'QPRC']\n['대표적', 'NS02', 'ZNM', 'LEO', 'SLC', 'JEG', 'QANM']\n['대학', 'NS02', 'ZNZ', 'LEO', 'SLB', 'NAB', 'QINA']\n['대합실', 'NS03', 'ZNZ', 'LEO', 'SLC', 'MCO', 'QXDE', 'QXEL']\n['대해', 'NS01', 'ZNX', 'PXN', 'NZX', 'SLB', 'LEO', 'QMEA', 'XEDU']\n['대형', 'NS02', 'ZNZ', 'LEO', 'SLB', 'MCO', 'QANM', 'XCUL', 'XITP']\n['대회', 'NS01', 'ZNZ', 'LEO', 'SLB', 'PHV', 'QXDE', 'QXEL']\n['댁', 'NS02', 'ZND', 'LEO', 'SLA', 'INC', 'QPRO', 'XCUL', 'XCLO']\n['댄서', 'NS01', 'ZNF', 'SIM', 'SLB', 'NZF', 'LEO', 'ROM', 'QXDE', 'QXEL']\n['댄스', 'NS01', 'ZNF', 'SIM', 'SLB', 'NZF', 'LEO', 'ROM', 'QSOA', 'XGAM', 'XACT', 'XCLO', 'XITP', 'XMOV']\n['댐', 'NS02', 'ZNF', 'SIM', 'SLA', 'NZF', 'LEO', 'ROM', 'QPRC', 'QCRC', 'XCUL']\n['댕기', 'NS01', 'ZNZ', 'LEO', 'SLB', 'MCO', 'QXPO', 'QXFP', 'QPRC', 'XITP', 'XPOL', 'XSWN', 'XPLA']\n['더', 'NS01', 'ZNZ', 'LEO', 'SLA', 'PHD', 'QCRC', 'XCUL']\n['더덕', 'NS02', 'ZNZ', 'LEO', 'SLB', 'MCO', 'QXPO', 'QXEL', 'QPRO', 'XRES', 'XPLA']\n['더듬이', 'NS01', 'ZNZ', 'LEO', 'SLC', 'MCO', 'QXPO', 'QXEL']\n['더블', 'NS03', 'ZNF', 'SIM', 'SLB', 'NZF', 'LEO', 'ROM', 'QXDE', 'QXEL', 'QSOA', 'XCLO']\n['더위', 'NS01', 'ZNZ', 'LEO', 'SLB', 'NAB', 'QXDE', 'QXEL', 'QLOG', 'XECO']\n['더하기', 'NS01', 'ZNZ', 'LEO', 'SLC', 'PGN', 'QLAN']\n['덕', 'NS02', 'ZNZ', 'LEO', 'SLA', 'NAB', 'QREG']\n['덕담', 'NS02', 'ZNX', 'SXN', 'NZX', 'SLB', 'LEO', 'PHV', 'QCRC']\n['덕망', 'NS02', 'ZNX', 'SXN', 'NZX', 'SLB', 'LEO', 'QDAD', 'XCUL']\n['덕목', 'NS02', 'ZNX', 'SXN', 'NZX', 'SLB', 'LEO', 'QHUM', 'XCLO', 'XCUL', 'XSIN', 'XLIF']\n['덕분', 'NS02', 'ZNZ', 'LEO', 'SLB', 'NAB', 'QXDE', 'QXEL', 'XPOL', 'XCUL']\n['덕택', 'NS02', 'ZNZ', 'LEO', 'SLB', 'NAB', 'QINA', 'QSOA', 'XPOL']\n['던지기', 'NS01', 'ZNZ', 'LEO', 'SLC', 'PGN', 'PHV', 'QPRC']\n['덜미', 'NS01', 'ZNZ', 'LEO', 'SLB', 'MCO', 'QPRC', 'XPOL']\n['덤', 'NS02', 'ZNZ', 'LEO', 'SLA', 'MCO', 'QCOD']\n['덤불', 'NS03', 'ZNZ', 'LEO', 'SLB', 'MCO', 'QPRC', 'XSWN']\n['덧셈', 'NS02', 'ZNX', 'PXN', 'NZX', 'SLB', 'LEO', 'PHV', 'QXSN', 'QXAN', 'QPSI', 'XPOL']\n['덧신', 'NS02', 'ZNX', 'PXN', 'NZX', 'SLB', 'LEO', 'QCRC', 'XCEL', 'XITP']\n['덧칠', 'NS03', 'ZNX', 'PXN', 'NZX', 'SLB', 'LEO', 'PHV', 'QCOD', 'XCUL']\n['덩굴', 'NS03', 'ZNZ', 'LEO', 'SLB', 'MCO', 'QINA']\n['덩어리', 'NS01', 'ZND', 'LEO', 'SLC', 'MES', 'NOU', 'QSOA']\n['덩이', 'NS01', 'ZND', 'LEO', 'SLB', 'MES', 'NOU', 'QCRC', 'XQFT', 'XPOL', 'XLIF', 'XSOC', 'XCUL']\n['덫', 'NS02', 'ZNZ', 'LEO', 'SLA', 'MCO', 'QXPO', 'QXEL', 'XPOL']\n['덮개', 'NS01', 'ZNZ', 'LEO', 'SLB', 'HAL', 'MCO', 'QSOA', 'XSOC']\n['덮밥', 'NS02', 'ZNX', 'PXN', 'NZX', 'SLB', 'LEO', 'HAL', 'QCRC']\n['데', 'NS01', 'ZND', 'LEO', 'SLA', 'INC', 'QHUM']\n['데모', 'NS01', 'ZNF', 'SIM', 'SLB', 'NZF', 'LEO', 'ROM', 'QXDE', 'QXEL', 'XCUL', 'XPOL']\n['데뷔', 'NS01', 'ZNF', 'SIM', 'SLB', 'NZF', 'LEO', 'ROM', 'QXNG', 'QXFU', 'QBIC']\n['데생', 'NS02', 'ZNF', 'SIM', 'SLB', 'NZF', 'LEO', 'ROM', 'QBUI', 'XXCR', 'XSER']\n['데스크', 'NS01', 'ZNF', 'SIM', 'SLC', 'NZF', 'LEO', 'ROM', 'QHUM']\n['데시벨', 'NS03', 'ZND', 'LEO', 'SLC', 'MES', 'CLA']\n['데이터', 'NS01', 'ZNF', 'SIM', 'SLC', 'NZF', 'LEO', 'ROM', 'QREG']\n['도', 'NS01', 'ZNF', 'SIM', 'SLA', 'NZF', 'LEO', 'ROM', 'QXNB', 'QXDI', 'QTMP']\n['도감', 'NS02', 'ZNZ', 'LEO', 'SLB', 'MCO', 'QPRD']\n['도구', 'NS01', 'ZNZ', 'LEO', 'SLB', 'MCO', 'QCRR', 'XPOL', 'XCUL']\n['도깨비', 'NS01', 'ZNZ', 'LEO', 'SLC', 'MCO', 'QXDE', 'QXEL', 'QMUA', 'XSIN', 'XCLO', 'XITP', 'XSOC', 'XCUL']\n['도끼', 'NS01', 'ZNZ', 'LEO', 'SLB', 'MCO', 'QXNG', 'QXFU', 'QHUM']\n['도난', 'NS02', 'ZNZ', 'LEO', 'SLB', 'NAB', 'QSHC', 'XPOL']\n['도넛', 'NS02', 'ZNF', 'SIM', 'SLB', 'NZF', 'LEO', 'ROM', 'QCOD', 'XXPR']\n['도둑', 'NS02', 'ZNZ', 'LEO', 'SLB', 'MCO', 'QXNG', 'QXFU', 'QANM', 'XLIF', 'XCUL']\n['도라지', 'NS01', 'ZNZ', 'LEO', 'SLC', 'MCO', 'QXAD', 'QXEL', 'QHUM', 'XPOL', 'XSIN']\n['도랑', 'NS02', 'ZNZ', 'LEO', 'SLB', 'MCO', 'QANM', 'XXPR', 'XXPE', 'XMOV', 'XSIN']\n['도련님', 'NS02', 'ZNZ', 'LEO', 'SLC', 'MCO', 'QHUM']\n['도로', 'NS01', 'ZNZ', 'LEO', 'SLB', 'MCO', 'QXNG', 'QXNA', 'QSHC', 'XCUL']\n['도롱뇽', 'NS02', 'ZNZ', 'LEO', 'SLC', 'MCO', 'QCRR']\n['도료', 'NS01', 'ZNZ', 'LEO', 'SLB', 'MCO']\n['도르래', 'NS01', 'ZNZ', 'LEO', 'SLC', 'MCO', 'QXNG', 'QXFU', 'QDIS', 'XSWN']\n['도리', 'NS01', 'ZNZ', 'LEO', 'SLB', 'QBUI', 'XCUL']\n['도립', 'NS02', 'ZNX', 'SXN', 'NZX', 'SLB', 'LEO', 'DFS', 'QXNG', 'QXFU', 'QXNR', 'QINA', 'XPOL']\n['도마', 'NS01', 'ZNZ', 'LEO', 'SLB', 'MCO', 'QPRD', 'XXPR', 'XECO', 'XSER']\n['도망', 'NS02', 'ZNZ', 'LEO', 'SLB', 'PHV', 'QHUM', 'XXPE', 'XCUL', 'XMOV']\n['도매', 'NS01', 'ZNZ', 'LEO', 'SLB', 'PHV', 'QXNG', 'QXFU', 'QXNR', 'QSOA', 'XCUL', 'XSWN', 'XECO', 'XPOL']\n['도면', 'NS02', 'ZNZ', 'LEO', 'SLB', 'MCO', 'QCRA']\n['도미', 'NS01', 'ZNZ', 'LEO', 'SLB', 'MCO', 'PHV', 'QXNG', 'QXFU', 'QHUM', 'XSWN', 'XITP', 'XPOL', 'XECO', 'XWOR']\n['도미노', 'NS01', 'ZNF', 'SIM', 'SLC', 'NZF', 'LEO', 'ROM', 'QXNG', 'QXFU', 'QCOG', 'XPLA', 'XPOL']\n['도박', 'NS02', 'ZNZ', 'LEO', 'SLB', 'PHV', 'NAB', 'QBOD', 'XPOL']\n['도벽', 'NS02', 'ZNZ', 'LEO', 'SLB', 'NAB', 'QINA']\n['도보', 'NS01', 'ZNM', 'LEO', 'SLB', 'PSN', 'QXNG', 'QXFE', 'QPSI', 'XPOL', 'XPLA', 'XSWN', 'XITP', 'XSOC']\n['도서', 'NS01', 'ZNZ', 'LEO', 'SLB', 'MCO', 'QXDE', 'QXEL', 'QTMP']\n['도시', 'NS01', 'ZNZ', 'LEO', 'SLB', 'NAB', 'QCRC']\n['도시락', 'NS02', 'ZNZ', 'LEO', 'SLC', 'MCO', 'QBUI', 'QLOC', 'XCUL', 'XRES', 'XTUR']\n['도심', 'NS02', 'ZNZ', 'LEO', 'SLB', 'NAB', 'QCRC', 'XCUL']\n['도안', 'NS02', 'ZNX', 'PXN', 'NZX', 'SLB', 'LEO', 'PHP', 'QXPO', 'QXEL']\n['도예', 'NS01', 'ZNZ', 'LEO', 'SLB', 'HAL', 'NAB', 'PHV', 'QART']\n['도우미', 'NS01', 'ZNZ', 'LEO', 'SLC', 'QXPO', 'QXFP', 'XCUL', 'XSOC']\n['도움', 'NS02', 'ZNZ', 'LEO', 'SLB', 'NAB', 'QPRD', 'XXPR']\n['도장', 'NS02', 'ZNZ', 'LEO', 'SLB', 'HAL', 'MCO', 'PHV', 'QPRD']\n['도적', 'NS02', 'ZNZ', 'LEO', 'SLB', 'MCO', 'QINA']\n['도중', 'NS02', 'ZNM', 'LEO', 'SLB', 'PSN', 'QSOA']\n['도치', 'NS01', 'ZNZ', 'LEO', 'SLB', 'PHD', 'QSOA', 'QMEA', 'QCLO', 'QART', 'XPOL', 'XITP', 'XCLO']\n['도토리', 'NS01', 'ZNZ', 'LEO', 'SLC', 'MCO', 'QXDE', 'QXEL', 'QSOA']\n['도통', 'NS02', 'ZNZ', 'LEO', 'SLB', 'PHV', 'QSOA', 'XXOR', 'XXPE', 'XPOL', 'XLIF', 'XCUL', 'XSOC']\n['도표', 'NS01', 'ZNX', 'PXN', 'NZX', 'SLB', 'LEO', 'PHP', 'QINA', 'QSHC']\n['도핑', 'NS02', 'ZNF', 'SIM', 'SLB', 'NZF', 'LEO', 'ROM', 'QSOA']\n['도합', 'NS02', 'ZNX', 'PXN', 'NZX', 'SLB', 'LEO', 'PHV', 'XXCR', 'XITP']\n['도형', 'NS02', 'ZNZ', 'LEO', 'SLB', 'MCO', 'QLOC', 'XCLO', 'XCUL', 'XRES', 'XCOS', 'XITP']\n['도화지', 'NS01', 'ZNZ', 'LEO', 'SLC', 'MCO', 'QHTP', 'XXPR']\n['독', 'NS02', 'ZNZ', 'LEO', 'SLA', 'MCO', 'QSHC']\n['독감', 'NS02', 'ZNZ', 'LEO', 'SLB', 'NAB', 'QTRM']\n['독거', 'NS01', 'ZNZ', 'LEO', 'SLB', 'PHV', 'QXNG', 'QXEL', 'QATT', 'XSWN']\n['독단', 'NS02', 'ZNZ', 'LEO', 'SLB', 'PHV', 'QHUM', 'XPOL']\n['독립적', 'NS02', 'ZNM', 'LEO', 'SLC', 'JEG', 'QCOD']\n['독방', 'NS02', 'ZNX', 'PXN', 'NZX', 'SLB', 'LEO', 'QINS', 'XRES', 'XCUL']\n['독배', 'NS01', 'ZNX', 'SXN', 'NZX', 'SLB', 'LEO', 'QXDE', 'QXNA', 'QDEC', 'QLIT', 'QWEA']\n['독보적', 'NS02', 'ZNM', 'LEO', 'SLC', 'JEG', 'QXAD', 'QXEL', 'QMUA']\n['독서', 'NS01', 'ZNZ', 'LEO', 'SLB', 'PHV', 'QMUA']\n['독소', 'NS01', 'ZNX', 'SXN', 'NZX', 'SLB', 'LEO', 'QINS', 'XRES', 'XLIF']\n['독수리', 'NS01', 'ZNZ', 'LEO', 'SLC', 'MCO', 'QEVN', 'XEDU']\n['독신', 'NS02', 'ZNZ', 'LEO', 'SLB', 'MCO', 'QTMP']\n['독심술', 'NS03', 'ZNZ', 'LEO', 'SLC', 'NAB', 'QPRO']\n['독자', 'NS01', 'ZNZ', 'LEO', 'SLB', 'MCO', 'QXDE', 'QXEL', 'QPRO', 'XQFT', 'XPOL', 'XSIN', 'XCUL', 'XEDU']\n['독자적', 'NS02', 'ZNM', 'LEO', 'SLC', 'JEG', 'QXDE', 'QXEL', 'QSOA', 'XSWN']\n['독재', 'NS01', 'ZNZ', 'LEO', 'SLB', 'PHV', 'QXNB', 'QXEL', 'QSOA', 'XPOL']\n['독재적', 'NS02', 'ZNM', 'LEO', 'SLC', 'JEG', 'QINA']\n['독점적', 'NS02', 'ZNM', 'LEO', 'SLC', 'JEG', 'QINA']\n['독종', 'NS02', 'ZNZ', 'LEO', 'SLB', 'MCO', 'QXDE', 'QXEL', 'QTRM', 'XSWN']\n['독창', 'NS02', 'ZNZ', 'LEO', 'SLB', 'PHV', 'QCOG']\n['독창성', 'NS02', 'ZNZ', 'LEO', 'SLC', 'NAB', 'QMEA', 'XPOL']\n['독채', 'NS01', 'ZNZ', 'LEO', 'SLB', 'HAL', 'MCO']\n['독트린', 'NS02', 'ZNF', 'SIM', 'SLC', 'NZF', 'LEO', 'ROM', 'QNTR', 'XPLA', 'XPOL', 'XCOS', 'XSPO', 'XSIN']\n['돈', 'NS02', 'ZNZ', 'LEO', 'SLA', 'NAB', 'QXNG', 'QXNF', 'QSOA']\n['돈가스', 'NS01', 'ZNF', 'SIM', 'SLC', 'NZF', 'LEO', 'NRO', 'QINA']\n['돈육', 'NS02', 'ZNZ', 'LEO', 'SLB', 'MCO', 'QXNG', 'QXFU', 'QMUA']\n['돋보기', 'NS01', 'ZNZ', 'LEO', 'SLC', 'PGN', 'QXNG', 'QXFU', 'QXNA', 'QMUA', 'XITP']\n['돌', 'NS03', 'ZND', 'LEO', 'SLA', 'MES', 'NOU', 'QNAC']\n['돌격', 'NS02', 'ZNZ', 'LEO', 'SLB', 'PHV', 'QXDE', 'QXEL', 'XPOL']\n['돌발', 'NS03', 'ZNZ', 'LEO', 'SLB', 'PHV', 'QXPO', 'QXFP', 'QCRC', 'XSWN']\n['돌연', 'NS02', 'ZNM', 'LEO', 'SLB', 'MDN', 'QSHC', 'XITP', 'XSIN']\n['돌출', 'NS03', 'ZNZ', 'LEO', 'SLB', 'PHD', 'QXDE', 'QXEL', 'XPOL']\n['돌풍', 'NS02', 'ZNZ', 'LEO', 'SLB', 'NAB', 'QMUA']\n['돔', 'NS02', 'ZNF', 'SIM', 'SLA', 'NZF', 'LEO', 'ROM', 'QMEA', 'QSHC']\n['동', 'NS02', 'ZND', 'LEO', 'SLA', 'MES', 'QXNG', 'QXFU', 'QNTR', 'XLIF', 'XITP']\n['동감', 'NS02', 'ZNZ', 'LEO', 'SLB', 'PHV', 'QMUA', 'XCUL', 'XITP', 'XSIN']\n['동갑', 'NS02', 'ZNZ', 'LEO', 'SLB', 'NAB', 'QSHC']\n['동공', 'NS02', 'ZNZ', 'LEO', 'SLB', 'MCO', 'QMEA']\n['동굴', 'NS03', 'ZNX', 'PXN', 'NZX', 'SLB', 'LEO', 'QMUA']\n['동그라미', 'NS01', 'ZNZ', 'LEO', 'SLD', 'HAL', 'MCO', 'QPRO', 'XCOS']\n['동급', 'NS02', 'ZNX', 'PXN', 'NZX', 'SLB', 'LEO', 'QDID']\n['동기', 'NS01', 'ZNM', 'LEO', 'SLB', 'PSN']\n['동네', 'NS01', 'ZND', 'LEO', 'SLB', 'MES', 'NOU']\n['동녘', 'NS02', 'ZNZ', 'LEO', 'SLB', 'NAB', 'QXDE', 'QXEL', 'QDEC', 'QLIG', 'QHUM']\n['동동주', 'NS01', 'ZNZ', 'LEO', 'SLC', 'HAL', 'MCO', 'QREG']\n['동력', 'NS02', 'ZNZ', 'LEO', 'SLB', 'NAB', 'QPRC', 'XPLA']\n['동료', 'NS01', 'ZNZ', 'LEO', 'SLB', 'MCO', 'QHUM', 'XQFT', 'XTUR', 'XRES']\n['동맹', 'NS02', 'ZNZ', 'LEO', 'SLB', 'PHV', 'QXDE', 'QXEL', 'QPRO', 'QLIG']\n['동무', 'NS01', 'ZNZ', 'LEO', 'SLB', 'MCO', 'QSOA', 'QREG', 'XCUL', 'XITP']\n['동문', 'NS02', 'ZNX', 'PXN', 'NZX', 'SLB', 'LEO', 'QMEA']\n['동물', 'NS03', 'ZNZ', 'LEO', 'SLB', 'MCO', 'QINA', 'XCUL']\n['동방', 'NS02', 'ZNZ', 'LEO', 'SLB', 'NAB', 'QXPO', 'QXFP', 'QEVN', 'QHUM', 'XSWN']\n['동백', 'NS02', 'ZNZ', 'LEO', 'SLB', 'MCO', 'QBIC', 'XRES', 'XCUL']\n['동사', 'NS01', 'ZNZ', 'LEO', 'SLB', 'NAB', 'QXDE', 'QXEL', 'QPSI']\n['동산', 'NS02', 'ZNX', 'PXN', 'NZX', 'SLB', 'LEO', 'QCRA']\n['동상', 'NS02', 'ZNX', 'SXN', 'NZX', 'SLB', 'LEO', 'QMEA', 'QSOA', 'QHUM', 'QART', 'XCUL', 'XECO']\n['동생', 'NS02', 'ZNZ', 'LEO', 'SLB', 'MCO', 'QXDE', 'QXEL', 'QINA', 'XSWN']\n['동선', 'NS02', 'ZNZ', 'LEO', 'SLB', 'PHV', 'QLAN']\n"
    }
   ],
   "source": [
    "import pandas as pd\n",
    "import numpy as np\n",
    "import os, re\n",
    "\n",
    "f1 = open(r\"E:\\Develop\\python\\NLP\\DecoLexO\\DecoLexO\\example\\inf_res.inf.dic\", \"r\", encoding='utf-8-sig')\n",
    "dic = f1.readlines()\n",
    "data = []\n",
    "for info in dic:\n",
    "    info = info.replace(' \\n', '')\n",
    "    syl = info.replace('.', '+')\n",
    "    syl = syl.split(',')[1:][0]\n",
    "    info = syl.split('+')\n",
    "\n",
    "    # 카테고리 만들기\n",
    "    cat = info[-1]\n",
    "    cat = cat[-3:]\n",
    "    cat = cat[0] + 'S' + cat[1:]\n",
    "    del info[-1]\n",
    "    del info[1]\n",
    "    info.insert(1, cat)\n",
    "\n",
    "    print(info)\n",
    "    data.append(info)\n"
   ]
  },
  {
   "cell_type": "code",
   "execution_count": 114,
   "metadata": {},
   "outputs": [],
   "source": [
    "sem_rgx = re.compile(r'[Q][A-Z]{3}')  #semantic tagset\n",
    "syn_rgx = re.compile(r'[Y][A-Z]{3}')  #syntactic tagset\n",
    "dom_rgx = re.compile(r'[X]{1}[ABCDEFGHIJKLMNOPQRSTUVWYZ]{3}')  #domain tagset\n",
    "ent_rgx = re.compile(r'[X]{2}[A-Z]{2}') #entity tagset\n",
    "mor_rgx = re.compile(r'[A-Z]{3}') #morph tagset\n",
    "word_rgx = re.compile(r\"[가-힣]+\")\n",
    "cat_rgx = re.compile(r\"[A-Z]S[0-9]{2}\")"
   ]
  },
  {
   "cell_type": "code",
   "execution_count": 133,
   "metadata": {
    "tags": []
   },
   "outputs": [
    {
     "output_type": "stream",
     "name": "stdout",
     "text": "0     1    2    3    4    5    6    7  8  9   ... 56 57 58 59 60 61 62  \\\n0     가게  NS01  ZNZ  LEO  SLB  HAL  MCO             ...                        \n1     가격  NS02  ZNZ  LEO  SLB  NAB                  ...                        \n2     가결  NS03  ZNZ  LEO  SLB  PHV                  ...                        \n3     가계  NS01  ZNZ  LEO  SLB  NAB                  ...                        \n4     가곡  NS02  ZNX  PXN  NZX  SLB  LEO  HAL        ...                        \n...   ..   ...  ...  ...  ...  ...  ...  ... .. ..  ... .. .. .. .. .. .. ..   \n1994  동사  NS01  ZNZ  LEO  SLB  NAB                  ...                        \n1995  동산  NS02  ZNX  PXN  NZX  SLB  LEO             ...                        \n1996  동상  NS02  ZNX  SXN  NZX  SLB  LEO             ...                        \n1997  동생  NS02  ZNZ  LEO  SLB  MCO                  ...                        \n1998  동선  NS02  ZNZ  LEO  SLB  PHV                  ...                        \n\n     63 64 65  \n0              \n1              \n2              \n3              \n4              \n...  .. .. ..  \n1994           \n1995           \n1996           \n1997           \n1998           \n\n[1999 rows x 66 columns]\n"
    }
   ],
   "source": [
    "data_lst = []\n",
    "for info in data:\n",
    "    temp_lst = []\n",
    "    if len(temp_lst) == 0:\n",
    "        for tag in info:\n",
    "            if word_rgx.fullmatch(tag):\n",
    "                temp_lst.append(tag)\n",
    "            elif cat_rgx.fullmatch(tag):\n",
    "                temp_lst.append(tag)\n",
    "    if len(temp_lst) == 2:\n",
    "        for tag in info:\n",
    "            if mor_rgx.fullmatch(tag):\n",
    "                temp_lst.append(tag)\n",
    "        while len(temp_lst) < 17:\n",
    "            temp_lst.append('')\n",
    "    if len(temp_lst) == 17:\n",
    "        for tag in info:\n",
    "            if syn_rgx.fullmatch(tag):\n",
    "                temp_lst.append(tag)\n",
    "        while len(temp_lst) < 32:\n",
    "            temp_lst.append('')\n",
    "    if len(temp_lst) == 32:\n",
    "        for tag in info:\n",
    "            if sem_rgx.fullmatch(tag):\n",
    "                temp_lst.append(tag)\n",
    "        while len(temp_lst) < 47:\n",
    "            temp_lst.append('')\n",
    "    if len(temp_lst) == 47:\n",
    "        for tag in info:\n",
    "            if ent_rgx.fullmatch(tag):\n",
    "                temp_lst.append(tag)\n",
    "        while len(temp_lst) < 50:\n",
    "            temp_lst.append('')\n",
    "    if len(temp_lst) == 50:\n",
    "        for tag in info:\n",
    "            if dom_rgx.fullmatch(tag):\n",
    "                temp_lst.append(tag)\n",
    "        while len(temp_lst) < 66:\n",
    "            temp_lst.append('')\n",
    "    data_lst.append(temp_lst)\n",
    "\n",
    "df = pd.DataFrame(data_lst)\n",
    "print(df)"
   ]
  },
  {
   "cell_type": "code",
   "execution_count": 134,
   "metadata": {},
   "outputs": [],
   "source": [
    "def check_info(word):\n",
    "    sem_rgx = re.compile (r'[Q][A-Z]{3}')  # semantic tagset\n",
    "    syn_rgx = re.compile (r'[Y][A-Z]{3}')  # syntactic tagset\n",
    "    dom_rgx = re.compile (r'[X]{1}[ABCDEFGHIJKLMNOPQRSTUVWYZ]{3}')  # domain tagset\n",
    "    ent_rgx = re.compile (r'[X]{2}[A-Z]{2}')  # entity tagset\n",
    "    mor_rgx = re.compile (r'[A-Z]{3}')  # morph tagset\n",
    "\n",
    "    if sem_rgx.match (word):\n",
    "        return 'SenInfo'\n",
    "    elif syn_rgx.match (word):\n",
    "        return 'SynInfo'\n",
    "    elif dom_rgx.match (word):\n",
    "        return 'DomInfo'\n",
    "    elif ent_rgx.match (word):\n",
    "        return 'EntInfo'\n",
    "    elif mor_rgx.match (word):\n",
    "        return 'MorInfo'\n",
    "\n",
    "\n",
    "# df을 입력받아 column name들을 지정해주고 df화 해주는 작업을 하는 함수\n",
    "def column_name(df):\n",
    "    # 첫 행 살리기\n",
    "    first = list (df.columns)\n",
    "    if first[0] == 0:\n",
    "        pass\n",
    "    else:\n",
    "        df.loc[0] = first\n",
    "        for val in first:\n",
    "            if 'Unnamed' in val:\n",
    "                x = first.index (val)\n",
    "                first[x] = np.nan\n",
    "        df.loc[0] = first\n",
    "    df = df.fillna ('')\n",
    "    sem_rgx = re.compile (r'[Q][A-Z]{3}')  # semantic tagset\n",
    "    syn_rgx = re.compile (r'[Y][A-Z]{3}')  # syntactic tagset\n",
    "    dom_rgx = re.compile (r'[X]{1}[ABCDEFGHIJKLMNOPQRSTUVWYZ]{3}')  # domain tagset\n",
    "    ent_rgx = re.compile (r'[X]{2}[A-Z]{2}')  # entity tagset\n",
    "    mor_rgx = re.compile (r'[A-Z]{3}')  # morph tagset\n",
    "\n",
    "    # 컬럼의 총 개수를 l에 저장한다.\n",
    "    # 컬럼의 개수 만큼 lemma와 category뒤에 lemma와 category개수인 2를 뺀만큼\n",
    "    # ''를 추가해 주어 해당 컬럼 개수 만큼의 리스트 col_nme을 만들어 준다.\n",
    "    l = len (df.columns)\n",
    "    col_nme = ['Lemma', 'Category']\n",
    "    for i in range (l - 2):\n",
    "        col_nme.append ('')\n",
    "    # sem =>SemInfo 뒤에 붙을 숫자\n",
    "    # syn =>SynInfo 뒤에 붙을 숫자\n",
    "    # dom =>DomInfo 뒤에 붙을 숫자\n",
    "    # ent =>EntInfo 뒤에 붙을 숫자\n",
    "    # mor =>MorInfo 뒤에 붙을 숫자\n",
    "    sem = 1\n",
    "    syn = 1\n",
    "    dom = 1\n",
    "    ent = 1\n",
    "    mor = 1\n",
    "\n",
    "    # x를 컬럼의 개수 만큼의 숫자로 지정해 준다.\n",
    "    # col_val은 해당 df의 열을 리스트화 시켜준 것이다.\n",
    "    for x in range (0, l):\n",
    "        col_val = df.iloc[:, x].tolist ()\n",
    "        # cnt가 0이면 일치하는 값을 못 찾았다는 의미로 해석(ex 모두 빈칸인 열을 만났을 때)\n",
    "        # 밑에서 cnt == 0 일때 앞에 정보를 보고 빈칸의 정보를 수정할 때 사용한다.\n",
    "        cnt = 0\n",
    "        # k로 col_val의 리스트 요소들을 하나씩 지정해주면서\n",
    "        # k가 sem_rgx, syn_rgx, dom_rgx, ent_rgx, mor_rgx에 해당되면\n",
    "        # 컬럼에 일치하는 값이 있었다는 의미로 cnt를 1 증가시켜 주고\n",
    "        # Info뒤에 붙을 숫자를 1씩 증가시켜 주고\n",
    "        # 비효율적인 탐색을 막기 위해 바로 break시켜준다.\n",
    "        for k in col_val:\n",
    "            if sem_rgx.match (k):\n",
    "                col_nme[x] = 'SemInfo' + str (sem)\n",
    "                sem += 1\n",
    "                cnt += 1\n",
    "                break\n",
    "\n",
    "            elif syn_rgx.match (k):\n",
    "                col_nme[x] = 'SynInfo' + str (syn)\n",
    "                syn += 1\n",
    "                cnt += 1\n",
    "                break\n",
    "\n",
    "            elif dom_rgx.match (k):\n",
    "                col_nme[x] = 'DomInfo' + str (dom)\n",
    "                dom += 1\n",
    "                cnt += 1\n",
    "                break\n",
    "\n",
    "            elif ent_rgx.match (k):\n",
    "                col_nme[x] = 'EntInfo' + str (ent)\n",
    "                ent += 1\n",
    "                cnt += 1\n",
    "                break\n",
    "\n",
    "            elif mor_rgx.match (k):\n",
    "                col_nme[x] = 'MorInfo' + str (mor)\n",
    "                mor += 1\n",
    "                cnt += 1\n",
    "                break\n",
    "\n",
    "        # 만약 위에서 일치하는 값을 못찾았을 때(ex 모두 빈칸인 열이었을 때)\n",
    "        # cnt는 0이므로 앞에 col_nme의 정보를 보고\n",
    "        # 해당 정보와 일치하는 정보의 Info숫자를 증가시켜준 값을 해당 리스트 위치에 저장해준다.\n",
    "        if cnt == 0:\n",
    "            if 'Sem' in col_nme[x - 1]:\n",
    "                col_nme[x] = 'SemInfo' + str (sem)\n",
    "                sem += 1\n",
    "\n",
    "            elif 'Syn' in col_nme[x - 1]:\n",
    "                col_nme[x] = 'SynInfo' + str (syn)\n",
    "                syn += 1\n",
    "\n",
    "            elif 'Dom' in col_nme[x - 1]:\n",
    "                col_nme[x] = 'DomInfo' + str (dom)\n",
    "                dom += 1\n",
    "\n",
    "            elif 'Ent' in col_nme[x - 1]:\n",
    "                col_nme[x] = 'EntInfo' + str (ent)\n",
    "                ent += 1\n",
    "\n",
    "            elif 'Mor' in col_nme[x - 1]:\n",
    "                col_nme[x] = 'MorInfo' + str (mor)\n",
    "                mor += 1\n",
    "\n",
    "    df.columns = col_nme\n",
    "\n",
    "    return df"
   ]
  },
  {
   "cell_type": "code",
   "execution_count": 135,
   "metadata": {
    "tags": []
   },
   "outputs": [
    {
     "output_type": "stream",
     "name": "stdout",
     "text": "Lemma Category MorInfo1 MorInfo2 MorInfo3 MorInfo4 MorInfo5 MorInfo6  \\\n0       가게     NS01      ZNZ      LEO      SLB      HAL      MCO            \n1       가격     NS02      ZNZ      LEO      SLB      NAB                     \n2       가결     NS03      ZNZ      LEO      SLB      PHV                     \n3       가계     NS01      ZNZ      LEO      SLB      NAB                     \n4       가곡     NS02      ZNX      PXN      NZX      SLB      LEO      HAL   \n...    ...      ...      ...      ...      ...      ...      ...      ...   \n1994    동사     NS01      ZNZ      LEO      SLB      NAB                     \n1995    동산     NS02      ZNX      PXN      NZX      SLB      LEO            \n1996    동상     NS02      ZNX      SXN      NZX      SLB      LEO            \n1997    동생     NS02      ZNZ      LEO      SLB      MCO                     \n1998    동선     NS02      ZNZ      LEO      SLB      PHV                     \n\n     MorInfo7 MorInfo8  ... DomInfo7 DomInfo8 DomInfo9 DomInfo10 DomInfo11  \\\n0                       ...                                                  \n1                       ...                                                  \n2                       ...                                                  \n3                       ...                                                  \n4                       ...                                                  \n...       ...      ...  ...      ...      ...      ...       ...       ...   \n1994                    ...                                                  \n1995                    ...                                                  \n1996                    ...                                                  \n1997                    ...                                                  \n1998                    ...                                                  \n\n     DomInfo12 DomInfo13 DomInfo14 DomInfo15 DomInfo16  \n0                                                       \n1                                                       \n2                                                       \n3                                                       \n4                                                       \n...        ...       ...       ...       ...       ...  \n1994                                                    \n1995                                                    \n1996                                                    \n1997                                                    \n1998                                                    \n\n[1999 rows x 66 columns]\n"
    }
   ],
   "source": [
    "df = column_name(df)\n",
    "print(df)"
   ]
  },
  {
   "cell_type": "code",
   "execution_count": 129,
   "metadata": {},
   "outputs": [],
   "source": [
    "col_nms = ['Lemma', 'Category', 'MorInfo1', 'MorInfo2', 'MorInfo3', 'MorInfo4', 'MorInfo5', 'MorInfo6', 'MorInfo7', 'MorInfo8', 'MorInfo9', 'MorInfo10', 'MorInfo11', 'MorInfo12', 'MorInfo13', 'MorInfo14', 'MorInfo15', 'SynInfo1', 'SynInfo2', 'SynInfo3', 'SynInfo4', 'SynInfo5', 'SynInfo6', 'SynInfo7', 'SynInfo8', 'SynInfo9', 'SynInfo10', 'SynInfo11', 'SynInfo12', 'SynInfo13', 'SynInfo14', 'SynInfo15', 'SemInfo1', 'SemInfo2', 'SemInfo3', 'SemInfo4', 'SemInfo5', 'SemInfo6', 'SemInfo7', 'SemInfo8', 'SemInfo9', 'SemInfo10', 'SemInfo11', 'SemInfo12', 'SemInfo13', 'SemInfo14', 'SemInfo15', 'EntInfo1', 'EntInfo2', 'EntInfo3','DomInfo1', 'DomInfo2', 'DomInfo3', 'DomInfo4', 'DomInfo5', 'DomInfo6', 'DomInfo7', 'DomInfo8', 'DomInfo9', 'DomInfo10', 'DomInfo11', 'DomInfo12', 'DomInfo13', 'DomInfo14', 'DomInfo15']"
   ]
  },
  {
   "cell_type": "code",
   "execution_count": 130,
   "metadata": {
    "tags": []
   },
   "outputs": [
    {
     "output_type": "stream",
     "name": "stdout",
     "text": "Lemma Category MorInfo1 MorInfo2 MorInfo3 MorInfo4 MorInfo5 MorInfo6  \\\n0     NS01      ZNZ      LEO      SLB      HAL      MCO                     \n1     NS02      ZNZ      LEO      SLB      NAB                              \n2     NS03      ZNZ      LEO      SLB      PHV                              \n3     NS01      ZNZ      LEO      SLB      NAB                              \n4     NS02      ZNX      PXN      NZX      SLB      LEO      HAL            \n...    ...      ...      ...      ...      ...      ...      ...      ...   \n1994  NS01      ZNZ      LEO      SLB      NAB                              \n1995  NS02      ZNX      PXN      NZX      SLB      LEO                     \n1996  NS02      ZNX      SXN      NZX      SLB      LEO                     \n1997  NS02      ZNZ      LEO      SLB      MCO                              \n1998  NS02      ZNZ      LEO      SLB      PHV                              \n\n     MorInfo7 MorInfo8  ... DomInfo6 DomInfo7 DomInfo8 DomInfo9 DomInfo10  \\\n0                       ...                                                 \n1                       ...                                                 \n2                       ...                                                 \n3                       ...                                                 \n4                       ...                                                 \n...       ...      ...  ...      ...      ...      ...      ...       ...   \n1994                    ...                                                 \n1995                    ...                                                 \n1996                    ...                                                 \n1997                    ...                                                 \n1998                    ...                                                 \n\n     DomInfo11 DomInfo12 DomInfo13 DomInfo14 DomInfo15  \n0                                                       \n1                                                       \n2                                                       \n3                                                       \n4                                                       \n...        ...       ...       ...       ...       ...  \n1994                                                    \n1995                                                    \n1996                                                    \n1997                                                    \n1998                                                    \n\n[1999 rows x 65 columns]\n"
    }
   ],
   "source": [
    "df.columns = col_nms\n",
    "print(df)"
   ]
  },
  {
   "cell_type": "code",
   "execution_count": null,
   "metadata": {},
   "outputs": [],
   "source": []
  }
 ],
 "metadata": {
  "language_info": {
   "codemirror_mode": {
    "name": "ipython",
    "version": 3
   },
   "file_extension": ".py",
   "mimetype": "text/x-python",
   "name": "python",
   "nbconvert_exporter": "python",
   "pygments_lexer": "ipython3",
   "version": "3.7.7-final"
  },
  "orig_nbformat": 2,
  "kernelspec": {
   "name": "python37664bitbaseconda7ccc1197ea424c04aa8e970980241a68",
   "display_name": "Python 3.7.6 64-bit ('base': conda)"
  }
 },
 "nbformat": 4,
 "nbformat_minor": 2
}