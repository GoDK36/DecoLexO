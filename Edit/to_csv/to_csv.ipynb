{
 "nbformat": 4,
 "nbformat_minor": 2,
 "metadata": {
  "language_info": {
   "name": "python",
   "codemirror_mode": {
    "name": "ipython",
    "version": 3
   },
   "version": "3.7.6-final"
  },
  "orig_nbformat": 2,
  "file_extension": ".py",
  "mimetype": "text/x-python",
  "name": "python",
  "npconvert_exporter": "python",
  "pygments_lexer": "ipython3",
  "version": 3,
  "kernelspec": {
   "name": "python37664bitbaseconda7ccc1197ea424c04aa8e970980241a68",
   "display_name": "Python 3.7.6 64-bit ('base': conda)"
  }
 },
 "cells": [
  {
   "cell_type": "code",
   "execution_count": 26,
   "metadata": {},
   "outputs": [],
   "source": [
    "import pandas as pd\n",
    "import numpy as np\n",
    "import os, re\n",
    "\n",
    "df = pd.read_csv(r'E:\\Programming\\python\\NLP\\DecoLexO\\DecoLexO\\Edit\\example\\DECO-Ver5.2-NS-2019-Kernel-DevTest.csv',encoding='utf8')\n",
    "\n",
    "\n",
    "####행 이름 decolex처럼 변경하기####\n",
    "\n",
    "#첫 행 살리기\n",
    "col_rgx = re.compile(r'[A-Za-z]{6,}[:\\.]?')\n",
    "first = list(df.columns)\n",
    "df.loc[0] = first\n",
    "for val in first:\n",
    "    m = col_rgx.match(val)\n",
    "    if m:\n",
    "        x = first.index(val)\n",
    "        first[x] = np.nan\n",
    "    else:\n",
    "        continue\n",
    "df.loc[0] = first\n",
    "\n",
    "#행 이름 설정해주기\n",
    "col_nme = ['Lemma','Category','Morph1']\n",
    "\n",
    "l = len(df.columns)\n",
    "for i in range(1, l - 2):\n",
    "    info = 'info' + str(i)\n",
    "    col_nme.append(info)\n",
    "\n",
    "df.columns = col_nme\n",
    "\n",
    "\n",
    "#편집을 원하는 행을 리스트화 하는 함수\n",
    "#df에는 불러온 데이터프레임을 넣고 col에는 수정 원하는 행 이름을 삽입\n",
    "def df2first(df,col):\n",
    "    col_first = list(df.columns)\n",
    "    x = col_first.index(col)\n",
    "    res = df.iloc[:,x:x+1].values.tolist()\n",
    "    res = sum(res,[])\n",
    "    return res\n",
    "\n",
    "#add하기    \n",
    "def add(df, col, add_place, add_text):\n",
    "    res = []\n",
    "    first = df2first(df,col)\n",
    "    if add_place == 'begin':\n",
    "        for x in first:\n",
    "            res.append(add_text + x)\n",
    "    if add_place == 'end':\n",
    "        for x in first:\n",
    "            res.append(x + add_text)   \n",
    "    #열 추가\n",
    "    del df[col]\n",
    "    df[col] = res\n",
    "    \n",
    "    #열 위치 재정렬\n",
    "    df = df[col_nme]\n",
    "    \n",
    "    return(df)\n",
    "\n",
    "n_df = add(df, input('수정을 원하는 행 이름 선택(Lemma, Category) '), input('begin or end? '), input('add text: '))\n",
    "\n",
    "df2csv(n_df, r'E:\\Programming\\python\\NLP\\DecoLexO\\DecoLexO\\Edit\\results\\result.csv')"
   ]
  },
  {
   "cell_type": "code",
   "execution_count": 25,
   "metadata": {},
   "outputs": [],
   "source": [
    "##csv파일로 만들기\n",
    "def df2csv(df, filepath):\n",
    "    df.to_csv(filepath, header=False, index=False, na_rep='')\n",
    "\n"
   ]
  },
  {
   "cell_type": "code",
   "execution_count": 15,
   "metadata": {},
   "outputs": [
    {
     "data": {
      "text/html": "<div>\n<style scoped>\n    .dataframe tbody tr th:only-of-type {\n        vertical-align: middle;\n    }\n\n    .dataframe tbody tr th {\n        vertical-align: top;\n    }\n\n    .dataframe thead th {\n        text-align: right;\n    }\n</style>\n<table border=\"1\" class=\"dataframe\">\n  <thead>\n    <tr style=\"text-align: right;\">\n      <th></th>\n      <th>Lemma</th>\n      <th>Category</th>\n      <th>Morph1</th>\n      <th>info1</th>\n      <th>info2</th>\n      <th>info3</th>\n      <th>info4</th>\n      <th>info5</th>\n      <th>info6</th>\n      <th>info7</th>\n      <th>...</th>\n      <th>info53</th>\n      <th>info54</th>\n      <th>info55</th>\n      <th>info56</th>\n      <th>info57</th>\n      <th>info58</th>\n      <th>info59</th>\n      <th>info60</th>\n      <th>info61</th>\n      <th>info62</th>\n    </tr>\n  </thead>\n  <tbody>\n    <tr>\n      <th>0</th>\n      <td>add가게</td>\n      <td>NS01</td>\n      <td>ZNZ</td>\n      <td>LEO</td>\n      <td>SLB</td>\n      <td>HAL</td>\n      <td>MCO</td>\n      <td>NaN</td>\n      <td>NaN</td>\n      <td>NaN</td>\n      <td>...</td>\n      <td>NaN</td>\n      <td>NaN</td>\n      <td>NaN</td>\n      <td>NaN</td>\n      <td>NaN</td>\n      <td>NaN</td>\n      <td>NaN</td>\n      <td>NaN</td>\n      <td>NaN</td>\n      <td>NaN</td>\n    </tr>\n    <tr>\n      <th>1</th>\n      <td>add가결</td>\n      <td>NS03</td>\n      <td>ZNZ</td>\n      <td>LEO</td>\n      <td>SLB</td>\n      <td>PHV</td>\n      <td>NaN</td>\n      <td>NaN</td>\n      <td>NaN</td>\n      <td>NaN</td>\n      <td>...</td>\n      <td>NaN</td>\n      <td>NaN</td>\n      <td>NaN</td>\n      <td>NaN</td>\n      <td>NaN</td>\n      <td>NaN</td>\n      <td>NaN</td>\n      <td>NaN</td>\n      <td>NaN</td>\n      <td>NaN</td>\n    </tr>\n    <tr>\n      <th>2</th>\n      <td>add가계</td>\n      <td>NS01</td>\n      <td>ZNZ</td>\n      <td>LEO</td>\n      <td>SLB</td>\n      <td>NAB</td>\n      <td>NaN</td>\n      <td>NaN</td>\n      <td>NaN</td>\n      <td>NaN</td>\n      <td>...</td>\n      <td>NaN</td>\n      <td>NaN</td>\n      <td>NaN</td>\n      <td>NaN</td>\n      <td>NaN</td>\n      <td>NaN</td>\n      <td>NaN</td>\n      <td>NaN</td>\n      <td>NaN</td>\n      <td>NaN</td>\n    </tr>\n    <tr>\n      <th>3</th>\n      <td>add가곡</td>\n      <td>NS02</td>\n      <td>ZNX</td>\n      <td>PXN</td>\n      <td>NZX</td>\n      <td>SLB</td>\n      <td>LEO</td>\n      <td>HAL</td>\n      <td>NaN</td>\n      <td>NaN</td>\n      <td>...</td>\n      <td>NaN</td>\n      <td>NaN</td>\n      <td>NaN</td>\n      <td>NaN</td>\n      <td>NaN</td>\n      <td>NaN</td>\n      <td>NaN</td>\n      <td>NaN</td>\n      <td>NaN</td>\n      <td>NaN</td>\n    </tr>\n    <tr>\n      <th>4</th>\n      <td>add가공</td>\n      <td>NS02</td>\n      <td>ZNM</td>\n      <td>LEO</td>\n      <td>SLB</td>\n      <td>PSN</td>\n      <td>NaN</td>\n      <td>NaN</td>\n      <td>NaN</td>\n      <td>NaN</td>\n      <td>...</td>\n      <td>NaN</td>\n      <td>NaN</td>\n      <td>NaN</td>\n      <td>NaN</td>\n      <td>NaN</td>\n      <td>XCUL</td>\n      <td>XSIN</td>\n      <td>NaN</td>\n      <td>NaN</td>\n      <td>NaN</td>\n    </tr>\n    <tr>\n      <th>...</th>\n      <td>...</td>\n      <td>...</td>\n      <td>...</td>\n      <td>...</td>\n      <td>...</td>\n      <td>...</td>\n      <td>...</td>\n      <td>...</td>\n      <td>...</td>\n      <td>...</td>\n      <td>...</td>\n      <td>...</td>\n      <td>...</td>\n      <td>...</td>\n      <td>...</td>\n      <td>...</td>\n      <td>...</td>\n      <td>...</td>\n      <td>...</td>\n      <td>...</td>\n      <td>...</td>\n    </tr>\n    <tr>\n      <th>1993</th>\n      <td>add동사</td>\n      <td>NS01</td>\n      <td>ZNZ</td>\n      <td>LEO</td>\n      <td>SLB</td>\n      <td>NAB</td>\n      <td>NaN</td>\n      <td>NaN</td>\n      <td>NaN</td>\n      <td>NaN</td>\n      <td>...</td>\n      <td>NaN</td>\n      <td>NaN</td>\n      <td>NaN</td>\n      <td>NaN</td>\n      <td>NaN</td>\n      <td>NaN</td>\n      <td>NaN</td>\n      <td>NaN</td>\n      <td>NaN</td>\n      <td>NaN</td>\n    </tr>\n    <tr>\n      <th>1994</th>\n      <td>add동산</td>\n      <td>NS02</td>\n      <td>ZNX</td>\n      <td>PXN</td>\n      <td>NZX</td>\n      <td>SLB</td>\n      <td>LEO</td>\n      <td>NaN</td>\n      <td>NaN</td>\n      <td>NaN</td>\n      <td>...</td>\n      <td>NaN</td>\n      <td>NaN</td>\n      <td>NaN</td>\n      <td>NaN</td>\n      <td>NaN</td>\n      <td>NaN</td>\n      <td>NaN</td>\n      <td>NaN</td>\n      <td>NaN</td>\n      <td>NaN</td>\n    </tr>\n    <tr>\n      <th>1995</th>\n      <td>add동상</td>\n      <td>NS02</td>\n      <td>ZNX</td>\n      <td>SXN</td>\n      <td>NZX</td>\n      <td>SLB</td>\n      <td>LEO</td>\n      <td>NaN</td>\n      <td>NaN</td>\n      <td>NaN</td>\n      <td>...</td>\n      <td>NaN</td>\n      <td>NaN</td>\n      <td>NaN</td>\n      <td>NaN</td>\n      <td>NaN</td>\n      <td>XCUL</td>\n      <td>XECO</td>\n      <td>NaN</td>\n      <td>NaN</td>\n      <td>NaN</td>\n    </tr>\n    <tr>\n      <th>1996</th>\n      <td>add동생</td>\n      <td>NS02</td>\n      <td>ZNZ</td>\n      <td>LEO</td>\n      <td>SLB</td>\n      <td>MCO</td>\n      <td>NaN</td>\n      <td>NaN</td>\n      <td>NaN</td>\n      <td>NaN</td>\n      <td>...</td>\n      <td>NaN</td>\n      <td>NaN</td>\n      <td>NaN</td>\n      <td>NaN</td>\n      <td>XSWN</td>\n      <td>NaN</td>\n      <td>NaN</td>\n      <td>NaN</td>\n      <td>NaN</td>\n      <td>NaN</td>\n    </tr>\n    <tr>\n      <th>1997</th>\n      <td>add동선</td>\n      <td>NS02</td>\n      <td>ZNZ</td>\n      <td>LEO</td>\n      <td>SLB</td>\n      <td>PHV</td>\n      <td>NaN</td>\n      <td>NaN</td>\n      <td>NaN</td>\n      <td>NaN</td>\n      <td>...</td>\n      <td>NaN</td>\n      <td>NaN</td>\n      <td>NaN</td>\n      <td>NaN</td>\n      <td>NaN</td>\n      <td>NaN</td>\n      <td>NaN</td>\n      <td>NaN</td>\n      <td>NaN</td>\n      <td>NaN</td>\n    </tr>\n  </tbody>\n</table>\n<p>1998 rows × 65 columns</p>\n</div>",
      "text/plain": "      Lemma Category Morph1 info1 info2 info3 info4 info5 info6 info7  ...  \\\n0     add가게     NS01    ZNZ   LEO   SLB   HAL   MCO   NaN   NaN   NaN  ...   \n1     add가결     NS03    ZNZ   LEO   SLB   PHV   NaN   NaN   NaN   NaN  ...   \n2     add가계     NS01    ZNZ   LEO   SLB   NAB   NaN   NaN   NaN   NaN  ...   \n3     add가곡     NS02    ZNX   PXN   NZX   SLB   LEO   HAL   NaN   NaN  ...   \n4     add가공     NS02    ZNM   LEO   SLB   PSN   NaN   NaN   NaN   NaN  ...   \n...     ...      ...    ...   ...   ...   ...   ...   ...   ...   ...  ...   \n1993  add동사     NS01    ZNZ   LEO   SLB   NAB   NaN   NaN   NaN   NaN  ...   \n1994  add동산     NS02    ZNX   PXN   NZX   SLB   LEO   NaN   NaN   NaN  ...   \n1995  add동상     NS02    ZNX   SXN   NZX   SLB   LEO   NaN   NaN   NaN  ...   \n1996  add동생     NS02    ZNZ   LEO   SLB   MCO   NaN   NaN   NaN   NaN  ...   \n1997  add동선     NS02    ZNZ   LEO   SLB   PHV   NaN   NaN   NaN   NaN  ...   \n\n     info53 info54 info55 info56 info57 info58 info59 info60 info61 info62  \n0       NaN    NaN    NaN    NaN    NaN    NaN    NaN    NaN    NaN    NaN  \n1       NaN    NaN    NaN    NaN    NaN    NaN    NaN    NaN    NaN    NaN  \n2       NaN    NaN    NaN    NaN    NaN    NaN    NaN    NaN    NaN    NaN  \n3       NaN    NaN    NaN    NaN    NaN    NaN    NaN    NaN    NaN    NaN  \n4       NaN    NaN    NaN    NaN    NaN   XCUL   XSIN    NaN    NaN    NaN  \n...     ...    ...    ...    ...    ...    ...    ...    ...    ...    ...  \n1993    NaN    NaN    NaN    NaN    NaN    NaN    NaN    NaN    NaN    NaN  \n1994    NaN    NaN    NaN    NaN    NaN    NaN    NaN    NaN    NaN    NaN  \n1995    NaN    NaN    NaN    NaN    NaN   XCUL   XECO    NaN    NaN    NaN  \n1996    NaN    NaN    NaN    NaN   XSWN    NaN    NaN    NaN    NaN    NaN  \n1997    NaN    NaN    NaN    NaN    NaN    NaN    NaN    NaN    NaN    NaN  \n\n[1998 rows x 65 columns]"
     },
     "execution_count": 15,
     "metadata": {},
     "output_type": "execute_result"
    }
   ],
   "source": [
    "n_df"
   ]
  },
  {
   "cell_type": "code",
   "execution_count": null,
   "metadata": {},
   "outputs": [],
   "source": []
  }
 ]
}