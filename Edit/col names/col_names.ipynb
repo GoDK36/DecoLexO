{
 "nbformat": 4,
 "nbformat_minor": 2,
 "metadata": {
  "language_info": {
   "name": "python",
   "codemirror_mode": {
    "name": "ipython",
    "version": 3
   },
   "version": "3.7.6-final"
  },
  "orig_nbformat": 2,
  "file_extension": ".py",
  "mimetype": "text/x-python",
  "name": "python",
  "npconvert_exporter": "python",
  "pygments_lexer": "ipython3",
  "version": 3,
  "kernelspec": {
   "name": "python37664bitbaseconda7ccc1197ea424c04aa8e970980241a68",
   "display_name": "Python 3.7.6 64-bit ('base': conda)"
  }
 },
 "cells": [
  {
   "cell_type": "code",
   "execution_count": 31,
   "metadata": {},
   "outputs": [],
   "source": [
    "import pandas as pd\n",
    "import numpy as np\n",
    "import os, re\n",
    "\n",
    "df = pd.read_csv(r'E:\\Programming\\python\\NLP\\DecoLexO\\DecoLexO\\Edit\\example\\DECO-Ver5.2-NS-2019-Kernel-DevTest.csv')\n",
    "\n",
    "\n",
    "####행 이름 decolex처럼 변경하기####\n",
    "\n",
    "#첫 행 살리기\n",
    "col_rgx = re.compile(r'[A-Za-z]{6,}[:\\.]?')\n",
    "first = list(df.columns)\n",
    "df.loc[0] = first\n",
    "for val in first:\n",
    "    m = col_rgx.match(val)\n",
    "    if m:\n",
    "        x = first.index(val)\n",
    "        first[x] = np.nan\n",
    "    else:\n",
    "        continue\n",
    "df.loc[0] = first\n",
    "\n",
    "# 행 이름 설정해주기\n",
    "col_nme = ['Lemma','Category']\n",
    "\n",
    "l = len(df.columns)\n",
    "for i in range(1, l - 1):\n",
    "    info = 'morph' + str(i)\n",
    "    col_nme.append(info)\n",
    "\n",
    "df.columns = col_nme"
   ]
  },
  {
   "cell_type": "code",
   "execution_count": 32,
   "metadata": {},
   "outputs": [
    {
     "data": {
      "text/html": "<div>\n<style scoped>\n    .dataframe tbody tr th:only-of-type {\n        vertical-align: middle;\n    }\n\n    .dataframe tbody tr th {\n        vertical-align: top;\n    }\n\n    .dataframe thead th {\n        text-align: right;\n    }\n</style>\n<table border=\"1\" class=\"dataframe\">\n  <thead>\n    <tr style=\"text-align: right;\">\n      <th></th>\n      <th>Lemma</th>\n      <th>Category</th>\n      <th>morph1</th>\n      <th>morph2</th>\n      <th>morph3</th>\n      <th>morph4</th>\n      <th>morph5</th>\n      <th>morph6</th>\n      <th>morph7</th>\n      <th>morph8</th>\n      <th>...</th>\n      <th>morph54</th>\n      <th>morph55</th>\n      <th>morph56</th>\n      <th>morph57</th>\n      <th>morph58</th>\n      <th>morph59</th>\n      <th>morph60</th>\n      <th>morph61</th>\n      <th>morph62</th>\n      <th>morph63</th>\n    </tr>\n  </thead>\n  <tbody>\n    <tr>\n      <th>0</th>\n      <td>가게</td>\n      <td>NS01</td>\n      <td>ZNZ</td>\n      <td>LEO</td>\n      <td>SLB</td>\n      <td>HAL</td>\n      <td>MCO</td>\n      <td>NaN</td>\n      <td>NaN</td>\n      <td>NaN</td>\n      <td>...</td>\n      <td>NaN</td>\n      <td>NaN</td>\n      <td>NaN</td>\n      <td>NaN</td>\n      <td>NaN</td>\n      <td>NaN</td>\n      <td>NaN</td>\n      <td>NaN</td>\n      <td>NaN</td>\n      <td>NaN</td>\n    </tr>\n    <tr>\n      <th>1</th>\n      <td>가결</td>\n      <td>NS03</td>\n      <td>ZNZ</td>\n      <td>LEO</td>\n      <td>SLB</td>\n      <td>PHV</td>\n      <td>NaN</td>\n      <td>NaN</td>\n      <td>NaN</td>\n      <td>NaN</td>\n      <td>...</td>\n      <td>NaN</td>\n      <td>NaN</td>\n      <td>NaN</td>\n      <td>NaN</td>\n      <td>NaN</td>\n      <td>NaN</td>\n      <td>NaN</td>\n      <td>NaN</td>\n      <td>NaN</td>\n      <td>NaN</td>\n    </tr>\n    <tr>\n      <th>2</th>\n      <td>가계</td>\n      <td>NS01</td>\n      <td>ZNZ</td>\n      <td>LEO</td>\n      <td>SLB</td>\n      <td>NAB</td>\n      <td>NaN</td>\n      <td>NaN</td>\n      <td>NaN</td>\n      <td>NaN</td>\n      <td>...</td>\n      <td>NaN</td>\n      <td>NaN</td>\n      <td>NaN</td>\n      <td>NaN</td>\n      <td>NaN</td>\n      <td>NaN</td>\n      <td>NaN</td>\n      <td>NaN</td>\n      <td>NaN</td>\n      <td>NaN</td>\n    </tr>\n    <tr>\n      <th>3</th>\n      <td>가곡</td>\n      <td>NS02</td>\n      <td>ZNX</td>\n      <td>PXN</td>\n      <td>NZX</td>\n      <td>SLB</td>\n      <td>LEO</td>\n      <td>HAL</td>\n      <td>NaN</td>\n      <td>NaN</td>\n      <td>...</td>\n      <td>NaN</td>\n      <td>NaN</td>\n      <td>NaN</td>\n      <td>NaN</td>\n      <td>NaN</td>\n      <td>NaN</td>\n      <td>NaN</td>\n      <td>NaN</td>\n      <td>NaN</td>\n      <td>NaN</td>\n    </tr>\n    <tr>\n      <th>4</th>\n      <td>가공</td>\n      <td>NS02</td>\n      <td>ZNM</td>\n      <td>LEO</td>\n      <td>SLB</td>\n      <td>PSN</td>\n      <td>NaN</td>\n      <td>NaN</td>\n      <td>NaN</td>\n      <td>NaN</td>\n      <td>...</td>\n      <td>NaN</td>\n      <td>NaN</td>\n      <td>NaN</td>\n      <td>NaN</td>\n      <td>NaN</td>\n      <td>XCUL</td>\n      <td>XSIN</td>\n      <td>NaN</td>\n      <td>NaN</td>\n      <td>NaN</td>\n    </tr>\n    <tr>\n      <th>...</th>\n      <td>...</td>\n      <td>...</td>\n      <td>...</td>\n      <td>...</td>\n      <td>...</td>\n      <td>...</td>\n      <td>...</td>\n      <td>...</td>\n      <td>...</td>\n      <td>...</td>\n      <td>...</td>\n      <td>...</td>\n      <td>...</td>\n      <td>...</td>\n      <td>...</td>\n      <td>...</td>\n      <td>...</td>\n      <td>...</td>\n      <td>...</td>\n      <td>...</td>\n      <td>...</td>\n    </tr>\n    <tr>\n      <th>1993</th>\n      <td>동사</td>\n      <td>NS01</td>\n      <td>ZNZ</td>\n      <td>LEO</td>\n      <td>SLB</td>\n      <td>NAB</td>\n      <td>NaN</td>\n      <td>NaN</td>\n      <td>NaN</td>\n      <td>NaN</td>\n      <td>...</td>\n      <td>NaN</td>\n      <td>NaN</td>\n      <td>NaN</td>\n      <td>NaN</td>\n      <td>NaN</td>\n      <td>NaN</td>\n      <td>NaN</td>\n      <td>NaN</td>\n      <td>NaN</td>\n      <td>NaN</td>\n    </tr>\n    <tr>\n      <th>1994</th>\n      <td>동산</td>\n      <td>NS02</td>\n      <td>ZNX</td>\n      <td>PXN</td>\n      <td>NZX</td>\n      <td>SLB</td>\n      <td>LEO</td>\n      <td>NaN</td>\n      <td>NaN</td>\n      <td>NaN</td>\n      <td>...</td>\n      <td>NaN</td>\n      <td>NaN</td>\n      <td>NaN</td>\n      <td>NaN</td>\n      <td>NaN</td>\n      <td>NaN</td>\n      <td>NaN</td>\n      <td>NaN</td>\n      <td>NaN</td>\n      <td>NaN</td>\n    </tr>\n    <tr>\n      <th>1995</th>\n      <td>동상</td>\n      <td>NS02</td>\n      <td>ZNX</td>\n      <td>SXN</td>\n      <td>NZX</td>\n      <td>SLB</td>\n      <td>LEO</td>\n      <td>NaN</td>\n      <td>NaN</td>\n      <td>NaN</td>\n      <td>...</td>\n      <td>NaN</td>\n      <td>NaN</td>\n      <td>NaN</td>\n      <td>NaN</td>\n      <td>NaN</td>\n      <td>XCUL</td>\n      <td>XECO</td>\n      <td>NaN</td>\n      <td>NaN</td>\n      <td>NaN</td>\n    </tr>\n    <tr>\n      <th>1996</th>\n      <td>동생</td>\n      <td>NS02</td>\n      <td>ZNZ</td>\n      <td>LEO</td>\n      <td>SLB</td>\n      <td>MCO</td>\n      <td>NaN</td>\n      <td>NaN</td>\n      <td>NaN</td>\n      <td>NaN</td>\n      <td>...</td>\n      <td>NaN</td>\n      <td>NaN</td>\n      <td>NaN</td>\n      <td>NaN</td>\n      <td>XSWN</td>\n      <td>NaN</td>\n      <td>NaN</td>\n      <td>NaN</td>\n      <td>NaN</td>\n      <td>NaN</td>\n    </tr>\n    <tr>\n      <th>1997</th>\n      <td>동선</td>\n      <td>NS02</td>\n      <td>ZNZ</td>\n      <td>LEO</td>\n      <td>SLB</td>\n      <td>PHV</td>\n      <td>NaN</td>\n      <td>NaN</td>\n      <td>NaN</td>\n      <td>NaN</td>\n      <td>...</td>\n      <td>NaN</td>\n      <td>NaN</td>\n      <td>NaN</td>\n      <td>NaN</td>\n      <td>NaN</td>\n      <td>NaN</td>\n      <td>NaN</td>\n      <td>NaN</td>\n      <td>NaN</td>\n      <td>NaN</td>\n    </tr>\n  </tbody>\n</table>\n<p>1998 rows × 65 columns</p>\n</div>",
      "text/plain": "     Lemma Category morph1 morph2 morph3 morph4 morph5 morph6 morph7 morph8  \\\n0       가게     NS01    ZNZ    LEO    SLB    HAL    MCO    NaN    NaN    NaN   \n1       가결     NS03    ZNZ    LEO    SLB    PHV    NaN    NaN    NaN    NaN   \n2       가계     NS01    ZNZ    LEO    SLB    NAB    NaN    NaN    NaN    NaN   \n3       가곡     NS02    ZNX    PXN    NZX    SLB    LEO    HAL    NaN    NaN   \n4       가공     NS02    ZNM    LEO    SLB    PSN    NaN    NaN    NaN    NaN   \n...    ...      ...    ...    ...    ...    ...    ...    ...    ...    ...   \n1993    동사     NS01    ZNZ    LEO    SLB    NAB    NaN    NaN    NaN    NaN   \n1994    동산     NS02    ZNX    PXN    NZX    SLB    LEO    NaN    NaN    NaN   \n1995    동상     NS02    ZNX    SXN    NZX    SLB    LEO    NaN    NaN    NaN   \n1996    동생     NS02    ZNZ    LEO    SLB    MCO    NaN    NaN    NaN    NaN   \n1997    동선     NS02    ZNZ    LEO    SLB    PHV    NaN    NaN    NaN    NaN   \n\n      ... morph54 morph55 morph56 morph57 morph58 morph59 morph60 morph61  \\\n0     ...     NaN     NaN     NaN     NaN     NaN     NaN     NaN     NaN   \n1     ...     NaN     NaN     NaN     NaN     NaN     NaN     NaN     NaN   \n2     ...     NaN     NaN     NaN     NaN     NaN     NaN     NaN     NaN   \n3     ...     NaN     NaN     NaN     NaN     NaN     NaN     NaN     NaN   \n4     ...     NaN     NaN     NaN     NaN     NaN    XCUL    XSIN     NaN   \n...   ...     ...     ...     ...     ...     ...     ...     ...     ...   \n1993  ...     NaN     NaN     NaN     NaN     NaN     NaN     NaN     NaN   \n1994  ...     NaN     NaN     NaN     NaN     NaN     NaN     NaN     NaN   \n1995  ...     NaN     NaN     NaN     NaN     NaN    XCUL    XECO     NaN   \n1996  ...     NaN     NaN     NaN     NaN    XSWN     NaN     NaN     NaN   \n1997  ...     NaN     NaN     NaN     NaN     NaN     NaN     NaN     NaN   \n\n     morph62 morph63  \n0        NaN     NaN  \n1        NaN     NaN  \n2        NaN     NaN  \n3        NaN     NaN  \n4        NaN     NaN  \n...      ...     ...  \n1993     NaN     NaN  \n1994     NaN     NaN  \n1995     NaN     NaN  \n1996     NaN     NaN  \n1997     NaN     NaN  \n\n[1998 rows x 65 columns]"
     },
     "execution_count": 32,
     "metadata": {},
     "output_type": "execute_result"
    }
   ],
   "source": [
    "df"
   ]
  },
  {
   "cell_type": "code",
   "execution_count": 5,
   "metadata": {},
   "outputs": [
    {
     "name": "stdout",
     "output_type": "stream",
     "text": "[nan, nan, nan]\n"
    }
   ],
   "source": [
    "for x in range(1, l - 1):\n",
    "    col_val = df['info'+str(x)].tolist()\n",
    "print(col_val[:3])"
   ]
  },
  {
   "cell_type": "code",
   "execution_count": 4,
   "metadata": {},
   "outputs": [
    {
     "name": "stdout",
     "output_type": "stream",
     "text": "[['가게', 'NS01', 'ZNZ', 'LEO', 'SLB', 'HAL', 'MCO', '', '', '', '', '', '', '', '', '', '', '', '', '', '', '', '', '', '', '', '', '', '', '', '', '', '', '', '', '', '', '', '', '', '', '', '', '', '', '', '', '', '', '', '', '', '', '', '', '', '', '', '', '', '', '', '', '', ''], ['가결', 'NS03', 'ZNZ', 'LEO', 'SLB', 'PHV', '', '', '', '', '', '', '', '', '', '', '', '', '', '', '', '', '', '', '', '', '', '', '', '', '', '', '', '', '', '', '', '', '', '', '', '', '', '', '', '', '', '', '', '', '', '', '', '', '', '', '', '', '', '', '', '', '', '', ''], ['가계', 'NS01', 'ZNZ', 'LEO', 'SLB', 'NAB', '', '', '', '', '', '', '', '', '', '', '', '', '', '', '', '', '', '', '', '', '', '', '', '', '', '', '', '', '', '', '', '', '', '', '', '', '', '', '', '', '', '', '', '', '', '', '', '', '', '', '', '', '', '', '', '', '', '', ''], ['가곡', 'NS02', 'ZNX', 'PXN', 'NZX', 'SLB', 'LEO', 'HAL', '', '', '', '', '', '', '', '', '', '', '', '', '', '', '', '', '', '', '', '', '', '', '', '', '', '', '', '', '', '', '', '', '', '', '', '', '', '', '', '', '', '', '', '', '', '', '', '', '', '', '', '', '', '', '', '', ''], ['가공', 'NS02', 'ZNM', 'LEO', 'SLB', 'PSN', '', '', '', '', '', '', '', '', '', '', '', '', '', '', '', '', '', '', '', '', '', '', '', '', '', '', '', '', '', '', '', '', '', 'QHUM', '', '', '', '', '', '', '', '', '', '', '', '', 'XQFT', '', '', '', '', '', '', '', 'XCUL', 'XSIN', '', '', ''], ['가관', 'NS02', 'ZNZ', 'LEO', 'SLB', 'NAB', '', '', '', '', '', '', '', '', '', '', '', '', '', '', '', '', '', '', '', '', '', '', '', '', '', '', '', '', '', '', '', '', '', '', '', '', '', '', '', '', '', '', '', '', '', '', '', '', '', '', '', '', '', '', '', '', '', '', ''], ['가구', 'NS01', 'ZND', 'LEO', 'SLB', 'MES', 'NOU', '', '', '', '', '', '', '', '', '', '', '', '', '', '', '', '', '', '', '', '', '', '', '', '', '', '', '', '', '', '', '', '', '', '', '', '', '', '', '', '', '', '', '', '', '', '', '', '', '', '', '', '', '', '', '', '', '', ''], ['가난', 'NS02', 'ZNZ', 'LEO', 'SLB', 'PHA', '', '', '', '', '', '', '', '', '', '', '', '', '', '', '', '', '', '', '', '', '', '', '', '', '', '', '', '', '', '', '', '', '', '', '', '', '', '', '', '', '', '', '', '', '', '', '', '', '', '', '', '', '', '', '', '', '', '', ''], ['가능', 'NS02', 'ZNM', 'LEO', 'SLB', 'MDN', '', '', '', '', '', '', '', '', '', '', '', '', '', '', '', '', '', '', '', '', '', '', '', '', '', '', '', '', '', '', '', '', '', '', '', '', '', '', '', '', '', '', '', '', '', '', '', '', '', '', '', '', '', '', '', '', '', '', ''], ['가닥', 'NS02', 'ZND', 'LEO', 'SLB', 'MES', 'NOU', '', '', '', '', '', '', '', '', '', '', '', '', '', '', '', '', '', '', '', '', '', '', '', '', '', '', '', '', '', '', '', '', '', '', '', '', '', '', '', '', '', '', '', '', '', '', '', '', '', '', '', '', '', '', '', '', '', '']]\n"
    }
   ],
   "source": [
    "import pandas as pd\n",
    "import numpy as np\n",
    "import os, re\n",
    "\n",
    "df = pd.read_csv(r'E:\\Programming\\python\\NLP\\DecoLexO\\DecoLexO\\Edit\\example\\DECO-Ver5.2-NS-2019-Kernel-DevTest.csv')\n",
    "\n",
    "\n",
    "####행 이름 decolex처럼 변경하기####\n",
    "\n",
    "#첫 행 살리기\n",
    "col_rgx = re.compile(r'[A-Za-z]{6,}[:\\.]?')\n",
    "first = list(df.columns)\n",
    "df.loc[0] = first\n",
    "for val in first:\n",
    "    m = col_rgx.match(val)\n",
    "    if m:\n",
    "        x = first.index(val)\n",
    "        first[x] = np.nan\n",
    "    else:\n",
    "        continue\n",
    "df.loc[0] = first\n",
    "\n",
    "df = df.fillna('')\n",
    "#행 이름 설정해주기\n",
    "col_nme = ['Lemma','Category']\n",
    "\n",
    "sem_rgx = re.compile(r'[Q][A-Z]{4}')\n",
    "\n",
    "l = len(df.columns)\n",
    "z = len(df.index)\n",
    "val = df.values.tolist()\n",
    "print(val[:10])\n",
    "\n",
    "for x in val:\n",
    "    for y in x:\n",
    "        sem = sem_rgx.match(y)\n",
    "        if sem:\n",
    "            num = x.index(y)\n",
    "            \n",
    "        else:\n",
    "            continue\n",
    "            "
   ]
  },
  {
   "cell_type": "code",
   "execution_count": 42,
   "metadata": {},
   "outputs": [
    {
     "name": "stdout",
     "output_type": "stream",
     "text": "QART\n"
    }
   ],
   "source": [
    "df = df.fillna('')\n",
    "sem_rgx = re.compile(r'[Q][A-Z]{3}')  #semantic tagset\n",
    "syn_rgx = re.compile(r'[Y][A-Z]{3}')  #syntactic tagset\n",
    "dom_rgx = re.compile(r'[X]{1}[ABCDEFGHIJKLMNOPQRSTUVWYZ]{3}')  #domain tagset\n",
    "ent_rgx = re.compile(r'[X]{2}[A-Z]{2}') #entity tagset\n",
    "mor_rgx = re.compile(r'[A-Z]{3}') #morph tagset\n",
    "seminfo = []\n",
    "syninfo = []\n",
    "dominfo = []\n",
    "entinfo = []\n",
    "morinfo = []\n",
    "for x in range(0, l):\n",
    "    col_val = df.iloc[:, x].tolist()\n",
    "    for k in col_val:\n",
    "        sem = sem_rgx.match(k)\n",
    "        syn = syn_rgx.match(k)\n",
    "        dom = dom_rgx.match(k)\n",
    "        ent = ent_rgx.match(k)\n",
    "        mor = mor_rgx.match(k)\n",
    "        if sem:  ##원하는 테그셋 찾기는 성공\n",
    "            seminfo.append(k)\n",
    "        elif syn:\n",
    "            syninfo.append(k)\n",
    "        elif dom:\n",
    "            dominfo.append(k)\n",
    "        elif ent:\n",
    "            entinfo.append(k)\n",
    "        elif mor:\n",
    "            morinfo.append(k)\n",
    "        else:\n",
    "            continue\n",
    "print(seminfo[-1]) #각 리스트의 0이 처음 등장하는 행, -1이 마지막으로 등장하는 행. 문제는 같은게 겹친다는 것.\n"
   ]
  },
  {
   "cell_type": "code",
   "execution_count": 10,
   "metadata": {},
   "outputs": [
    {
     "data": {
      "text/plain": "0       가게\n1       가결\n2       가계\n3       가곡\n4       가공\n        ..\n1993    동사\n1994    동산\n1995    동상\n1996    동생\n1997    동선\nName: Lemma, Length: 1998, dtype: object"
     },
     "execution_count": 10,
     "metadata": {},
     "output_type": "execute_result"
    }
   ],
   "source": [
    "df.iloc[:,0]"
   ]
  },
  {
   "cell_type": "code",
   "execution_count": null,
   "metadata": {},
   "outputs": [],
   "source": []
  }
 ]
}