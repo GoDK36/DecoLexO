{
 "nbformat": 4,
 "nbformat_minor": 2,
 "metadata": {
  "language_info": {
   "name": "python",
   "codemirror_mode": {
    "name": "ipython",
    "version": 3
   },
   "version": "3.7.6-final"
  },
  "orig_nbformat": 2,
  "file_extension": ".py",
  "mimetype": "text/x-python",
  "name": "python",
  "npconvert_exporter": "python",
  "pygments_lexer": "ipython3",
  "version": 3,
  "kernelspec": {
   "name": "python37664bitbaseconda7ccc1197ea424c04aa8e970980241a68",
   "display_name": "Python 3.7.6 64-bit ('base': conda)"
  }
 },
 "cells": [
  {
   "cell_type": "code",
   "execution_count": 54,
   "metadata": {},
   "outputs": [],
   "source": [
    "import pandas as pd\n",
    "import numpy as np\n",
    "import os, re\n",
    "\n",
    "df = pd.read_csv(r'E:\\Programming\\python\\NLP\\DecoLexO\\DecoLexO\\Edit\\example\\DECO-Ver5.2-NS-2019-Kernel-DevTest.csv')\n",
    "\n",
    "\n",
    "####행 이름 decolex처럼 변경하기####\n",
    "\n",
    "#첫 행 살리기\n",
    "col_rgx = re.compile(r'[A-Za-z]{6,}[:\\.]?')\n",
    "first = list(df.columns)\n",
    "df.loc[0] = first\n",
    "for val in first:\n",
    "    m = col_rgx.match(val)\n",
    "    if m:\n",
    "        x = first.index(val)\n",
    "        first[x] = np.nan\n",
    "    else:\n",
    "        continue\n",
    "df.loc[0] = first\n",
    "\n",
    "# 행 이름 설정해주기\n",
    "col_nme = ['Lemma','Category']\n",
    "\n",
    "l = len(df.columns)\n",
    "for i in range(1, l - 1):\n",
    "    info = 'info' + str(i)\n",
    "    col_nme.append(info)\n",
    "\n",
    "df.columns = col_nme"
   ]
  },
  {
   "cell_type": "code",
   "execution_count": 64,
   "metadata": {},
   "outputs": [
    {
     "data": {
      "text/html": "<div>\n<style scoped>\n    .dataframe tbody tr th:only-of-type {\n        vertical-align: middle;\n    }\n\n    .dataframe tbody tr th {\n        vertical-align: top;\n    }\n\n    .dataframe thead th {\n        text-align: right;\n    }\n</style>\n<table border=\"1\" class=\"dataframe\">\n  <thead>\n    <tr style=\"text-align: right;\">\n      <th></th>\n      <th>Lemma</th>\n      <th>Category</th>\n      <th>info1</th>\n      <th>info2</th>\n      <th>info3</th>\n      <th>info4</th>\n      <th>info5</th>\n      <th>info6</th>\n      <th>info7</th>\n      <th>info8</th>\n      <th>...</th>\n      <th>info54</th>\n      <th>info55</th>\n      <th>info56</th>\n      <th>info57</th>\n      <th>info58</th>\n      <th>info59</th>\n      <th>info60</th>\n      <th>info61</th>\n      <th>info62</th>\n      <th>info63</th>\n    </tr>\n  </thead>\n  <tbody>\n    <tr>\n      <th>0</th>\n      <td>가게</td>\n      <td>NS01</td>\n      <td>ZNZ</td>\n      <td>LEO</td>\n      <td>SLB</td>\n      <td>HAL</td>\n      <td>MCO</td>\n      <td>NaN</td>\n      <td>NaN</td>\n      <td>NaN</td>\n      <td>...</td>\n      <td>NaN</td>\n      <td>NaN</td>\n      <td>NaN</td>\n      <td>NaN</td>\n      <td>NaN</td>\n      <td>NaN</td>\n      <td>NaN</td>\n      <td>NaN</td>\n      <td>NaN</td>\n      <td>NaN</td>\n    </tr>\n    <tr>\n      <th>1</th>\n      <td>가결</td>\n      <td>NS03</td>\n      <td>ZNZ</td>\n      <td>LEO</td>\n      <td>SLB</td>\n      <td>PHV</td>\n      <td>NaN</td>\n      <td>NaN</td>\n      <td>NaN</td>\n      <td>NaN</td>\n      <td>...</td>\n      <td>NaN</td>\n      <td>NaN</td>\n      <td>NaN</td>\n      <td>NaN</td>\n      <td>NaN</td>\n      <td>NaN</td>\n      <td>NaN</td>\n      <td>NaN</td>\n      <td>NaN</td>\n      <td>NaN</td>\n    </tr>\n    <tr>\n      <th>2</th>\n      <td>가계</td>\n      <td>NS01</td>\n      <td>ZNZ</td>\n      <td>LEO</td>\n      <td>SLB</td>\n      <td>NAB</td>\n      <td>NaN</td>\n      <td>NaN</td>\n      <td>NaN</td>\n      <td>NaN</td>\n      <td>...</td>\n      <td>NaN</td>\n      <td>NaN</td>\n      <td>NaN</td>\n      <td>NaN</td>\n      <td>NaN</td>\n      <td>NaN</td>\n      <td>NaN</td>\n      <td>NaN</td>\n      <td>NaN</td>\n      <td>NaN</td>\n    </tr>\n    <tr>\n      <th>3</th>\n      <td>가곡</td>\n      <td>NS02</td>\n      <td>ZNX</td>\n      <td>PXN</td>\n      <td>NZX</td>\n      <td>SLB</td>\n      <td>LEO</td>\n      <td>HAL</td>\n      <td>NaN</td>\n      <td>NaN</td>\n      <td>...</td>\n      <td>NaN</td>\n      <td>NaN</td>\n      <td>NaN</td>\n      <td>NaN</td>\n      <td>NaN</td>\n      <td>NaN</td>\n      <td>NaN</td>\n      <td>NaN</td>\n      <td>NaN</td>\n      <td>NaN</td>\n    </tr>\n    <tr>\n      <th>4</th>\n      <td>가공</td>\n      <td>NS02</td>\n      <td>ZNM</td>\n      <td>LEO</td>\n      <td>SLB</td>\n      <td>PSN</td>\n      <td>NaN</td>\n      <td>NaN</td>\n      <td>NaN</td>\n      <td>NaN</td>\n      <td>...</td>\n      <td>NaN</td>\n      <td>NaN</td>\n      <td>NaN</td>\n      <td>NaN</td>\n      <td>NaN</td>\n      <td>XCUL</td>\n      <td>XSIN</td>\n      <td>NaN</td>\n      <td>NaN</td>\n      <td>NaN</td>\n    </tr>\n    <tr>\n      <th>...</th>\n      <td>...</td>\n      <td>...</td>\n      <td>...</td>\n      <td>...</td>\n      <td>...</td>\n      <td>...</td>\n      <td>...</td>\n      <td>...</td>\n      <td>...</td>\n      <td>...</td>\n      <td>...</td>\n      <td>...</td>\n      <td>...</td>\n      <td>...</td>\n      <td>...</td>\n      <td>...</td>\n      <td>...</td>\n      <td>...</td>\n      <td>...</td>\n      <td>...</td>\n      <td>...</td>\n    </tr>\n    <tr>\n      <th>1993</th>\n      <td>동사</td>\n      <td>NS01</td>\n      <td>ZNZ</td>\n      <td>LEO</td>\n      <td>SLB</td>\n      <td>NAB</td>\n      <td>NaN</td>\n      <td>NaN</td>\n      <td>NaN</td>\n      <td>NaN</td>\n      <td>...</td>\n      <td>NaN</td>\n      <td>NaN</td>\n      <td>NaN</td>\n      <td>NaN</td>\n      <td>NaN</td>\n      <td>NaN</td>\n      <td>NaN</td>\n      <td>NaN</td>\n      <td>NaN</td>\n      <td>NaN</td>\n    </tr>\n    <tr>\n      <th>1994</th>\n      <td>동산</td>\n      <td>NS02</td>\n      <td>ZNX</td>\n      <td>PXN</td>\n      <td>NZX</td>\n      <td>SLB</td>\n      <td>LEO</td>\n      <td>NaN</td>\n      <td>NaN</td>\n      <td>NaN</td>\n      <td>...</td>\n      <td>NaN</td>\n      <td>NaN</td>\n      <td>NaN</td>\n      <td>NaN</td>\n      <td>NaN</td>\n      <td>NaN</td>\n      <td>NaN</td>\n      <td>NaN</td>\n      <td>NaN</td>\n      <td>NaN</td>\n    </tr>\n    <tr>\n      <th>1995</th>\n      <td>동상</td>\n      <td>NS02</td>\n      <td>ZNX</td>\n      <td>SXN</td>\n      <td>NZX</td>\n      <td>SLB</td>\n      <td>LEO</td>\n      <td>NaN</td>\n      <td>NaN</td>\n      <td>NaN</td>\n      <td>...</td>\n      <td>NaN</td>\n      <td>NaN</td>\n      <td>NaN</td>\n      <td>NaN</td>\n      <td>NaN</td>\n      <td>XCUL</td>\n      <td>XECO</td>\n      <td>NaN</td>\n      <td>NaN</td>\n      <td>NaN</td>\n    </tr>\n    <tr>\n      <th>1996</th>\n      <td>동생</td>\n      <td>NS02</td>\n      <td>ZNZ</td>\n      <td>LEO</td>\n      <td>SLB</td>\n      <td>MCO</td>\n      <td>NaN</td>\n      <td>NaN</td>\n      <td>NaN</td>\n      <td>NaN</td>\n      <td>...</td>\n      <td>NaN</td>\n      <td>NaN</td>\n      <td>NaN</td>\n      <td>NaN</td>\n      <td>XSWN</td>\n      <td>NaN</td>\n      <td>NaN</td>\n      <td>NaN</td>\n      <td>NaN</td>\n      <td>NaN</td>\n    </tr>\n    <tr>\n      <th>1997</th>\n      <td>동선</td>\n      <td>NS02</td>\n      <td>ZNZ</td>\n      <td>LEO</td>\n      <td>SLB</td>\n      <td>PHV</td>\n      <td>NaN</td>\n      <td>NaN</td>\n      <td>NaN</td>\n      <td>NaN</td>\n      <td>...</td>\n      <td>NaN</td>\n      <td>NaN</td>\n      <td>NaN</td>\n      <td>NaN</td>\n      <td>NaN</td>\n      <td>NaN</td>\n      <td>NaN</td>\n      <td>NaN</td>\n      <td>NaN</td>\n      <td>NaN</td>\n    </tr>\n  </tbody>\n</table>\n<p>1998 rows × 65 columns</p>\n</div>",
      "text/plain": "     Lemma Category info1 info2 info3 info4 info5 info6 info7 info8  ...  \\\n0       가게     NS01   ZNZ   LEO   SLB   HAL   MCO   NaN   NaN   NaN  ...   \n1       가결     NS03   ZNZ   LEO   SLB   PHV   NaN   NaN   NaN   NaN  ...   \n2       가계     NS01   ZNZ   LEO   SLB   NAB   NaN   NaN   NaN   NaN  ...   \n3       가곡     NS02   ZNX   PXN   NZX   SLB   LEO   HAL   NaN   NaN  ...   \n4       가공     NS02   ZNM   LEO   SLB   PSN   NaN   NaN   NaN   NaN  ...   \n...    ...      ...   ...   ...   ...   ...   ...   ...   ...   ...  ...   \n1993    동사     NS01   ZNZ   LEO   SLB   NAB   NaN   NaN   NaN   NaN  ...   \n1994    동산     NS02   ZNX   PXN   NZX   SLB   LEO   NaN   NaN   NaN  ...   \n1995    동상     NS02   ZNX   SXN   NZX   SLB   LEO   NaN   NaN   NaN  ...   \n1996    동생     NS02   ZNZ   LEO   SLB   MCO   NaN   NaN   NaN   NaN  ...   \n1997    동선     NS02   ZNZ   LEO   SLB   PHV   NaN   NaN   NaN   NaN  ...   \n\n     info54 info55 info56 info57 info58 info59 info60 info61 info62 info63  \n0       NaN    NaN    NaN    NaN    NaN    NaN    NaN    NaN    NaN    NaN  \n1       NaN    NaN    NaN    NaN    NaN    NaN    NaN    NaN    NaN    NaN  \n2       NaN    NaN    NaN    NaN    NaN    NaN    NaN    NaN    NaN    NaN  \n3       NaN    NaN    NaN    NaN    NaN    NaN    NaN    NaN    NaN    NaN  \n4       NaN    NaN    NaN    NaN    NaN   XCUL   XSIN    NaN    NaN    NaN  \n...     ...    ...    ...    ...    ...    ...    ...    ...    ...    ...  \n1993    NaN    NaN    NaN    NaN    NaN    NaN    NaN    NaN    NaN    NaN  \n1994    NaN    NaN    NaN    NaN    NaN    NaN    NaN    NaN    NaN    NaN  \n1995    NaN    NaN    NaN    NaN    NaN   XCUL   XECO    NaN    NaN    NaN  \n1996    NaN    NaN    NaN    NaN   XSWN    NaN    NaN    NaN    NaN    NaN  \n1997    NaN    NaN    NaN    NaN    NaN    NaN    NaN    NaN    NaN    NaN  \n\n[1998 rows x 65 columns]"
     },
     "execution_count": 64,
     "metadata": {},
     "output_type": "execute_result"
    }
   ],
   "source": [
    "df"
   ]
  },
  {
   "cell_type": "code",
   "execution_count": 66,
   "metadata": {},
   "outputs": [],
   "source": [
    "sem_rgx = re.compile(r'[Q][A-Z]+')\n",
    "while False:\n",
    "    for x in range(1, l - 1):\n",
    "        sem = sem_rgx.match(df['info' + str(x)])\n",
    "        if sem:\n",
    "            print('hi')\n",
    "        else:\n",
    "            break"
   ]
  },
  {
   "cell_type": "code",
   "execution_count": 31,
   "metadata": {},
   "outputs": [],
   "source": [
    "import pandas as pd\n",
    "import numpy as np\n",
    "import os, re\n",
    "\n",
    "df = pd.read_csv(r'E:\\Programming\\python\\NLP\\DecoLexO\\DecoLexO\\Edit\\example\\DECO-Ver5.2-NS-2019-Kernel-DevTest.csv')\n",
    "\n",
    "\n",
    "####행 이름 decolex처럼 변경하기####\n",
    "\n",
    "#첫 행 살리기\n",
    "col_rgx = re.compile(r'[A-Za-z]{6,}[:\\.]?')\n",
    "first = list(df.columns)\n",
    "df.loc[0] = first\n",
    "for val in first:\n",
    "    m = col_rgx.match(val)\n",
    "    if m:\n",
    "        x = first.index(val)\n",
    "        first[x] = np.nan\n",
    "    else:\n",
    "        continue\n",
    "df.loc[0] = first\n",
    "\n",
    "df = df.fillna('')\n",
    "#행 이름 설정해주기\n",
    "col_nme = ['Lemma','Category']\n",
    "\n",
    "sem_rgx = re.compile(r'[Q][A-Z]{4}')\n",
    "\n",
    "l = len(df.columns)\n",
    "z = len(df.index)\n",
    "val = df.values.tolist()\n",
    "print(val[:10])\n",
    "\n",
    "for x in val:\n",
    "    for y in x:\n",
    "        sem = sem_rgx.match(y)\n",
    "        if sem:\n",
    "            num = x.index(y)\n",
    "            \n",
    "        else:\n",
    "            continue\n",
    "            "
   ]
  },
  {
   "cell_type": "code",
   "execution_count": 35,
   "metadata": {},
   "outputs": [
    {
     "ename": "AttributeError",
     "evalue": "'DataFrame' object has no attribute 'str'",
     "output_type": "error",
     "traceback": [
      "\u001b[1;31m---------------------------------------------------------------------------\u001b[0m",
      "\u001b[1;31mAttributeError\u001b[0m                            Traceback (most recent call last)",
      "\u001b[1;32m<ipython-input-35-391fc61f3cee>\u001b[0m in \u001b[0;36m<module>\u001b[1;34m\u001b[0m\n\u001b[1;32m----> 1\u001b[1;33m \u001b[0mdf\u001b[0m\u001b[1;33m.\u001b[0m\u001b[0miloc\u001b[0m\u001b[1;33m[\u001b[0m\u001b[1;33m:\u001b[0m\u001b[1;33m,\u001b[0m\u001b[1;36m2\u001b[0m\u001b[1;33m:\u001b[0m\u001b[0ml\u001b[0m \u001b[1;33m+\u001b[0m \u001b[1;36m1\u001b[0m\u001b[1;33m]\u001b[0m\u001b[1;33m.\u001b[0m\u001b[0mstr\u001b[0m\u001b[1;33m.\u001b[0m\u001b[0mcontains\u001b[0m\u001b[1;33m(\u001b[0m\u001b[1;34m'Q'\u001b[0m\u001b[1;33m)\u001b[0m\u001b[1;33m\u001b[0m\u001b[1;33m\u001b[0m\u001b[0m\n\u001b[0m",
      "\u001b[1;32m~\\Anaconda3\\lib\\site-packages\\pandas\\core\\generic.py\u001b[0m in \u001b[0;36m__getattr__\u001b[1;34m(self, name)\u001b[0m\n\u001b[0;32m   5271\u001b[0m             \u001b[1;32mif\u001b[0m \u001b[0mself\u001b[0m\u001b[1;33m.\u001b[0m\u001b[0m_info_axis\u001b[0m\u001b[1;33m.\u001b[0m\u001b[0m_can_hold_identifiers_and_holds_name\u001b[0m\u001b[1;33m(\u001b[0m\u001b[0mname\u001b[0m\u001b[1;33m)\u001b[0m\u001b[1;33m:\u001b[0m\u001b[1;33m\u001b[0m\u001b[1;33m\u001b[0m\u001b[0m\n\u001b[0;32m   5272\u001b[0m                 \u001b[1;32mreturn\u001b[0m \u001b[0mself\u001b[0m\u001b[1;33m[\u001b[0m\u001b[0mname\u001b[0m\u001b[1;33m]\u001b[0m\u001b[1;33m\u001b[0m\u001b[1;33m\u001b[0m\u001b[0m\n\u001b[1;32m-> 5273\u001b[1;33m             \u001b[1;32mreturn\u001b[0m \u001b[0mobject\u001b[0m\u001b[1;33m.\u001b[0m\u001b[0m__getattribute__\u001b[0m\u001b[1;33m(\u001b[0m\u001b[0mself\u001b[0m\u001b[1;33m,\u001b[0m \u001b[0mname\u001b[0m\u001b[1;33m)\u001b[0m\u001b[1;33m\u001b[0m\u001b[1;33m\u001b[0m\u001b[0m\n\u001b[0m\u001b[0;32m   5274\u001b[0m \u001b[1;33m\u001b[0m\u001b[0m\n\u001b[0;32m   5275\u001b[0m     \u001b[1;32mdef\u001b[0m \u001b[0m__setattr__\u001b[0m\u001b[1;33m(\u001b[0m\u001b[0mself\u001b[0m\u001b[1;33m,\u001b[0m \u001b[0mname\u001b[0m\u001b[1;33m:\u001b[0m \u001b[0mstr\u001b[0m\u001b[1;33m,\u001b[0m \u001b[0mvalue\u001b[0m\u001b[1;33m)\u001b[0m \u001b[1;33m->\u001b[0m \u001b[1;32mNone\u001b[0m\u001b[1;33m:\u001b[0m\u001b[1;33m\u001b[0m\u001b[1;33m\u001b[0m\u001b[0m\n",
      "\u001b[1;31mAttributeError\u001b[0m: 'DataFrame' object has no attribute 'str'"
     ]
    }
   ],
   "source": [
    "df.iloc[:,2:l + 1].str.contains('Q')"
   ]
  },
  {
   "cell_type": "code",
   "execution_count": null,
   "metadata": {},
   "outputs": [],
   "source": []
  }
 ]
}