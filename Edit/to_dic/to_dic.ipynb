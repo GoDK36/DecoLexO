{
 "nbformat": 4,
 "nbformat_minor": 2,
 "metadata": {
  "language_info": {
   "name": "python",
   "codemirror_mode": {
    "name": "ipython",
    "version": 3
   },
   "version": "3.7.6-final"
  },
  "orig_nbformat": 2,
  "file_extension": ".py",
  "mimetype": "text/x-python",
  "name": "python",
  "npconvert_exporter": "python",
  "pygments_lexer": "ipython3",
  "version": 3,
  "kernelspec": {
   "name": "python37664bitbaseconda7ccc1197ea424c04aa8e970980241a68",
   "display_name": "Python 3.7.6 64-bit ('base': conda)"
  }
 },
 "cells": [
  {
   "cell_type": "code",
   "execution_count": 2,
   "metadata": {},
   "outputs": [],
   "source": [
    "import pandas as pd\n",
    "import numpy as np\n",
    "import os, re\n",
    "\n",
    "df = pd.read_csv(r'E:\\Programming\\python\\NLP\\DecoLexO\\DecoLexO\\Edit\\example\\DECO-Ver5.2-NS-2019-Kernel-DevTest.csv',encoding = 'utf-8-sig')\n",
    "\n",
    "#첫 행 살리기\n",
    "col_rgx = re.compile(r'[A-Za-z]{6,}[:\\.]?')\n",
    "first = list(df.columns)\n",
    "df.loc[0] = first\n",
    "for val in first:\n",
    "    m = col_rgx.match(val)\n",
    "    if m:\n",
    "        x = first.index(val)\n",
    "        first[x] = np.nan\n",
    "    else:\n",
    "        continue\n",
    "df.loc[0] = first\n",
    "\n",
    "##행 이름 변경하기\n",
    "df = df.fillna('')\n",
    "sem_rgx = re.compile(r'[Q][A-Z]{3}')  #semantic tagset\n",
    "syn_rgx = re.compile(r'[Y][A-Z]{3}')  #syntactic tagset\n",
    "dom_rgx = re.compile(r'[X]{1}[ABCDEFGHIJKLMNOPQRSTUVWYZ]{3}')  #domain tagset\n",
    "ent_rgx = re.compile(r'[X]{2}[A-Z]{2}') #entity tagset\n",
    "mor_rgx = re.compile(r'[A-Z]{3}') #morph tagset\n",
    "seminfo = []\n",
    "syninfo = []\n",
    "dominfo = []\n",
    "entinfo = []\n",
    "morinfo = []\n",
    "\n",
    "#컬럼의 총 개수를 l에 저장한다.\n",
    "#컬럼의 개수 만큼 lemma와 category뒤에 lemma와 category개수인 2를 뺀만큼\n",
    "#''를 추가해 주어 해당 컬럼 개수 만큼의 리스트 col_nme을 만들어 준다.\n",
    "l = len(df.columns)\n",
    "col_nme = ['Lemma','Category']\n",
    "for i in range(l-2):\n",
    "    col_nme.append('')\n",
    "#sem =>SemInfo 뒤에 붙을 숫자 \n",
    "#syn =>SynInfo 뒤에 붙을 숫자 \n",
    "#dom =>DomInfo 뒤에 붙을 숫자 \n",
    "#ent =>EntInfo 뒤에 붙을 숫자 \n",
    "#mor =>MorInfo 뒤에 붙을 숫자 \n",
    "sem = 1\n",
    "syn = 1\n",
    "dom = 1\n",
    "ent = 1\n",
    "mor = 1\n",
    "\n",
    "#x를 컬럼의 개수 만큼의 숫자로 지정해 준다.\n",
    "#col_val은 해당 df의 열을 리스트화 시켜준 것이다.\n",
    "for x in range(0, l):\n",
    "    col_val = df.iloc[:, x].tolist()\n",
    "    #cnt가 0이면 일치하는 값을 못 찾았다는 의미로 해석(ex 모두 빈칸인 열을 만났을 때)\n",
    "    #밑에서 cnt == 0 일때 앞에 정보를 보고 빈칸의 정보를 수정할 때 사용한다.\n",
    "    cnt = 0\n",
    "    #k로 col_val의 리스트 요소들을 하나씩 지정해주면서\n",
    "    #k가 sem_rgx, syn_rgx, dom_rgx, ent_rgx, mor_rgx에 해당되면\n",
    "    #컬럼에 일치하는 값이 있었다는 의미로 cnt를 1 증가시켜 주고\n",
    "    #Info뒤에 붙을 숫자를 1씩 증가시켜 주고\n",
    "    #비효율적인 탐색을 막기 위해 바로 break시켜준다.\n",
    "    for k in col_val:\n",
    "        if sem_rgx.match(k):\n",
    "            col_nme[x] = 'Sem Info' + str(sem)\n",
    "            sem += 1\n",
    "            cnt += 1\n",
    "            break\n",
    "\n",
    "        elif syn_rgx.match(k):\n",
    "            col_nme[x] = 'Syn Info' + str(syn)\n",
    "            syn += 1\n",
    "            cnt += 1\n",
    "            break\n",
    "\n",
    "        elif dom_rgx.match(k):\n",
    "            col_nme[x] = 'Dom Info' + str(dom)\n",
    "            dom += 1\n",
    "            cnt += 1\n",
    "            break\n",
    "\n",
    "        elif ent_rgx.match(k):\n",
    "            col_nme[x] = 'Ent Info' + str(ent)\n",
    "            ent += 1\n",
    "            cnt += 1\n",
    "            break\n",
    "\n",
    "        elif mor_rgx.match(k):\n",
    "            col_nme[x] = 'Mor Info' + str(mor)\n",
    "            mor += 1 \n",
    "            cnt += 1\n",
    "            break\n",
    "\n",
    "    #만약 위에서 일치하는 값을 못찾았을 때(ex 모두 빈칸인 열이었을 때)\n",
    "    #cnt는 0이므로 앞에 col_nme의 정보를 보고 \n",
    "    #해당 정보와 일치하는 정보의 Info숫자를 증가시켜준 값을 해당 리스트 위치에 저장해준다.\n",
    "    if cnt == 0:\n",
    "        if 'Sem' in col_nme[x-1]:\n",
    "            col_nme[x] = 'Sem Info' + str(sem)\n",
    "            sem+=1\n",
    "            \n",
    "        elif 'Syn' in col_nme[x-1]:\n",
    "            col_nme[x] =  'Syn Info' + str(syn)\n",
    "            syn+=1\n",
    "        \n",
    "        elif 'Dom' in col_nme[x-1]:\n",
    "            col_nme[x] =  'Dom Info' + str(dom)\n",
    "            dom+=1\n",
    "            \n",
    "        elif 'Ent' in col_nme[x-1]:\n",
    "            col_nme[x] =  'Ent Info' + str(ent)\n",
    "            ent+=1\n",
    "            \n",
    "        elif 'Mor' in col_nme[x-1]:\n",
    "            col_nme[x] =  'Mor Info' + str(mor)\n",
    "            mor+=1\n",
    "\n",
    "df.columns = col_nme\n",
    "\n",
    "#편집을 원하는 행을 리스트화 하는 함수\n",
    "#df에는 불러온 데이터프레임을 넣고 col에는 수정 원하는 행 이름을 삽입\n",
    "def df2first(df,col):\n",
    "    col_first = list(df.columns)\n",
    "    x = col_first.index(col)\n",
    "    res = df.iloc[:,x:x+1].values.tolist()\n",
    "    res = sum(res,[])\n",
    "    return res"
   ]
  },
  {
   "cell_type": "code",
   "execution_count": 31,
   "metadata": {},
   "outputs": [
    {
     "data": {
      "text/html": "<div>\n<style scoped>\n    .dataframe tbody tr th:only-of-type {\n        vertical-align: middle;\n    }\n\n    .dataframe tbody tr th {\n        vertical-align: top;\n    }\n\n    .dataframe thead th {\n        text-align: right;\n    }\n</style>\n<table border=\"1\" class=\"dataframe\">\n  <thead>\n    <tr style=\"text-align: right;\">\n      <th></th>\n      <th>Lemma</th>\n      <th>Category</th>\n      <th>Mor Info1</th>\n      <th>Mor Info2</th>\n      <th>Mor Info3</th>\n      <th>Mor Info4</th>\n      <th>Mor Info5</th>\n      <th>Mor Info6</th>\n      <th>Mor Info7</th>\n      <th>Mor Info8</th>\n      <th>...</th>\n      <th>Dom Info4</th>\n      <th>Dom Info5</th>\n      <th>Dom Info6</th>\n      <th>Dom Info7</th>\n      <th>Dom Info8</th>\n      <th>Dom Info9</th>\n      <th>Dom Info10</th>\n      <th>Dom Info11</th>\n      <th>Dom Info12</th>\n      <th>Dom Info13</th>\n    </tr>\n  </thead>\n  <tbody>\n    <tr>\n      <th>0</th>\n      <td>가게</td>\n      <td>NS01</td>\n      <td>ZNZ</td>\n      <td>LEO</td>\n      <td>SLB</td>\n      <td>HAL</td>\n      <td>MCO</td>\n      <td></td>\n      <td></td>\n      <td></td>\n      <td>...</td>\n      <td></td>\n      <td></td>\n      <td></td>\n      <td></td>\n      <td></td>\n      <td></td>\n      <td></td>\n      <td></td>\n      <td></td>\n      <td></td>\n    </tr>\n    <tr>\n      <th>1</th>\n      <td>가결</td>\n      <td>NS03</td>\n      <td>ZNZ</td>\n      <td>LEO</td>\n      <td>SLB</td>\n      <td>PHV</td>\n      <td></td>\n      <td></td>\n      <td></td>\n      <td></td>\n      <td>...</td>\n      <td></td>\n      <td></td>\n      <td></td>\n      <td></td>\n      <td></td>\n      <td></td>\n      <td></td>\n      <td></td>\n      <td></td>\n      <td></td>\n    </tr>\n    <tr>\n      <th>2</th>\n      <td>가계</td>\n      <td>NS01</td>\n      <td>ZNZ</td>\n      <td>LEO</td>\n      <td>SLB</td>\n      <td>NAB</td>\n      <td></td>\n      <td></td>\n      <td></td>\n      <td></td>\n      <td>...</td>\n      <td></td>\n      <td></td>\n      <td></td>\n      <td></td>\n      <td></td>\n      <td></td>\n      <td></td>\n      <td></td>\n      <td></td>\n      <td></td>\n    </tr>\n    <tr>\n      <th>3</th>\n      <td>가곡</td>\n      <td>NS02</td>\n      <td>ZNX</td>\n      <td>PXN</td>\n      <td>NZX</td>\n      <td>SLB</td>\n      <td>LEO</td>\n      <td>HAL</td>\n      <td></td>\n      <td></td>\n      <td>...</td>\n      <td></td>\n      <td></td>\n      <td></td>\n      <td></td>\n      <td></td>\n      <td></td>\n      <td></td>\n      <td></td>\n      <td></td>\n      <td></td>\n    </tr>\n    <tr>\n      <th>4</th>\n      <td>가공</td>\n      <td>NS02</td>\n      <td>ZNM</td>\n      <td>LEO</td>\n      <td>SLB</td>\n      <td>PSN</td>\n      <td></td>\n      <td></td>\n      <td></td>\n      <td></td>\n      <td>...</td>\n      <td></td>\n      <td></td>\n      <td></td>\n      <td></td>\n      <td></td>\n      <td>XCUL</td>\n      <td>XSIN</td>\n      <td></td>\n      <td></td>\n      <td></td>\n    </tr>\n  </tbody>\n</table>\n<p>5 rows × 65 columns</p>\n</div>",
      "text/plain": "  Lemma Category Mor Info1 Mor Info2 Mor Info3 Mor Info4 Mor Info5 Mor Info6  \\\n0    가게     NS01       ZNZ       LEO       SLB       HAL       MCO             \n1    가결     NS03       ZNZ       LEO       SLB       PHV                       \n2    가계     NS01       ZNZ       LEO       SLB       NAB                       \n3    가곡     NS02       ZNX       PXN       NZX       SLB       LEO       HAL   \n4    가공     NS02       ZNM       LEO       SLB       PSN                       \n\n  Mor Info7 Mor Info8  ... Dom Info4 Dom Info5 Dom Info6 Dom Info7 Dom Info8  \\\n0                      ...                                                     \n1                      ...                                                     \n2                      ...                                                     \n3                      ...                                                     \n4                      ...                                                     \n\n  Dom Info9 Dom Info10 Dom Info11 Dom Info12 Dom Info13  \n0                                                        \n1                                                        \n2                                                        \n3                                                        \n4      XCUL       XSIN                                   \n\n[5 rows x 65 columns]"
     },
     "execution_count": 31,
     "metadata": {},
     "output_type": "execute_result"
    }
   ],
   "source": [
    "df.head()"
   ]
  },
  {
   "cell_type": "code",
   "execution_count": 32,
   "metadata": {},
   "outputs": [],
   "source": [
    "ind_l = len(df.index)"
   ]
  },
  {
   "cell_type": "code",
   "execution_count": 34,
   "metadata": {},
   "outputs": [],
   "source": [
    "ind_lst = list(df.iloc[0])"
   ]
  },
  {
   "cell_type": "code",
   "execution_count": 35,
   "metadata": {},
   "outputs": [
    {
     "name": "stdout",
     "output_type": "stream",
     "text": "['가게', 'NS01', 'ZNZ', 'LEO', 'SLB', 'HAL', 'MCO']\n"
    }
   ],
   "source": [
    "##중복 제거\n",
    "\n",
    "from collections import OrderedDict\n",
    "\n",
    "def rmvspc(alist):\n",
    "    d = OrderedDict()\n",
    "    for i in alist:\n",
    "        d[i] = True\n",
    "        res = list(d.keys())\n",
    "    return res\n",
    "inf_lst = rmvspc(ind_lst)\n",
    "inf_lst.remove('')\n",
    "print(inf_lst)"
   ]
  },
  {
   "cell_type": "code",
   "execution_count": 36,
   "metadata": {},
   "outputs": [
    {
     "name": "stdout",
     "output_type": "stream",
     "text": "ㆍ가ㆍ게,가게.\n"
    }
   ],
   "source": [
    "##레마에 구분자 넣기\n",
    "dic = \"ㆍ\"\n",
    "lem = inf_lst[0]\n",
    "spc = \"ㆍ\"\n",
    "com = \",\"\n",
    "plus = \"+\"\n",
    "dot = \".\"\n",
    "sep_lem = spc.join(lem)\n",
    "dic = dic + sep_lem + com + lem + dot\n",
    "print(dic)"
   ]
  },
  {
   "cell_type": "code",
   "execution_count": 41,
   "metadata": {},
   "outputs": [
    {
     "name": "stdout",
     "output_type": "stream",
     "text": "ㆍ가ㆍ결,가결.NS+ZNZ+LEO+SLB+PHV+JN#JN03\n"
    }
   ],
   "source": [
    "ind_l = len(df.index)\n",
    "\n",
    "ind_lst = list(df.iloc[1])\n",
    "from collections import OrderedDict\n",
    "\n",
    "def rmvspc(alist):\n",
    "    d = OrderedDict()\n",
    "    for i in alist:\n",
    "        d[i] = True\n",
    "        res = list(d.keys())\n",
    "    return res\n",
    "inf_lst = rmvspc(ind_lst)\n",
    "inf_lst.remove('')\n",
    "##레마에 구분자 넣기\n",
    "dic = \"ㆍ\"\n",
    "lem = inf_lst[0]\n",
    "spc = \"ㆍ\"\n",
    "com = \",\"\n",
    "plus = \"+\"\n",
    "dot = \".\"\n",
    "sep_lem = spc.join(lem)\n",
    "dic = dic + sep_lem + com + lem + dot\n",
    "##NS01 나누기\n",
    "cat = inf_lst[1]\n",
    "dic = dic + cat[0:2]\n",
    "for x in range(2, len(inf_lst)):\n",
    "    inf = inf_lst[x]\n",
    "    dic = dic + plus + inf_lst[x]\n",
    "last = plus + \"JN#JN\" + cat[-2:]\n",
    "dic = dic + last\n",
    "\n",
    "print(dic)"
   ]
  },
  {
   "cell_type": "code",
   "execution_count": 4,
   "metadata": {},
   "outputs": [
    {
     "name": "stdout",
     "output_type": "stream",
     "text": "QLOC+QPRD+XXPR+XXCR+XCLO+XCOS+XCUL+XECO+XITP+JN#JN00\nㆍ니ㆍ은,니은.NS+ZNZ+LEO+SLB+MCO+XXPR+XCUL+XLIF+XRES+XSER+JN#JN02\nㆍ니ㆍ켈,니켈.NS+ZNF+SIM+SLB+NZF+LEO+ROM+QPRD+QFOO+XXPR+JN#JN03\nㆍ니ㆍ코ㆍ틴,니코틴.NS+ZNF+SIM+SLC+NZF+LEO+ROM+XXPE+XPLA+JN#JN02\nㆍ니ㆍ크ㆍ롬,니크롬.NS+ZNF+SIM+SLC+NZF+LEO+ROM+XXCR+XITP+JN#JN02\nㆍ니ㆍ트,니트.NS+ZNF+SIM+SLB+NZF+LEO+ROM+QPRO+QPRD+XXPR+JN#JN01\nㆍ님,님.NS+ZND+LEO+SLA+MES+CLA+XXPR+XPOL+JN#JN02\nㆍ닢,닢.NS+ZND+LEO+SLA+MES+CLA+XXCR+XRES+JN#JN02\nㆍ다,다.NS+ZNZ+LEO+SLA+NAB+QPLT+QLOC+XXPR+XCOS+JN#JN01\nㆍ다ㆍ각,다각.NS+ZNX+PXN+NZX+SLB+LEO+XXCR+XITP+JN#JN02\nㆍ다ㆍ과,다과.NS+ZNZ+LEO+SLB+HAL+MCO+QPLT+QPRD+QFOO+XXCO+XXCR+XXPR+XXPE+XCOS+XSER+XCUL+XPLA+JN#JN01\nㆍ다ㆍ다ㆍ미,다다미.NS+ZNZ+LEO+SLC+MCO+XXPE+XCUL+XRES+XMOV+JN#JN01\nㆍ다ㆍ대ㆍ기,다대기.NS+ZNZ+LEO+SLC+QPRD+XXPR+XCUL+JN#JN01\nㆍ다ㆍ도,다도.NS+ZNZ+LEO+SLB+NAB+QPRO+QSUS+XXPR+XCUL+JN#JN01\nㆍ다ㆍ듬ㆍ이,다듬이.NS+ZNZ+LEO+SLC+MCO+QXNG+QXFU+XPLA+XPOL+XSER+JN#JN01\nㆍ다ㆍ락,다락.NS+ZNZ+LEO+SLB+MCO+QPRD+QFOO+XXCR+XXCO+XXPR+XRES+XCUL+XSER+XPLA+JN#JN02\nㆍ다ㆍ람ㆍ쥐,다람쥐.NS+ZNZ+LEO+SLC+MCO+QPRO+QCLT+JN#JN01\nㆍ다ㆍ랑ㆍ어,다랑어.NS+ZNZ+LEO+SLC+MCO+QPRD+QFOO+XXPR+XRES+JN#JN01\nㆍ다ㆍ래ㆍ끼,다래끼.NS+ZNZ+LEO+SLC+MCO+NAB+QART+JN#JN01\nㆍ다ㆍ량,다량.NS+ZNZ+LEO+SLB+PHV+QLOC+QBUI+QCLL+XCUL+XLIF+JN#JN02\nㆍ다ㆍ른,다른.NS+ZNT+LEO+SLB+FNT+SCZ+XXCO+XPLA+JN#JN00\nㆍ다ㆍ리,다리.NS+ZNZ+LEO+SLB+MCO+QPRD+QCOG+QPRO+QPES+XXPE+XCUL+XECO+XITP+JN#JN01\nㆍ다ㆍ리ㆍ미,다리미.NS+ZNZ+LEO+SLC+MCO+QPRD+QART+XXPR+XGAM+XITP+XCUL+XECO+JN#JN01\nㆍ다ㆍ림ㆍ질,다림질.NS+ZNZ+LEO+SLC+HAL+NAB+PHD+QEVN+XXPE+XCUL+JN#JN03\nㆍ다ㆍ목ㆍ적,다목적.NS+ZNM+LEO+SLC+JEG+QXDE+QXEL+XXPE+XRES+XPOL+JN#JN02\nㆍ다ㆍ발,다발.NS+ZND+LEO+SLB+MES+NOU+QPRD+QCLT+XXPR+JN#JN03\nㆍ다ㆍ방,다방.NS+ZNX+PXN+NZX+SLB+LEO+HAL+QPRD+XXPR+JN#JN02\nㆍ다ㆍ섯,다섯.NS+ZNU+LEO+SLB+NUM+KOR+NDU+QPRD+QART+JN#JN02\nㆍ다ㆍ소,다소.NS+ZNZ+LEO+SLB+NAB+QART+XCLO+XSPO+JN#JN01\nㆍ다ㆍ수,다수.NS+ZNX+PXN+NZX+SLB+LEO+QXDE+QXEL+XXCO+XRES+JN#JN01\nㆍ다ㆍ슬ㆍ기,다슬기.NS+ZNZ+LEO+SLC+MCO+QPRD+QBUI+XXPR+XCOS+XCUL+XRES+XPOL+JN#JN01\nㆍ다ㆍ시ㆍ마,다시마.NS+ZNZ+LEO+SLC+MCO+QPRD+QCRA+XXPR+XCLO+XCUL+XMOV+JN#JN01\nㆍ다ㆍ운,다운.NS+ZNF+SIM+SLB+NZF+LEO+ROM+XXPR+XRES+JN#JN02\nㆍ다ㆍ음,다음.NS+ZNZ+LEO+SLB+NAB+QXDE+QXEL+QCOG+QLOC+XXPR+XCUL+XLIF+XRES+JN#JN02\nㆍ다ㆍ이ㆍ너ㆍ마ㆍ이ㆍ트,다이너마이트.NS+ZNF+SIM+SLF+NZF+LEO+ROM+QART+QLOC+JN#JN01\nㆍ다ㆍ이ㆍ아ㆍ몬ㆍ드,다이아몬드.NS+ZNF+SIM+SLE+NZF+LEO+ROM+XXCR+XITP+XCOS+XCUL+XLIF+JN#JN01\nㆍ다ㆍ이ㆍ얼,다이얼.NS+ZNF+SIM+SLC+NZF+LEO+ROM+QPRD+XXPR+XCOS+JN#JN03\nㆍ다ㆍ이ㆍ옥ㆍ신,다이옥신.NS+ZNF+SIM+SLD+NZF+LEO+ROM+QART+QPRD+XXCR+XXPR+XCUL+XECO+XMOV+XSPO+XSER+JN#JN02\nㆍ다ㆍ작,다작.NS+ZNZ+LEO+SLB+PHV+QCLL+QHUM+XCUL+JN#JN02\nㆍ다ㆍ중,다중.NS+ZNM+LEO+SLB+PSN+QART+QLOC+XXPR+XCUL+XRES+XSER+JN#JN02\nㆍ다ㆍ지ㆍ기,다지기.NS+ZNZ+LEO+SLC+PGN+PHD+QPRD+QPRO+XXPR+JN#JN01\nㆍ다ㆍ짐,다짐.NS+ZNZ+LEO+SLB+PMN+PHV+QPRO+XXPR+XCLO+JN#JN02\nㆍ다ㆍ큐ㆍ멘ㆍ터ㆍ리,다큐멘터리.NS+ZNF+SIM+SLE+NZF+LEO+ROM+QPRD+QFOO+QCOG+XXPR+XRES+XCUL+XSER+JN#JN01\nㆍ다ㆍ행,다행.NS+ZNZ+LEO+SLB+PHA+QXDE+QXEL+QLOC+QEVN+XCLO+XCOS+XSIN+XLIF+JN#JN02\nㆍ다ㆍ혈ㆍ질,다혈질.NS+ZNZ+LEO+SLC+MCO+QART+QPRD+XXCR+XXPR+XCOS+XCUL+XECO+XTWE+JN#JN03\nㆍ다ㆍ홍,다홍.NS+ZNZ+LEO+SLB+MCO+QPRD+QFOO+XXOR+XRES+JN#JN02\nㆍ닥ㆍ터,닥터.NS+ZNF+SIM+SLB+NZF+LEO+ROM+XXPR+XXPE+XCUL+XLIF+XITP+JN#JN01\nㆍ닦ㆍ달,닦달.NS+ZNZ+LEO+SLB+PHV+XXPR+XXCR+XITP+XECO+JN#JN03\nㆍ단,단.NS+ZND+LEO+SLA+MES+QCLT+QPRD+QCOG+XCLO+XSOC+XLIF+JN#JN02\nㆍ단ㆍ가,단가.NS+ZNZ+LEO+SLB+NAB+QXDE+QXEL+XSER+XITP+XPLA+JN#JN01\nㆍ단ㆍ계,단계.NS+ZND+LEO+SLB+MES+NOU+QPRD+QCLT+XCLO+JN#JN01\nㆍ단ㆍ골,단골.NS+ZNZ+LEO+SLB+MCO+QEVN+XXCR+XXPR+XCUL+XECO+JN#JN03\nㆍ단ㆍ기,단기.NS+ZNX+PXN+NZX+SLB+LEO+QPRD+QPRO+XCOS+JN#JN01\nㆍ단ㆍ도ㆍ직ㆍ입ㆍ적,단도직입적.NS+ZNM+LEO+SLE+JEG+XXPR+XITP+XCOS+JN#JN02\nㆍ단ㆍ독,단독.NS+ZNM+LEO+SLB+PSN+XXCR+XECO+XITP+XSER+JN#JN02\nㆍ단ㆍ돈,단돈.NS+ZNX+PXN+NZX+SLB+LEO+QCOG+QPRO+XCOS+XCLO+XECO+XRES+XSER+JN#JN02\nㆍ단ㆍ락,단락.NS+ZND+LEO+SLB+MES+NOU+QPRO+QCLT+XXPR+XCLO+JN#JN02\nㆍ단ㆍ련,단련.NS+ZNZ+LEO+SLB+PHV+QFOO+QPLT+JN#JN02\nㆍ단ㆍ말ㆍ기,단말기.NS+ZNZ+LEO+SLC+QPRO+XXPR+XXPE+XCUL+XSER+JN#JN01\nㆍ단ㆍ면,단면.NS+ZNX+PXN+NZX+SLB+LEO+PHP+QBUI+JN#JN02\nㆍ단ㆍ면ㆍ적,단면적.NS+ZNM+LEO+SLC+JEG+QLOC+QPRO+XCUL+XRES+JN#JN02\nㆍ단ㆍ무ㆍ지,단무지.NS+ZNZ+LEO+SLC+HAL+MCO+XXPE+XITP+JN#JN01\nㆍ단ㆍ발,단발.NS+ZNZ+LEO+SLB+PHV+QLAN+QART+QTHN+QABS+JN#JN03\nㆍ단ㆍ방,단방.NS+ZNX+PXN+NZX+SLB+LEO+QXSP+QXFP+QPRD+QPRO+XXCR+XCOS+XCUL+XRES+XLIF+XITP+JN#JN02\nㆍ단ㆍ백,단백.NS+ZNM+LEO+SLB+MDN+QPRD+QPRO+XCOS+JN#JN02\nㆍ단ㆍ백ㆍ질,단백질.NS+ZNZ+LEO+SLC+NAB+QPRD+QCRA+XXPR+XQFT+XCUL+XITP+JN#JN03\nㆍ단ㆍ벌,단벌.NS+ZNX+PXN+NZX+SLB+LEO+XXPR+XCOS+XRES+XITP+JN#JN03\nㆍ단ㆍ상,단상.NS+ZNX+SXN+NZX+SLB+LEO+XXPR+XITP+XECO+XCUL+JN#JN02\nㆍ단ㆍ색,단색.NS+ZNX+PXN+NZX+SLB+LEO+XITP+XCUL+XLIF+XSPO+JN#JN02\nㆍ단ㆍ서,단서.NS+ZNZ+LEO+SLB+NAB+QPLT+QFOO+JN#JN01\nㆍ단ㆍ선,단선.NS+ZNX+PXN+NZX+SLB+LEO+PHP+QART+QPRD+XXCR+XXPR+XQFT+XACT+XCUL+XSER+JN#JN02\nㆍ단ㆍ순,단순.NS+ZNM+LEO+SLB+MDN+XXPR+XPOL+JN#JN02\nㆍ단ㆍ식,단식.NS+ZNZ+LEO+SLB+PHV+QPRO+XXPR+XCOS+XCUL+XECO+XITP+JN#JN02\nㆍ단ㆍ신,단신.NS+ZNZ+LEO+SLB+NAB+JN#JN02\nㆍ단ㆍ어,단어.NS+ZND+LEO+SLB+MES+NOU+QEVN+QCRA+XPOL+JN#JN01\nㆍ단ㆍ열,단열.NS+ZNX+PXN+NZX+SLB+LEO+PHP+QXNG+QXFU+QPES+QPRO+XSWN+JN#JN03\nㆍ단ㆍ원,단원.NS+ZND+LEO+SLB+MES+NOU+QXDE+QXJO+QPRD+QFOO+XXPR+XCUL+XSER+XRES+JN#JN02\nㆍ단ㆍ위,단위.NS+ZND+LEO+SLB+MES+NOU+QPRD+QFOO+XXPR+XCUL+XLIF+XRES+XPOL+XSER+JN#JN01\nㆍ단ㆍ일,단일.NS+ZNZ+LEO+SLB+PHA+QPRO+JN#JN03\nㆍ단ㆍ일ㆍ어,단일어.NS+ZNZ+LEO+SLC+NAB+XXPR+XPOL+JN#JN01\nㆍ단ㆍ일ㆍ화,단일화.NS+ZNZ+LEO+SLC+PHD+QCOG+QLOC+XCUL+XLIF+JN#JN01\nㆍ단ㆍ자,단자.NS+ZNZ+LEO+SLB+MCO+NAB+QXNG+QXFU+XPLA+JN#JN01\nㆍ단ㆍ전,단전.NS+ZNZ+LEO+SLB+PHD+QXNG+QXSY+QPES+XSWN+JN#JN02\nㆍ단ㆍ절,단절.NS+ZNZ+LEO+SLB+PHD+QCOG+QLAN+XSWN+JN#JN03\nㆍ단ㆍ점,단점.NS+ZNZ+LEO+SLB+NAB+QCOD+JN#JN02\nㆍ단ㆍ정ㆍ적,단정적.NS+ZNM+LEO+SLC+JEG+QPRO+QLOC+JN#JN02\nㆍ단ㆍ종,단종.NS+ZNZ+LEO+SLB+PHD+QBUI+XXCO+XCOS+XCUL+XPLA+XRES+XWOR+JN#JN02\nㆍ단ㆍ지,단지.NS+ZND+LEO+SLB+MES+QCLL+QCRR+XPOL+XSOC+XCUL+JN#JN01\nㆍ단ㆍ체,단체.NS+ZNZ+LEO+SLB+NAB+QXNG+QXFU+QCOG+XPOL+XITP+XPLA+XRES+JN#JN01\nㆍ단ㆍ추,단추.NS+ZNZ+LEO+SLB+MCO+QSOA+JN#JN01\nㆍ단ㆍ층,단층.NS+ZNX+PXN+NZX+SLB+LEO+PHP+QMEA+XCLO+JN#JN02\nㆍ단ㆍ칸,단칸.NS+ZNX+PXN+NZX+SLB+LEO+QXPO+QXFP+XPOL+XEDU+XCLO+XSIN+JN#JN02\nㆍ단ㆍ판,단판.NS+ZNX+PXN+NZX+SLB+LEO+QSUS+XRES+JN#JN02\nㆍ단ㆍ편,단편.NS+ZNZ+LEO+SLB+NAB+QXNG+QXEL+QSOA+JN#JN02\nㆍ단ㆍ품,단품.NS+ZNZ+LEO+SLB+QHUM+XITP+JN#JN02\nㆍ단ㆍ풍,단풍.NS+ZNZ+LEO+SLB+MCO+QCOD+JN#JN02\nㆍ단ㆍ합,단합.NS+ZNZ+LEO+SLB+PHD+QCRA+JN#JN02\nㆍ단ㆍ행,단행.NS+ZNZ+LEO+SLB+PHV+QBOD+QCLL+QSUS+XCLO+JN#JN02\nㆍ달,달.NS+ZND+LEO+SLA+MES+NOU+QBOD+QPLT+XCUL+JN#JN02\nㆍ달ㆍ걀,달걀.NS+ZNZ+LEO+SLB+MCO+JN#JN03\nㆍ달ㆍ구ㆍ지,달구지.NS+ZND+LEO+SLC+MES+NOU+QSUS+XCOS+XCUL+XRES+JN#JN01\nㆍ달ㆍ래,달래.NS+ZNZ+LEO+SLB+MCO+QSOA+XEDU+XLIF+JN#JN01\nㆍ달ㆍ러,달러.NS+ZNF+SIM+SLB+NZF+LEO+ROM+QINA+XCLO+JN#JN01\nㆍ달ㆍ력,달력.NS+ZNX+SXN+NZX+SLB+LEO+QVOD+JN#JN02\nㆍ달ㆍ리ㆍ기,달리기.NS+ZNZ+LEO+SLC+PHV+PGN+QCOD+JN#JN01\nㆍ달ㆍ변,달변.NS+ZNZ+LEO+SLB+NAB+QVOD+JN#JN02\nㆍ달ㆍ음ㆍ박ㆍ질,달음박질.NS+ZNZ+LEO+SLD+PHV+QEVN+XXPR+XCLO+XCUL+XSER+XECO+JN#JN03\nㆍ달ㆍ음ㆍ질,달음질.NS+ZNZ+LEO+SLC+PHV+QMOM+JN#JN03\nㆍ달ㆍ인,달인.NS+ZNZ+LEO+SLB+MCO+QMOM+XLIF+XCUL+JN#JN02\nㆍ달ㆍ팽ㆍ이,달팽이.NS+ZNZ+LEO+SLC+MCO+QCRA+JN#JN01\nㆍ달ㆍ포,달포.NS+ZNX+SXN+NZX+SLB+LEO+QXNG+QXFU+QBIC+JN#JN01\nㆍ닭,닭.NS+ZNZ+LEO+SLA+MCO+QMOM+QPRC+JN#JN02\nㆍ담,담.NS+ZNZ+LEO+SLA+HAL+MCO+JN#JN02\nㆍ담ㆍ당,담당.NS+ZNZ+LEO+SLB+PHV+QXDE+QXEL+QPRC+XSWN+JN#JN02\nㆍ담ㆍ력,담력.NS+ZNX+SXN+NZX+SLB+LEO+QPRC+JN#JN02\nㆍ담ㆍ론,담론.NS+ZNZ+LEO+SLB+PHV+QSOA+QSHC+QART+XXCR+XQFT+XCUL+XECO+XPOL+XSIN+JN#JN02\nㆍ담ㆍ배,담배.NS+ZNZ+LEO+SLB+MCO+JN#JN01\nㆍ담ㆍ백,담백.NS+ZNM+LEO+SLB+MDN+JN#JN02\nㆍ담ㆍ보,담보.NS+ZNZ+LEO+SLB+PHV+QHUM+QSHC+XGAM+JN#JN01\nㆍ담ㆍ석,담석.NS+ZNX+SXN+NZX+SLB+LEO+QHUM+XQFT+XCUL+XSIN+JN#JN02\nㆍ담ㆍ소,담소.NS+ZNZ+LEO+SLB+PHV+JN#JN01\nㆍ담ㆍ요,담요.NS+ZNX+PXN+NZX+SLB+LEO+QBAN+QBPL+XSWN+XCUL+XRES+JN#JN01\nㆍ담ㆍ임,담임.NS+ZNZ+LEO+SLB+MCO+JN#JN02\nㆍ담ㆍ채ㆍ화,담채화.NS+ZNZ+LEO+SLC+HAL+MCO+QANM+QFOO+JN#JN01\nㆍ담ㆍ판,담판.NS+ZNZ+LEO+SLB+PHV+QART+XXCR+XMOV+JN#JN02\nㆍ담ㆍ화,담화.NS+ZNZ+LEO+SLB+PHV+JN#JN01\nㆍ답,답.NS+ZNZ+LEO+SLA+PHV+QXDE+QXEL+QEVN+XXPR+XRES+JN#JN02\nㆍ답ㆍ례,답례.NS+ZNX+SXN+NZX+SLB+LEO+PHV+QNTR+XXEV+XQFT+XCLO+XCOS+XCUL+XRES+XSPO+JN#JN01\nㆍ답ㆍ사,답사.NS+ZNX+SXN+NZX+SLB+LEO+HAL+QHUM+XCUL+JN#JN01\nㆍ답ㆍ신,답신.NS+ZNX+SXN+NZX+SLB+LEO+PHV+JN#JN02\nㆍ답ㆍ장,답장.NS+ZNX+SXN+NZX+SLB+LEO+PHV+QXPO+QXFP+JN#JN02\nㆍ닷ㆍ새,닷새.NS+ZNZ+LEO+SLB+NAB+QXDE+QXEL+QINC+QREG+JN#JN01\nㆍ당,당.NS+ZND+LEO+SLA+INC+QXNB+QXFU+QINC+XCUL+XSWN+JN#JN02\nㆍ당ㆍ구,당구.NS+ZNZ+LEO+SLB+HAL+NAB+PHV+QCOD+XXPR+JN#JN01\nㆍ당ㆍ국,당국.NS+ZNZ+LEO+SLB+NAB+XCUL+JN#JN02\nㆍ당ㆍ근,당근.NS+ZNZ+LEO+SLB+MCO+QINA+JN#JN02\nㆍ당ㆍ도,당도.NS+ZNX+SXN+NZX+SLB+LEO+QXDE+QXEL+QSOA+JN#JN01\nㆍ당ㆍ락,당락.NS+ZNZ+LEO+SLB+NAB+QCOD+JN#JN02\nㆍ당ㆍ론,당론.NS+ZNX+SXN+NZX+SLB+LEO+QXDE+QXEL+JN#JN02\nㆍ당ㆍ분,당분.NS+ZNX+SXN+NZX+SLB+LEO+QCRA+QCOG+XSPO+XITP+JN#JN02\nㆍ당ㆍ선,당선.NS+ZNZ+LEO+SLB+PHD+QCRC+QPRC+JN#JN02\nㆍ당ㆍ숙,당숙.NS+ZNZ+LEO+SLB+MCO+QXDE+QXEL+QPRO+QPLE+JN#JN02\nㆍ당ㆍ신,당신.NS+ZNP+LEO+SLB+SEC+ELE+DEU+QCRC+QHUM+JN#JN02\nㆍ당ㆍ위ㆍ적,당위적.NS+ZNM+LEO+SLC+JEG+XCUL+XSPO+JN#JN02\nㆍ당ㆍ일,당일.NS+ZNZ+LEO+SLB+NAB+QSUS+JN#JN03\nㆍ당ㆍ장,당장.NS+ZNZ+LEO+SLB+NAB+QCLL+JN#JN02\nㆍ당ㆍ직,당직.NS+ZNX+SXN+NZX+SLB+LEO+HAL+QXDE+QXEL+QSOA+QHUM+XCUL+XPOL+JN#JN02\nㆍ당ㆍ첨,당첨.NS+ZNZ+LEO+SLB+PHD+XRES+JN#JN02\nㆍ당ㆍ혹ㆍ감,당혹감.NS+ZNZ+LEO+SLC+NAB+QXNG+QXFU+QMEA+XSWN+JN#JN02\nㆍ당ㆍ황,당황.NS+ZNZ+LEO+SLB+QLOC+JN#JN02\nㆍ닻,닻.NS+ZNZ+LEO+SLA+MCO+QXNB+QXEL+QSTA+JN#JN02\nㆍ대,대.NS+ZND+LEO+SLA+MES+QXDE+QXEL+QPRO+XSWN+XECO+JN#JN01\nㆍ대ㆍ가,대가.NS+ZNZ+LEO+SLB+MCO+QEVN+QMUA+XSWN+JN#JN01\nㆍ대ㆍ가ㆍ리,대가리.NS+ZNZ+LEO+SLC+MCO+QXDE+QXEL+QDEC+JN#JN01\nㆍ대ㆍ갈ㆍ통,대갈통.NS+ZNZ+LEO+SLC+MCO+QPRC+JN#JN02\nㆍ대ㆍ감,대감.NS+ZNZ+LEO+SLB+MCO+QSOA+JN#JN02\nㆍ대ㆍ강,대강.NS+ZNZ+LEO+SLB+HAL+NAB+QHUM+XXPE+XPOL+XCUL+JN#JN02\nㆍ대ㆍ개,대개.NS+ZNZ+LEO+SLB+NAB+QXNG+QXFU+QSOA+JN#JN01\nㆍ대ㆍ거,대거.NS+ZNZ+LEO+SLB+PHV+QXDE+QXEL+QPRC+JN#JN01\nㆍ대ㆍ검,대검.NS+ZNX+PXN+NZX+SLB+LEO+QLOC+QHUM+QINA+QPRC+XCUL+JN#JN02\nㆍ대ㆍ구,대구.NS+ZNZ+LEO+SLB+MCO+QXDE+QXEL+JN#JN01\nㆍ대ㆍ군,대군.NS+ZNZ+LEO+SLB+NAB+QSOA+JN#JN02\nㆍ대ㆍ권,대권.NS+ZNZ+LEO+SLB+NAB+QXDE+QXEL+QCOG+QTMP+QPRD+XITP+XSIN+XCLO+XECO+XSER+JN#JN02\nㆍ대ㆍ궐,대궐.NS+ZNX+PXN+NZX+SLB+LEO+QXNB+QXSY+QBIO+XSWN+JN#JN03\nㆍ대ㆍ금,대금.NS+ZNZ+LEO+SLB+NAB+HAL+MCO+QXNG+QXFU+QHUM+XXPE+XPOL+JN#JN02\nㆍ대ㆍ꾸,대꾸.NS+ZNZ+LEO+SLB+PHV+QXPO+QXFP+QSOA+XPLA+JN#JN01\nㆍ대ㆍ낮,대낮.NS+ZNX+PXN+NZX+SLB+LEO+QPLT+JN#JN02\nㆍ대ㆍ내ㆍ외ㆍ적,대내외적.NS+ZNM+LEO+SLD+JEG+QCOD+JN#JN02\nㆍ대ㆍ담,대담.NS+ZNZ+LEO+SLB+PHV+QPRC+JN#JN02\nㆍ대ㆍ답,대답.NS+ZNX+PXN+NZX+SLB+LEO+PHV+QHUM+JN#JN02\nㆍ대ㆍ대,대대.NS+ZND+LEO+SLB+MES+NOU+QBOD+XXPR+XCUL+XRES+XSER+JN#JN01\nㆍ대ㆍ두,대두.NS+ZNZ+LEO+SLB+PHD+MCO+QCOD+JN#JN01\nㆍ대ㆍ들ㆍ보,대들보.NS+ZNZ+LEO+SLC+MCO+QCOG+XRES+XSIN+XCUL+JN#JN01\nㆍ대ㆍ략,대략.NS+ZNZ+LEO+SLB+NAB+QXSP+QXJO+QPSI+XPLA+XSWN+JN#JN02\nㆍ대ㆍ량,대량.NS+ZNZ+LEO+SLB+NAB+QXPO+QXJO+JN#JN02\nㆍ대ㆍ로,대로.NS+ZND+LEO+SLB+INC+QXDE+QXEL+QMEA+XECO+XITP+JN#JN01\nㆍ대ㆍ륙,대륙.NS+ZNZ+LEO+SLB+MCO+QXPO+QXJO+QPSI+XPLA+XSWN+XECO+XCOS+XGAM+JN#JN02\nㆍ대ㆍ리,대리.NS+ZNZ+LEO+SLB+MCO+QXDE+QXEL+QXNA+QINA+JN#JN01\nㆍ대ㆍ리ㆍ석,대리석.NS+ZNZ+LEO+SLC+MCO+QHUM+QSOA+JN#JN02\nㆍ대ㆍ망,대망.NS+ZNZ+LEO+SLB+NAB+PHV+QXPO+QXEL+QVIS+JN#JN02\nㆍ대ㆍ목,대목.NS+ZNZ+LEO+SLB+NAB+QXDE+QXEL+JN#JN02\nㆍ대ㆍ문,대문.NS+ZNX+PXN+NZX+SLB+LEO+QXPB+QXEL+XPOL+JN#JN02\nㆍ대ㆍ미,대미.NS+ZNM+LEO+SLB+MDN+QXDE+QXEL+QXNA+QDEC+QLIT+XECO+XSWN+JN#JN01\nㆍ대ㆍ본,대본.NS+ZNZ+LEO+SLB+PHV+QXNG+QXFU+QEVN+JN#JN02\nㆍ대ㆍ비,대비.NS+ZNX+PXN+NZX+SLB+LEO+QSOA+JN#JN01\nㆍ대ㆍ사,대사.NS+ZNZ+LEO+SLB+MCO+QXDE+QXEL+QPES+XSWN+XPOL+JN#JN01\nㆍ대ㆍ상,대상.NS+ZNM+LEO+SLB+PSN+QXDE+QPES+XSWN+JN#JN02\nㆍ대ㆍ선,대선.NS+ZNZ+LEO+SLB+QXDE+QXEL+QBIC+QPRT+QTOU+XITP+JN#JN02\nㆍ대ㆍ세,대세.NS+ZNZ+LEO+SLB+NAB+QXPO+QXJO+QSOA+XSER+XPLA+XSWN+XECO+XITP+JN#JN01\nㆍ대ㆍ소,대소.NS+ZNZ+LEO+SLB+PHV+NAB+QCLT+XLIF+JN#JN01\nㆍ대ㆍ안ㆍ적,대안적.NS+ZNM+LEO+SLC+JEG+QANM+JN#JN02\nㆍ대ㆍ양,대양.NS+ZNZ+LEO+SLB+NAB+QBOD+JN#JN02\nㆍ대ㆍ어,대어.NS+ZNZ+LEO+SLB+MCO+QHUM+XCUL+JN#JN01\nㆍ대ㆍ여,대여.NS+ZNZ+LEO+SLB+PHD+QINC+JN#JN01\nㆍ대ㆍ역,대역.NS+ZNZ+LEO+SLB+NAB+PHV+QCRR+XQFT+XCEL+XRES+XPLA+XSIN+XCLO+JN#JN02\nㆍ대ㆍ열,대열.NS+ZNZ+LEO+SLB+MCO+QXDE+QXEL+QCLT+XSIN+JN#JN03\nㆍ대ㆍ외,대외.NS+ZNM+LEO+SLB+MDN+QAND+JN#JN01\nㆍ대ㆍ의,대의.NS+ZNZ+LEO+SLB+NAB+QINS+QSOA+JN#JN01\nㆍ대ㆍ인,대인.NS+ZNZ+LEO+SLB+MCO+PHV+QBUI+JN#JN02\nㆍ대ㆍ자ㆍ보,대자보.NS+ZNZ+LEO+SLC+MCO+QCLL+XPOL+XCUL+XSOC+JN#JN01\nㆍ대ㆍ장,대장.NS+ZNZ+LEO+SLB+MCO+QXNG+QXFU+QSOA+QPRC+JN#JN02\nㆍ대ㆍ장ㆍ장ㆍ이,대장장이.NS+ZNZ+LEO+SLD+MCO+JN#JN01\nㆍ대ㆍ전,대전.NS+ZNZ+LEO+SLB+MCO+NAB+PHV+QCRA+JN#JN02\nㆍ대ㆍ졸,대졸.NS+ZNZ+LEO+SLB+NAB+QXAD+QXEL+QCOM+QDIM+QSTR+XITP+JN#JN03\nㆍ대ㆍ중,대중.NS+ZNZ+LEO+SLB+NAB+QSOA+XCUL+XSPO+JN#JN02\nㆍ대ㆍ중ㆍ적,대중적.NS+ZNM+LEO+SLC+JEG+QXDE+QXEL+QPRO+JN#JN02\nㆍ대ㆍ지,대지.NS+ZNZ+LEO+SLB+MCO+QXNG+QXFU+QSOA+XPOL+XSWN+JN#JN01\nㆍ대ㆍ책,대책.NS+ZNZ+LEO+SLB+NAB+XXPE+JN#JN02\nㆍ대ㆍ첩,대첩.NS+ZNZ+LEO+SLB+PHV+QXPO+QXFP+QSOA+XITP+XRES+XSIN+XWOR+JN#JN02\nㆍ대ㆍ체,대체.NS+ZNZ+LEO+SLB+NAB+QXNG+QXFU+QSOA+JN#JN01\nㆍ대ㆍ체ㆍ적,대체적.NS+ZNM+LEO+SLC+JEG+QXNG+QXFU+XPOL+XLIF+JN#JN02\nㆍ대ㆍ추,대추.NS+ZNZ+LEO+SLB+MCO+QXDE+QXEL+QSOA+XSIN+XRES+XCUL+JN#JN01\nㆍ대ㆍ충,대충.NS+ZNZ+LEO+SLB+NAB+JN#JN02\nㆍ대ㆍ칭,대칭.NS+ZNZ+LEO+SLB+NAB+QXNG+QXFU+QSOA+XCUL+XSWN+JN#JN02\nㆍ대ㆍ타,대타.NS+ZNZ+LEO+SLB+PHV+QXDE+QXEL+QDEC+QPRC+QLOW+XECO+JN#JN01\nㆍ대ㆍ통ㆍ령,대통령.NS+ZNZ+LEO+SLC+MCO+QXNG+QXFU+QINA+XPOL+JN#JN02\nㆍ대ㆍ판,대판.NS+ZNX+PXN+NZX+SLB+LEO+JN#JN02\nㆍ대ㆍ패,대패.NS+ZNZ+LEO+SLB+MCO+PHV+JN#JN01\nㆍ대ㆍ포,대포.NS+ZNX+PXN+NZX+SLB+LEO+QXDE+QXEL+QANM+XRES+XCUL+JN#JN01\nㆍ대ㆍ폭,대폭.NS+ZNX+PXN+NZX+SLB+LEO+QCOD+JN#JN02\nㆍ대ㆍ표,대표.NS+ZNZ+LEO+SLB+MCO+QPRC+JN#JN01\nㆍ대ㆍ표ㆍ적,대표적.NS+ZNM+LEO+SLC+JEG+QANM+JN#JN02\nㆍ대ㆍ학,대학.NS+ZNZ+LEO+SLB+NAB+QINA+JN#JN02\nㆍ대ㆍ합ㆍ실,대합실.NS+ZNZ+LEO+SLC+MCO+QXDE+QXEL+JN#JN03\nㆍ대ㆍ해,대해.NS+ZNX+PXN+NZX+SLB+LEO+QMEA+XEDU+JN#JN01\nㆍ대ㆍ형,대형.NS+ZNZ+LEO+SLB+MCO+QANM+XCUL+XITP+JN#JN02\nㆍ대ㆍ회,대회.NS+ZNZ+LEO+SLB+PHV+QXDE+QXEL+JN#JN01\nㆍ댁,댁.NS+ZND+LEO+SLA+INC+QPRO+XCUL+XCLO+JN#JN02\nㆍ댄ㆍ서,댄서.NS+ZNF+SIM+SLB+NZF+LEO+ROM+QXDE+QXEL+JN#JN01\nㆍ댄ㆍ스,댄스.NS+ZNF+SIM+SLB+NZF+LEO+ROM+QSOA+XGAM+XACT+XCLO+XITP+XMOV+JN#JN01\nㆍ댐,댐.NS+ZNF+SIM+SLA+NZF+LEO+ROM+QPRC+QCRC+XCUL+JN#JN02\nㆍ댕ㆍ기,댕기.NS+ZNZ+LEO+SLB+MCO+QXPO+QXFP+QPRC+XITP+XPOL+XSWN+XPLA+JN#JN01\nㆍ더,더.NS+ZNZ+LEO+SLA+PHD+QCRC+XCUL+JN#JN01\nㆍ더ㆍ덕,더덕.NS+ZNZ+LEO+SLB+MCO+QXPO+QXEL+QPRO+XRES+XPLA+JN#JN02\nㆍ더ㆍ듬ㆍ이,더듬이.NS+ZNZ+LEO+SLC+MCO+QXPO+QXEL+JN#JN01\nㆍ더ㆍ블,더블.NS+ZNF+SIM+SLB+NZF+LEO+ROM+QXDE+QXEL+QSOA+XCLO+JN#JN03\nㆍ더ㆍ위,더위.NS+ZNZ+LEO+SLB+NAB+QXDE+QXEL+QLOG+XECO+JN#JN01\nㆍ더ㆍ하ㆍ기,더하기.NS+ZNZ+LEO+SLC+PGN+QLAN+JN#JN01\nㆍ덕,덕.NS+ZNZ+LEO+SLA+NAB+QREG+JN#JN02\nㆍ덕ㆍ담,덕담.NS+ZNX+SXN+NZX+SLB+LEO+PHV+QCRC+JN#JN02\nㆍ덕ㆍ망,덕망.NS+ZNX+SXN+NZX+SLB+LEO+QDAD+XCUL+JN#JN02\nㆍ덕ㆍ목,덕목.NS+ZNX+SXN+NZX+SLB+LEO+QHUM+XCLO+XCUL+XSIN+XLIF+JN#JN02\nㆍ덕ㆍ분,덕분.NS+ZNZ+LEO+SLB+NAB+QXDE+QXEL+XPOL+XCUL+JN#JN02\nㆍ덕ㆍ택,덕택.NS+ZNZ+LEO+SLB+NAB+QINA+QSOA+XPOL+JN#JN02\nㆍ던ㆍ지ㆍ기,던지기.NS+ZNZ+LEO+SLC+PGN+PHV+QPRC+JN#JN01\nㆍ덜ㆍ미,덜미.NS+ZNZ+LEO+SLB+MCO+QPRC+XPOL+JN#JN01\nㆍ덤,덤.NS+ZNZ+LEO+SLA+MCO+QCOD+JN#JN02\nㆍ덤ㆍ불,덤불.NS+ZNZ+LEO+SLB+MCO+QPRC+XSWN+JN#JN03\nㆍ덧ㆍ셈,덧셈.NS+ZNX+PXN+NZX+SLB+LEO+PHV+QXSN+QXAN+QPSI+XPOL+JN#JN02\nㆍ덧ㆍ신,덧신.NS+ZNX+PXN+NZX+SLB+LEO+QCRC+XCEL+XITP+JN#JN02\nㆍ덧ㆍ칠,덧칠.NS+ZNX+PXN+NZX+SLB+LEO+PHV+QCOD+XCUL+JN#JN03\nㆍ덩ㆍ굴,덩굴.NS+ZNZ+LEO+SLB+MCO+QINA+JN#JN03\nㆍ덩ㆍ어ㆍ리,덩어리.NS+ZND+LEO+SLC+MES+NOU+QSOA+JN#JN01\nㆍ덩ㆍ이,덩이.NS+ZND+LEO+SLB+MES+NOU+QCRC+XQFT+XPOL+XLIF+XSOC+XCUL+JN#JN01\nㆍ덫,덫.NS+ZNZ+LEO+SLA+MCO+QXPO+QXEL+XPOL+JN#JN02\nㆍ덮ㆍ개,덮개.NS+ZNZ+LEO+SLB+HAL+MCO+QSOA+XSOC+JN#JN01\nㆍ덮ㆍ밥,덮밥.NS+ZNX+PXN+NZX+SLB+LEO+HAL+QCRC+JN#JN02\nㆍ데,데.NS+ZND+LEO+SLA+INC+QHUM+JN#JN01\nㆍ데ㆍ모,데모.NS+ZNF+SIM+SLB+NZF+LEO+ROM+QXDE+QXEL+XCUL+XPOL+JN#JN01\nㆍ데ㆍ뷔,데뷔.NS+ZNF+SIM+SLB+NZF+LEO+ROM+QXNG+QXFU+QBIC+JN#JN01\nㆍ데ㆍ생,데생.NS+ZNF+SIM+SLB+NZF+LEO+ROM+QBUI+XXCR+XSER+JN#JN02\nㆍ데ㆍ스ㆍ크,데스크.NS+ZNF+SIM+SLC+NZF+LEO+ROM+QHUM+JN#JN01\nㆍ데ㆍ시ㆍ벨,데시벨.NS+ZND+LEO+SLC+MES+CLA+JN#JN03\nㆍ데ㆍ이ㆍ터,데이터.NS+ZNF+SIM+SLC+NZF+LEO+ROM+QREG+JN#JN01\nㆍ도,도.NS+ZNF+SIM+SLA+NZF+LEO+ROM+QXNB+QXDI+QTMP+JN#JN01\nㆍ도ㆍ감,도감.NS+ZNZ+LEO+SLB+MCO+QPRD+JN#JN02\nㆍ도ㆍ구,도구.NS+ZNZ+LEO+SLB+MCO+QCRR+XPOL+XCUL+JN#JN01\nㆍ도ㆍ깨ㆍ비,도깨비.NS+ZNZ+LEO+SLC+MCO+QXDE+QXEL+QMUA+XSIN+XCLO+XITP+XSOC+XCUL+JN#JN01\nㆍ도ㆍ끼,도끼.NS+ZNZ+LEO+SLB+MCO+QXNG+QXFU+QHUM+JN#JN01\nㆍ도ㆍ난,도난.NS+ZNZ+LEO+SLB+NAB+QSHC+XPOL+JN#JN02\nㆍ도ㆍ넛,도넛.NS+ZNF+SIM+SLB+NZF+LEO+ROM+QCOD+XXPR+JN#JN02\nㆍ도ㆍ둑,도둑.NS+ZNZ+LEO+SLB+MCO+QXNG+QXFU+QANM+XLIF+XCUL+JN#JN02\nㆍ도ㆍ라ㆍ지,도라지.NS+ZNZ+LEO+SLC+MCO+QXAD+QXEL+QHUM+XPOL+XSIN+JN#JN01\nㆍ도ㆍ랑,도랑.NS+ZNZ+LEO+SLB+MCO+QANM+XXPR+XXPE+XMOV+XSIN+JN#JN02\nㆍ도ㆍ련ㆍ님,도련님.NS+ZNZ+LEO+SLC+MCO+QHUM+JN#JN02\nㆍ도ㆍ로,도로.NS+ZNZ+LEO+SLB+MCO+QXNG+QXNA+QSHC+XCUL+JN#JN01\nㆍ도ㆍ롱ㆍ뇽,도롱뇽.NS+ZNZ+LEO+SLC+MCO+QCRR+JN#JN02\nㆍ도ㆍ료,도료.NS+ZNZ+LEO+SLB+MCO+JN#JN01\nㆍ도ㆍ르ㆍ래,도르래.NS+ZNZ+LEO+SLC+MCO+QXNG+QXFU+QDIS+XSWN+JN#JN01\nㆍ도ㆍ리,도리.NS+ZNZ+LEO+SLB+QBUI+XCUL+JN#JN01\nㆍ도ㆍ립,도립.NS+ZNX+SXN+NZX+SLB+LEO+DFS+QXNG+QXFU+QXNR+QINA+XPOL+JN#JN02\nㆍ도ㆍ마,도마.NS+ZNZ+LEO+SLB+MCO+QPRD+XXPR+XECO+XSER+JN#JN01\nㆍ도ㆍ망,도망.NS+ZNZ+LEO+SLB+PHV+QHUM+XXPE+XCUL+XMOV+JN#JN02\nㆍ도ㆍ매,도매.NS+ZNZ+LEO+SLB+PHV+QXNG+QXFU+QXNR+QSOA+XCUL+XSWN+XECO+XPOL+JN#JN01\nㆍ도ㆍ면,도면.NS+ZNZ+LEO+SLB+MCO+QCRA+JN#JN02\nㆍ도ㆍ미,도미.NS+ZNZ+LEO+SLB+MCO+PHV+QXNG+QXFU+QHUM+XSWN+XITP+XPOL+XECO+XWOR+JN#JN01\nㆍ도ㆍ미ㆍ노,도미노.NS+ZNF+SIM+SLC+NZF+LEO+ROM+QXNG+QXFU+QCOG+XPLA+XPOL+JN#JN01\nㆍ도ㆍ박,도박.NS+ZNZ+LEO+SLB+PHV+NAB+QBOD+XPOL+JN#JN02\nㆍ도ㆍ벽,도벽.NS+ZNZ+LEO+SLB+NAB+QINA+JN#JN02\nㆍ도ㆍ보,도보.NS+ZNM+LEO+SLB+PSN+QXNG+QXFE+QPSI+XPOL+XPLA+XSWN+XITP+XSOC+JN#JN01\nㆍ도ㆍ서,도서.NS+ZNZ+LEO+SLB+MCO+QXDE+QXEL+QTMP+JN#JN01\nㆍ도ㆍ시,도시.NS+ZNZ+LEO+SLB+NAB+QCRC+JN#JN01\nㆍ도ㆍ시ㆍ락,도시락.NS+ZNZ+LEO+SLC+MCO+QBUI+QLOC+XCUL+XRES+XTUR+JN#JN02\nㆍ도ㆍ심,도심.NS+ZNZ+LEO+SLB+NAB+QCRC+XCUL+JN#JN02\nㆍ도ㆍ안,도안.NS+ZNX+PXN+NZX+SLB+LEO+PHP+QXPO+QXEL+JN#JN02\nㆍ도ㆍ예,도예.NS+ZNZ+LEO+SLB+HAL+NAB+PHV+QART+JN#JN01\nㆍ도ㆍ우ㆍ미,도우미.NS+ZNZ+LEO+SLC+QXPO+QXFP+XCUL+XSOC+JN#JN01\nㆍ도ㆍ움,도움.NS+ZNZ+LEO+SLB+NAB+QPRD+XXPR+JN#JN02\nㆍ도ㆍ장,도장.NS+ZNZ+LEO+SLB+HAL+MCO+PHV+QPRD+JN#JN02\nㆍ도ㆍ적,도적.NS+ZNZ+LEO+SLB+MCO+QINA+JN#JN02\nㆍ도ㆍ중,도중.NS+ZNM+LEO+SLB+PSN+QSOA+JN#JN02\nㆍ도ㆍ치,도치.NS+ZNZ+LEO+SLB+PHD+QSOA+QMEA+QCLO+QART+XPOL+XITP+XCLO+JN#JN01\nㆍ도ㆍ토ㆍ리,도토리.NS+ZNZ+LEO+SLC+MCO+QXDE+QXEL+QSOA+JN#JN01\nㆍ도ㆍ통,도통.NS+ZNZ+LEO+SLB+PHV+QSOA+XXOR+XXPE+XPOL+XLIF+XCUL+XSOC+JN#JN02\nㆍ도ㆍ표,도표.NS+ZNX+PXN+NZX+SLB+LEO+PHP+QINA+QSHC+JN#JN01\nㆍ도ㆍ핑,도핑.NS+ZNF+SIM+SLB+NZF+LEO+ROM+QSOA+JN#JN02\nㆍ도ㆍ합,도합.NS+ZNX+PXN+NZX+SLB+LEO+PHV+XXCR+XITP+JN#JN02\nㆍ도ㆍ형,도형.NS+ZNZ+LEO+SLB+MCO+QLOC+XCLO+XCUL+XRES+XCOS+XITP+JN#JN02\nㆍ도ㆍ화ㆍ지,도화지.NS+ZNZ+LEO+SLC+MCO+QHTP+XXPR+JN#JN01\nㆍ독,독.NS+ZNZ+LEO+SLA+MCO+QSHC+JN#JN02\nㆍ독ㆍ감,독감.NS+ZNZ+LEO+SLB+NAB+QTRM+JN#JN02\nㆍ독ㆍ거,독거.NS+ZNZ+LEO+SLB+PHV+QXNG+QXEL+QATT+XSWN+JN#JN01\nㆍ독ㆍ단,독단.NS+ZNZ+LEO+SLB+PHV+QHUM+XPOL+JN#JN02\nㆍ독ㆍ립ㆍ적,독립적.NS+ZNM+LEO+SLC+JEG+QCOD+JN#JN02\nㆍ독ㆍ방,독방.NS+ZNX+PXN+NZX+SLB+LEO+QINS+XRES+XCUL+JN#JN02\nㆍ독ㆍ배,독배.NS+ZNX+SXN+NZX+SLB+LEO+QXDE+QXNA+QDEC+QLIT+QWEA+JN#JN01\nㆍ독ㆍ보ㆍ적,독보적.NS+ZNM+LEO+SLC+JEG+QXAD+QXEL+QMUA+JN#JN02\nㆍ독ㆍ서,독서.NS+ZNZ+LEO+SLB+PHV+QMUA+JN#JN01\nㆍ독ㆍ소,독소.NS+ZNX+SXN+NZX+SLB+LEO+QINS+XRES+XLIF+JN#JN01\nㆍ독ㆍ수ㆍ리,독수리.NS+ZNZ+LEO+SLC+MCO+QEVN+XEDU+JN#JN01\nㆍ독ㆍ신,독신.NS+ZNZ+LEO+SLB+MCO+QTMP+JN#JN02\nㆍ독ㆍ심ㆍ술,독심술.NS+ZNZ+LEO+SLC+NAB+QPRO+JN#JN03\nㆍ독ㆍ자,독자.NS+ZNZ+LEO+SLB+MCO+QXDE+QXEL+QPRO+XQFT+XPOL+XSIN+XCUL+XEDU+JN#JN01\nㆍ독ㆍ자ㆍ적,독자적.NS+ZNM+LEO+SLC+JEG+QXDE+QXEL+QSOA+XSWN+JN#JN02\nㆍ독ㆍ재,독재.NS+ZNZ+LEO+SLB+PHV+QXNB+QXEL+QSOA+XPOL+JN#JN01\nㆍ독ㆍ재ㆍ적,독재적.NS+ZNM+LEO+SLC+JEG+QINA+JN#JN02\nㆍ독ㆍ점ㆍ적,독점적.NS+ZNM+LEO+SLC+JEG+QINA+JN#JN02\nㆍ독ㆍ종,독종.NS+ZNZ+LEO+SLB+MCO+QXDE+QXEL+QTRM+XSWN+JN#JN02\nㆍ독ㆍ창,독창.NS+ZNZ+LEO+SLB+PHV+QCOG+JN#JN02\nㆍ독ㆍ창ㆍ성,독창성.NS+ZNZ+LEO+SLC+NAB+QMEA+XPOL+JN#JN02\nㆍ독ㆍ채,독채.NS+ZNZ+LEO+SLB+HAL+MCO+JN#JN01\nㆍ독ㆍ트ㆍ린,독트린.NS+ZNF+SIM+SLC+NZF+LEO+ROM+QNTR+XPLA+XPOL+XCOS+XSPO+XSIN+JN#JN02\nㆍ돈,돈.NS+ZNZ+LEO+SLA+NAB+QXNG+QXNF+QSOA+JN#JN02\nㆍ돈ㆍ가ㆍ스,돈가스.NS+ZNF+SIM+SLC+NZF+LEO+NRO+QINA+JN#JN01\nㆍ돈ㆍ육,돈육.NS+ZNZ+LEO+SLB+MCO+QXNG+QXFU+QMUA+JN#JN02\nㆍ돋ㆍ보ㆍ기,돋보기.NS+ZNZ+LEO+SLC+PGN+QXNG+QXFU+QXNA+QMUA+XITP+JN#JN01\nㆍ돌,돌.NS+ZND+LEO+SLA+MES+NOU+QNAC+JN#JN03\nㆍ돌ㆍ격,돌격.NS+ZNZ+LEO+SLB+PHV+QXDE+QXEL+XPOL+JN#JN02\nㆍ돌ㆍ발,돌발.NS+ZNZ+LEO+SLB+PHV+QXPO+QXFP+QCRC+XSWN+JN#JN03\nㆍ돌ㆍ연,돌연.NS+ZNM+LEO+SLB+MDN+QSHC+XITP+XSIN+JN#JN02\nㆍ돌ㆍ출,돌출.NS+ZNZ+LEO+SLB+PHD+QXDE+QXEL+XPOL+JN#JN03\nㆍ돌ㆍ풍,돌풍.NS+ZNZ+LEO+SLB+NAB+QMUA+JN#JN02\nㆍ돔,돔.NS+ZNF+SIM+SLA+NZF+LEO+ROM+QMEA+QSHC+JN#JN02\nㆍ동,동.NS+ZND+LEO+SLA+MES+QXNG+QXFU+QNTR+XLIF+XITP+JN#JN02\nㆍ동ㆍ감,동감.NS+ZNZ+LEO+SLB+PHV+QMUA+XCUL+XITP+XSIN+JN#JN02\nㆍ동ㆍ갑,동갑.NS+ZNZ+LEO+SLB+NAB+QSHC+JN#JN02\nㆍ동ㆍ공,동공.NS+ZNZ+LEO+SLB+MCO+QMEA+JN#JN02\nㆍ동ㆍ굴,동굴.NS+ZNX+PXN+NZX+SLB+LEO+QMUA+JN#JN03\nㆍ동ㆍ그ㆍ라ㆍ미,동그라미.NS+ZNZ+LEO+SLD+HAL+MCO+QPRO+XCOS+JN#JN01\nㆍ동ㆍ급,동급.NS+ZNX+PXN+NZX+SLB+LEO+QDID+JN#JN02\nㆍ동ㆍ기,동기.NS+ZNM+LEO+SLB+PSN+JN#JN01\nㆍ동ㆍ네,동네.NS+ZND+LEO+SLB+MES+NOU+JN#JN01\nㆍ동ㆍ녘,동녘.NS+ZNZ+LEO+SLB+NAB+QXDE+QXEL+QDEC+QLIG+QHUM+JN#JN02\nㆍ동ㆍ동ㆍ주,동동주.NS+ZNZ+LEO+SLC+HAL+MCO+QREG+JN#JN01\nㆍ동ㆍ력,동력.NS+ZNZ+LEO+SLB+NAB+QPRC+XPLA+JN#JN02\nㆍ동ㆍ료,동료.NS+ZNZ+LEO+SLB+MCO+QHUM+XQFT+XTUR+XRES+JN#JN01\nㆍ동ㆍ맹,동맹.NS+ZNZ+LEO+SLB+PHV+QXDE+QXEL+QPRO+QLIG+JN#JN02\nㆍ동ㆍ무,동무.NS+ZNZ+LEO+SLB+MCO+QSOA+QREG+XCUL+XITP+JN#JN01\nㆍ동ㆍ문,동문.NS+ZNX+PXN+NZX+SLB+LEO+QMEA+JN#JN02\nㆍ동ㆍ물,동물.NS+ZNZ+LEO+SLB+MCO+QINA+XCUL+JN#JN03\nㆍ동ㆍ방,동방.NS+ZNZ+LEO+SLB+NAB+QXPO+QXFP+QEVN+QHUM+XSWN+JN#JN02\nㆍ동ㆍ백,동백.NS+ZNZ+LEO+SLB+MCO+QBIC+XRES+XCUL+JN#JN02\nㆍ동ㆍ사,동사.NS+ZNZ+LEO+SLB+NAB+QXDE+QXEL+QPSI+JN#JN01\nㆍ동ㆍ산,동산.NS+ZNX+PXN+NZX+SLB+LEO+QCRA+JN#JN02\nㆍ동ㆍ상,동상.NS+ZNX+SXN+NZX+SLB+LEO+QMEA+QSOA+QHUM+QART+XCUL+XECO+JN#JN02\nㆍ동ㆍ생,동생.NS+ZNZ+LEO+SLB+MCO+QXDE+QXEL+QINA+XSWN+JN#JN02\nㆍ동ㆍ선,동선.NS+ZNZ+LEO+SLB+PHV+QLAN+JN#JN02\n['ㆍ가ㆍ게,가게.NS+ZNZ+LEO+SLB+HAL+MCO+JN#JN01', 'ㆍ가ㆍ결,가결.NS+ZNZ+LEO+SLB+PHV+JN#JN03', 'ㆍ가ㆍ계,가계.NS+ZNZ+LEO+SLB+NAB+JN#JN01', 'ㆍ가ㆍ곡,가곡.NS+ZNX+PXN+NZX+SLB+LEO+HAL+JN#JN02', 'ㆍ가ㆍ공,가공.NS+ZNM+LEO+SLB+PSN+QHUM+XQFT+XCUL+XSIN+JN#JN02', 'ㆍ가ㆍ관,가관.NS+ZNZ+LEO+SLB+NAB+JN#JN02', 'ㆍ가ㆍ구,가구.NS+ZND+LEO+SLB+MES+NOU+JN#JN01', 'ㆍ가ㆍ난,가난.NS+ZNZ+LEO+SLB+PHA+JN#JN02', 'ㆍ가ㆍ능,가능.NS+ZNM+LEO+SLB+MDN+JN#JN02', 'ㆍ가ㆍ닥,가닥.NS+ZND+LEO+SLB+MES+NOU+JN#JN02']\n"
    }
   ],
   "source": [
    "\n",
    "\n",
    "#구분자들\n",
    "spc = \"ㆍ\"\n",
    "com = \",\"\n",
    "plus = \"+\"\n",
    "dot = \".\"\n",
    "\n",
    "#딕셔너리 자료형의 특징을 이용하여 리스트 요소 순서를 우지하며 중복 제거하기\n",
    "from collections import OrderedDict\n",
    "\n",
    "def rmvspc(alist):\n",
    "    d = OrderedDict()\n",
    "    for i in alist:\n",
    "        d[i] = True\n",
    "        res = list(d.keys())\n",
    "    return res\n",
    "\n",
    "#dic작성 시작\n",
    "dic_lst = []\n",
    "ind_l = len(df.index)\n",
    "\n",
    "for i in range(0, ind_l):\n",
    "    dic = \"ㆍ\"\n",
    "    ind_lst = list(df.iloc[i])\n",
    "    inf_lst = rmvspc(ind_lst)\n",
    "    inf_lst.remove('')\n",
    "    lem = inf_lst[0]\n",
    "    sep_lem = spc.join(lem)\n",
    "    dic = dic + sep_lem + com + lem + dot\n",
    "    cat = inf_lst[1]\n",
    "    dic = dic + cat[0:2]\n",
    "    for x in range(2, len(inf_lst)):\n",
    "        inf = inf_lst[x]\n",
    "        dic = dic + plus + inf ##이곳이 문제\n",
    "    last = plus + \"JN#JN\" + cat[-2:]\n",
    "    dic1 = dic + last\n",
    "    print(dic1)\n",
    "    dic_lst.append(str(dic1))\n",
    "\n",
    "print(dic_lst[:10])\n",
    "\n",
    "# writedata.py\n",
    "f = open(r\"E:\\Programming\\python\\NLP\\DecoLexO\\DecoLexO\\Edit\\results\\dic_res.dic\", 'w',encoding='utf-8-sig')\n",
    "\n",
    "\n",
    "\n",
    "for i in range(len(dic_lst)):\n",
    "    f.write('%s \\n' % dic_lst[i])\n",
    "\n",
    "\n",
    "f.close()"
   ]
  },
  {
   "cell_type": "code",
   "execution_count": 115,
   "metadata": {},
   "outputs": [],
   "source": [
    "##dic 형식###\n",
    "###ㆍ한ㆍ국ㆍCㆍAㆍTㆍVㆍ나ㆍ라ㆍ방ㆍ송,한국CATV나라방송.NS+ZNW+XXOR+XXCO+XQBR+JN#JN02"
   ]
  },
  {
   "cell_type": "code",
   "execution_count": 13,
   "metadata": {},
   "outputs": [
    {
     "data": {
      "text/plain": "'ㆍ가ㆍ게,가게.NS+ZNZ+JN#JN01+LEO+JN#JN01+SLB+JN#JN01+HAL+JN#JN01+MCO+JN#JN01++JN#JN01'"
     },
     "execution_count": 13,
     "metadata": {},
     "output_type": "execute_result"
    }
   ],
   "source": [
    "'ㆍ가ㆍ게,가게.NS+ZNZ+JN#JN01+LEO+JN#JN01+SLB+JN#JN01+HAL+JN#JN01+MCO+JN#JN01++JN#JN01'\n"
   ]
  },
  {
   "cell_type": "code",
   "execution_count": 25,
   "metadata": {},
   "outputs": [
    {
     "name": "stdout",
     "output_type": "stream",
     "text": "k\nTrue\n\nTrue\nl\nTrue\nk\nTrue\n['k', '', 'l']\n"
    }
   ],
   "source": [
    "p = ['k', '','l','k']\n",
    "#딕셔너리 형식으로 중복제거\n",
    "from collections import OrderedDict\n",
    "\n",
    "d = OrderedDict()\n",
    "for i in p:\n",
    "    print(i)\n",
    "    d[i] = True\n",
    "    print(d[i])\n",
    "    res = list(d.keys())\n",
    "print(res)\n"
   ]
  },
  {
   "cell_type": "code",
   "execution_count": 17,
   "metadata": {},
   "outputs": [
    {
     "name": "stdout",
     "output_type": "stream",
     "text": "['k', 'l']\n"
    }
   ],
   "source": [
    "print(p)"
   ]
  },
  {
   "cell_type": "code",
   "execution_count": null,
   "metadata": {},
   "outputs": [],
   "source": []
  }
 ]
}