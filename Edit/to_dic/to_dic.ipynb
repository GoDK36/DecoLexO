{
 "nbformat": 4,
 "nbformat_minor": 2,
 "metadata": {
  "language_info": {
   "name": "python",
   "codemirror_mode": {
    "name": "ipython",
    "version": 3
   },
   "version": "3.7.6-final"
  },
  "orig_nbformat": 2,
  "file_extension": ".py",
  "mimetype": "text/x-python",
  "name": "python",
  "npconvert_exporter": "python",
  "pygments_lexer": "ipython3",
  "version": 3,
  "kernelspec": {
   "name": "python37664bitbaseconda7ccc1197ea424c04aa8e970980241a68",
   "display_name": "Python 3.7.6 64-bit ('base': conda)"
  }
 },
 "cells": [
  {
   "cell_type": "code",
   "execution_count": 92,
   "metadata": {},
   "outputs": [],
   "source": [
    "import pandas as pd\n",
    "import numpy as np\n",
    "import os, re\n",
    "\n",
    "df = pd.read_csv(r'E:\\Programming\\python\\NLP\\DecoLexO\\DecoLexO\\Edit\\example\\DECO-Ver5.2-NS-2019-Kernel-DevTest.csv',encoding = 'utf-8-sig')\n",
    "\n",
    "#첫 행 살리기\n",
    "col_rgx = re.compile(r'[A-Za-z]{6,}[:\\.]?')\n",
    "first = list(df.columns)\n",
    "df.loc[0] = first\n",
    "for val in first:\n",
    "    m = col_rgx.match(val)\n",
    "    if m:\n",
    "        x = first.index(val)\n",
    "        first[x] = np.nan\n",
    "    else:\n",
    "        continue\n",
    "df.loc[0] = first\n",
    "\n",
    "##행 이름 변경하기\n",
    "df = df.fillna('')\n",
    "sem_rgx = re.compile(r'[Q][A-Z]{3}')  #semantic tagset\n",
    "syn_rgx = re.compile(r'[Y][A-Z]{3}')  #syntactic tagset\n",
    "dom_rgx = re.compile(r'[X]{1}[ABCDEFGHIJKLMNOPQRSTUVWYZ]{3}')  #domain tagset\n",
    "ent_rgx = re.compile(r'[X]{2}[A-Z]{2}') #entity tagset\n",
    "mor_rgx = re.compile(r'[A-Z]{3}') #morph tagset\n",
    "seminfo = []\n",
    "syninfo = []\n",
    "dominfo = []\n",
    "entinfo = []\n",
    "morinfo = []\n",
    "\n",
    "#컬럼의 총 개수를 l에 저장한다.\n",
    "#컬럼의 개수 만큼 lemma와 category뒤에 lemma와 category개수인 2를 뺀만큼\n",
    "#''를 추가해 주어 해당 컬럼 개수 만큼의 리스트 col_nme을 만들어 준다.\n",
    "l = len(df.columns)\n",
    "col_nme = ['Lemma','Category']\n",
    "for i in range(l-2):\n",
    "    col_nme.append('')\n",
    "#sem =>SemInfo 뒤에 붙을 숫자 \n",
    "#syn =>SynInfo 뒤에 붙을 숫자 \n",
    "#dom =>DomInfo 뒤에 붙을 숫자 \n",
    "#ent =>EntInfo 뒤에 붙을 숫자 \n",
    "#mor =>MorInfo 뒤에 붙을 숫자 \n",
    "sem = 1\n",
    "syn = 1\n",
    "dom = 1\n",
    "ent = 1\n",
    "mor = 1\n",
    "\n",
    "#x를 컬럼의 개수 만큼의 숫자로 지정해 준다.\n",
    "#col_val은 해당 df의 열을 리스트화 시켜준 것이다.\n",
    "for x in range(0, l):\n",
    "    col_val = df.iloc[:, x].tolist()\n",
    "    #cnt가 0이면 일치하는 값을 못 찾았다는 의미로 해석(ex 모두 빈칸인 열을 만났을 때)\n",
    "    #밑에서 cnt == 0 일때 앞에 정보를 보고 빈칸의 정보를 수정할 때 사용한다.\n",
    "    cnt = 0\n",
    "    #k로 col_val의 리스트 요소들을 하나씩 지정해주면서\n",
    "    #k가 sem_rgx, syn_rgx, dom_rgx, ent_rgx, mor_rgx에 해당되면\n",
    "    #컬럼에 일치하는 값이 있었다는 의미로 cnt를 1 증가시켜 주고\n",
    "    #Info뒤에 붙을 숫자를 1씩 증가시켜 주고\n",
    "    #비효율적인 탐색을 막기 위해 바로 break시켜준다.\n",
    "    for k in col_val:\n",
    "        if sem_rgx.match(k):\n",
    "            col_nme[x] = 'Sem Info' + str(sem)\n",
    "            sem += 1\n",
    "            cnt += 1\n",
    "            break\n",
    "\n",
    "        elif syn_rgx.match(k):\n",
    "            col_nme[x] = 'Syn Info' + str(syn)\n",
    "            syn += 1\n",
    "            cnt += 1\n",
    "            break\n",
    "\n",
    "        elif dom_rgx.match(k):\n",
    "            col_nme[x] = 'Dom Info' + str(dom)\n",
    "            dom += 1\n",
    "            cnt += 1\n",
    "            break\n",
    "\n",
    "        elif ent_rgx.match(k):\n",
    "            col_nme[x] = 'Ent Info' + str(ent)\n",
    "            ent += 1\n",
    "            cnt += 1\n",
    "            break\n",
    "\n",
    "        elif mor_rgx.match(k):\n",
    "            col_nme[x] = 'Mor Info' + str(mor)\n",
    "            mor += 1 \n",
    "            cnt += 1\n",
    "            break\n",
    "\n",
    "    #만약 위에서 일치하는 값을 못찾았을 때(ex 모두 빈칸인 열이었을 때)\n",
    "    #cnt는 0이므로 앞에 col_nme의 정보를 보고 \n",
    "    #해당 정보와 일치하는 정보의 Info숫자를 증가시켜준 값을 해당 리스트 위치에 저장해준다.\n",
    "    if cnt == 0:\n",
    "        if 'Sem' in col_nme[x-1]:\n",
    "            col_nme[x] = 'Sem Info' + str(sem)\n",
    "            sem+=1\n",
    "            \n",
    "        elif 'Syn' in col_nme[x-1]:\n",
    "            col_nme[x] =  'Syn Info' + str(syn)\n",
    "            syn+=1\n",
    "        \n",
    "        elif 'Dom' in col_nme[x-1]:\n",
    "            col_nme[x] =  'Dom Info' + str(dom)\n",
    "            dom+=1\n",
    "            \n",
    "        elif 'Ent' in col_nme[x-1]:\n",
    "            col_nme[x] =  'Ent Info' + str(ent)\n",
    "            ent+=1\n",
    "            \n",
    "        elif 'Mor' in col_nme[x-1]:\n",
    "            col_nme[x] =  'Mor Info' + str(mor)\n",
    "            mor+=1\n",
    "\n",
    "df.columns = col_nme\n",
    "\n",
    "#편집을 원하는 행을 리스트화 하는 함수\n",
    "#df에는 불러온 데이터프레임을 넣고 col에는 수정 원하는 행 이름을 삽입\n",
    "def df2first(df,col):\n",
    "    col_first = list(df.columns)\n",
    "    x = col_first.index(col)\n",
    "    res = df.iloc[:,x:x+1].values.tolist()\n",
    "    res = sum(res,[])\n",
    "    return res"
   ]
  },
  {
   "cell_type": "code",
   "execution_count": 93,
   "metadata": {},
   "outputs": [
    {
     "data": {
      "text/html": "<div>\n<style scoped>\n    .dataframe tbody tr th:only-of-type {\n        vertical-align: middle;\n    }\n\n    .dataframe tbody tr th {\n        vertical-align: top;\n    }\n\n    .dataframe thead th {\n        text-align: right;\n    }\n</style>\n<table border=\"1\" class=\"dataframe\">\n  <thead>\n    <tr style=\"text-align: right;\">\n      <th></th>\n      <th>Lemma</th>\n      <th>Category</th>\n      <th>Mor Info1</th>\n      <th>Mor Info2</th>\n      <th>Mor Info3</th>\n      <th>Mor Info4</th>\n      <th>Mor Info5</th>\n      <th>Mor Info6</th>\n      <th>Mor Info7</th>\n      <th>Mor Info8</th>\n      <th>...</th>\n      <th>Dom Info4</th>\n      <th>Dom Info5</th>\n      <th>Dom Info6</th>\n      <th>Dom Info7</th>\n      <th>Dom Info8</th>\n      <th>Dom Info9</th>\n      <th>Dom Info10</th>\n      <th>Dom Info11</th>\n      <th>Dom Info12</th>\n      <th>Dom Info13</th>\n    </tr>\n  </thead>\n  <tbody>\n    <tr>\n      <th>0</th>\n      <td>가게</td>\n      <td>NS01</td>\n      <td>ZNZ</td>\n      <td>LEO</td>\n      <td>SLB</td>\n      <td>HAL</td>\n      <td>MCO</td>\n      <td></td>\n      <td></td>\n      <td></td>\n      <td>...</td>\n      <td></td>\n      <td></td>\n      <td></td>\n      <td></td>\n      <td></td>\n      <td></td>\n      <td></td>\n      <td></td>\n      <td></td>\n      <td></td>\n    </tr>\n    <tr>\n      <th>1</th>\n      <td>가결</td>\n      <td>NS03</td>\n      <td>ZNZ</td>\n      <td>LEO</td>\n      <td>SLB</td>\n      <td>PHV</td>\n      <td></td>\n      <td></td>\n      <td></td>\n      <td></td>\n      <td>...</td>\n      <td></td>\n      <td></td>\n      <td></td>\n      <td></td>\n      <td></td>\n      <td></td>\n      <td></td>\n      <td></td>\n      <td></td>\n      <td></td>\n    </tr>\n    <tr>\n      <th>2</th>\n      <td>가계</td>\n      <td>NS01</td>\n      <td>ZNZ</td>\n      <td>LEO</td>\n      <td>SLB</td>\n      <td>NAB</td>\n      <td></td>\n      <td></td>\n      <td></td>\n      <td></td>\n      <td>...</td>\n      <td></td>\n      <td></td>\n      <td></td>\n      <td></td>\n      <td></td>\n      <td></td>\n      <td></td>\n      <td></td>\n      <td></td>\n      <td></td>\n    </tr>\n    <tr>\n      <th>3</th>\n      <td>가곡</td>\n      <td>NS02</td>\n      <td>ZNX</td>\n      <td>PXN</td>\n      <td>NZX</td>\n      <td>SLB</td>\n      <td>LEO</td>\n      <td>HAL</td>\n      <td></td>\n      <td></td>\n      <td>...</td>\n      <td></td>\n      <td></td>\n      <td></td>\n      <td></td>\n      <td></td>\n      <td></td>\n      <td></td>\n      <td></td>\n      <td></td>\n      <td></td>\n    </tr>\n    <tr>\n      <th>4</th>\n      <td>가공</td>\n      <td>NS02</td>\n      <td>ZNM</td>\n      <td>LEO</td>\n      <td>SLB</td>\n      <td>PSN</td>\n      <td></td>\n      <td></td>\n      <td></td>\n      <td></td>\n      <td>...</td>\n      <td></td>\n      <td></td>\n      <td></td>\n      <td></td>\n      <td></td>\n      <td>XCUL</td>\n      <td>XSIN</td>\n      <td></td>\n      <td></td>\n      <td></td>\n    </tr>\n  </tbody>\n</table>\n<p>5 rows × 65 columns</p>\n</div>",
      "text/plain": "  Lemma Category Mor Info1 Mor Info2 Mor Info3 Mor Info4 Mor Info5 Mor Info6  \\\n0    가게     NS01       ZNZ       LEO       SLB       HAL       MCO             \n1    가결     NS03       ZNZ       LEO       SLB       PHV                       \n2    가계     NS01       ZNZ       LEO       SLB       NAB                       \n3    가곡     NS02       ZNX       PXN       NZX       SLB       LEO       HAL   \n4    가공     NS02       ZNM       LEO       SLB       PSN                       \n\n  Mor Info7 Mor Info8  ... Dom Info4 Dom Info5 Dom Info6 Dom Info7 Dom Info8  \\\n0                      ...                                                     \n1                      ...                                                     \n2                      ...                                                     \n3                      ...                                                     \n4                      ...                                                     \n\n  Dom Info9 Dom Info10 Dom Info11 Dom Info12 Dom Info13  \n0                                                        \n1                                                        \n2                                                        \n3                                                        \n4      XCUL       XSIN                                   \n\n[5 rows x 65 columns]"
     },
     "execution_count": 93,
     "metadata": {},
     "output_type": "execute_result"
    }
   ],
   "source": [
    "df.head()"
   ]
  },
  {
   "cell_type": "code",
   "execution_count": 94,
   "metadata": {},
   "outputs": [],
   "source": [
    "ind_l = len(df.index)"
   ]
  },
  {
   "cell_type": "code",
   "execution_count": 95,
   "metadata": {},
   "outputs": [],
   "source": [
    "ind_lst = list(df.iloc[508])"
   ]
  },
  {
   "cell_type": "code",
   "execution_count": 96,
   "metadata": {},
   "outputs": [
    {
     "name": "stdout",
     "output_type": "stream",
     "text": "['고릴라', 'NS01', 'ZNF', 'SIM', 'SLC', 'NZF', 'LEO', 'ROM', '', 'QBAN']\n"
    }
   ],
   "source": [
    "##중복 제거\n",
    "\n",
    "from collections import OrderedDict\n",
    "\n",
    "def rmvspc(alist):\n",
    "    d = OrderedDict()\n",
    "    for i in alist:\n",
    "        d[i] = True\n",
    "        res = list(d.keys())\n",
    "    return res\n",
    "ind_lst = rmvspc(ind_lst)\n",
    "print(ind_lst)"
   ]
  },
  {
   "cell_type": "code",
   "execution_count": 97,
   "metadata": {},
   "outputs": [
    {
     "name": "stdout",
     "output_type": "stream",
     "text": "ㆍ고ㆍ릴ㆍ라,고릴라.\n"
    }
   ],
   "source": [
    "##레마에 구분자 넣기\n",
    "dic = \"ㆍ\"\n",
    "lem = ind_lst[0]\n",
    "spc = \"ㆍ\"\n",
    "com = \",\"\n",
    "plus = \"+\"\n",
    "dot = \".\"\n",
    "sep_lem = spc.join(lem)\n",
    "dic = dic + sep_lem + com + lem + dot\n",
    "print(dic)"
   ]
  },
  {
   "cell_type": "code",
   "execution_count": 98,
   "metadata": {},
   "outputs": [
    {
     "name": "stdout",
     "output_type": "stream",
     "text": "ㆍ고ㆍ릴ㆍ라,고릴라.NS+ZNF+SIM+SLC+NZF+LEO+ROM++QBAN+JN#JN01\n"
    }
   ],
   "source": [
    "##NS01 나누기\n",
    "cat = ind_lst[1]\n",
    "dic = dic + cat[0:2]\n",
    "for x in range(2, len(ind_lst)):\n",
    "    inf = ind_lst[x]\n",
    "    dic = dic + plus + ind_lst[x]\n",
    "last = plus + \"JN#JN\" + cat[-2:]\n",
    "dic = dic + last\n",
    "\n",
    "print(dic)"
   ]
  },
  {
   "cell_type": "code",
   "execution_count": 120,
   "metadata": {},
   "outputs": [
    {
     "name": "stdout",
     "output_type": "stream",
     "text": "['ㆍ가ㆍ게,가게.NS+ZNZ+JN#JN01+LEO+JN#JN01+SLB+JN#JN01+HAL+JN#JN01+MCO+JN#JN01++JN#JN01', 'ㆍ가ㆍ게,가게.NS+ZNZ+JN#JN01+LEO+JN#JN01+SLB+JN#JN01+HAL+JN#JN01+MCO+JN#JN01++JN#JN01가ㆍ결,가결.NS+ZNZ+JN#JN03+LEO+JN#JN03+SLB+JN#JN03+PHV+JN#JN03++JN#JN03', 'ㆍ가ㆍ게,가게.NS+ZNZ+JN#JN01+LEO+JN#JN01+SLB+JN#JN01+HAL+JN#JN01+MCO+JN#JN01++JN#JN01가ㆍ결,가결.NS+ZNZ+JN#JN03+LEO+JN#JN03+SLB+JN#JN03+PHV+JN#JN03++JN#JN03가ㆍ계,가계.NS+ZNZ+JN#JN01+LEO+JN#JN01+SLB+JN#JN01+NAB+JN#JN01++JN#JN01', 'ㆍ가ㆍ게,가게.NS+ZNZ+JN#JN01+LEO+JN#JN01+SLB+JN#JN01+HAL+JN#JN01+MCO+JN#JN01++JN#JN01가ㆍ결,가결.NS+ZNZ+JN#JN03+LEO+JN#JN03+SLB+JN#JN03+PHV+JN#JN03++JN#JN03가ㆍ계,가계.NS+ZNZ+JN#JN01+LEO+JN#JN01+SLB+JN#JN01+NAB+JN#JN01++JN#JN01가ㆍ곡,가곡.NS+ZNX+JN#JN02+PXN+JN#JN02+NZX+JN#JN02+SLB+JN#JN02+LEO+JN#JN02+HAL+JN#JN02++JN#JN02', 'ㆍ가ㆍ게,가게.NS+ZNZ+JN#JN01+LEO+JN#JN01+SLB+JN#JN01+HAL+JN#JN01+MCO+JN#JN01++JN#JN01가ㆍ결,가결.NS+ZNZ+JN#JN03+LEO+JN#JN03+SLB+JN#JN03+PHV+JN#JN03++JN#JN03가ㆍ계,가계.NS+ZNZ+JN#JN01+LEO+JN#JN01+SLB+JN#JN01+NAB+JN#JN01++JN#JN01가ㆍ곡,가곡.NS+ZNX+JN#JN02+PXN+JN#JN02+NZX+JN#JN02+SLB+JN#JN02+LEO+JN#JN02+HAL+JN#JN02++JN#JN02가ㆍ공,가공.NS+ZNM+JN#JN02+LEO+JN#JN02+SLB+JN#JN02+PSN+JN#JN02++JN#JN02+QHUM+JN#JN02+XQFT+JN#JN02+XCUL+JN#JN02+XSIN+JN#JN02', 'ㆍ가ㆍ게,가게.NS+ZNZ+JN#JN01+LEO+JN#JN01+SLB+JN#JN01+HAL+JN#JN01+MCO+JN#JN01++JN#JN01가ㆍ결,가결.NS+ZNZ+JN#JN03+LEO+JN#JN03+SLB+JN#JN03+PHV+JN#JN03++JN#JN03가ㆍ계,가계.NS+ZNZ+JN#JN01+LEO+JN#JN01+SLB+JN#JN01+NAB+JN#JN01++JN#JN01가ㆍ곡,가곡.NS+ZNX+JN#JN02+PXN+JN#JN02+NZX+JN#JN02+SLB+JN#JN02+LEO+JN#JN02+HAL+JN#JN02++JN#JN02가ㆍ공,가공.NS+ZNM+JN#JN02+LEO+JN#JN02+SLB+JN#JN02+PSN+JN#JN02++JN#JN02+QHUM+JN#JN02+XQFT+JN#JN02+XCUL+JN#JN02+XSIN+JN#JN02가ㆍ관,가관.NS+ZNZ+JN#JN02+LEO+JN#JN02+SLB+JN#JN02+NAB+JN#JN02++JN#JN02', 'ㆍ가ㆍ게,가게.NS+ZNZ+JN#JN01+LEO+JN#JN01+SLB+JN#JN01+HAL+JN#JN01+MCO+JN#JN01++JN#JN01가ㆍ결,가결.NS+ZNZ+JN#JN03+LEO+JN#JN03+SLB+JN#JN03+PHV+JN#JN03++JN#JN03가ㆍ계,가계.NS+ZNZ+JN#JN01+LEO+JN#JN01+SLB+JN#JN01+NAB+JN#JN01++JN#JN01가ㆍ곡,가곡.NS+ZNX+JN#JN02+PXN+JN#JN02+NZX+JN#JN02+SLB+JN#JN02+LEO+JN#JN02+HAL+JN#JN02++JN#JN02가ㆍ공,가공.NS+ZNM+JN#JN02+LEO+JN#JN02+SLB+JN#JN02+PSN+JN#JN02++JN#JN02+QHUM+JN#JN02+XQFT+JN#JN02+XCUL+JN#JN02+XSIN+JN#JN02가ㆍ관,가관.NS+ZNZ+JN#JN02+LEO+JN#JN02+SLB+JN#JN02+NAB+JN#JN02++JN#JN02가ㆍ구,가구.NS+ZND+JN#JN01+LEO+JN#JN01+SLB+JN#JN01+MES+JN#JN01+NOU+JN#JN01++JN#JN01', 'ㆍ가ㆍ게,가게.NS+ZNZ+JN#JN01+LEO+JN#JN01+SLB+JN#JN01+HAL+JN#JN01+MCO+JN#JN01++JN#JN01가ㆍ결,가결.NS+ZNZ+JN#JN03+LEO+JN#JN03+SLB+JN#JN03+PHV+JN#JN03++JN#JN03가ㆍ계,가계.NS+ZNZ+JN#JN01+LEO+JN#JN01+SLB+JN#JN01+NAB+JN#JN01++JN#JN01가ㆍ곡,가곡.NS+ZNX+JN#JN02+PXN+JN#JN02+NZX+JN#JN02+SLB+JN#JN02+LEO+JN#JN02+HAL+JN#JN02++JN#JN02가ㆍ공,가공.NS+ZNM+JN#JN02+LEO+JN#JN02+SLB+JN#JN02+PSN+JN#JN02++JN#JN02+QHUM+JN#JN02+XQFT+JN#JN02+XCUL+JN#JN02+XSIN+JN#JN02가ㆍ관,가관.NS+ZNZ+JN#JN02+LEO+JN#JN02+SLB+JN#JN02+NAB+JN#JN02++JN#JN02가ㆍ구,가구.NS+ZND+JN#JN01+LEO+JN#JN01+SLB+JN#JN01+MES+JN#JN01+NOU+JN#JN01++JN#JN01가ㆍ난,가난.NS+ZNZ+JN#JN02+LEO+JN#JN02+SLB+JN#JN02+PHA+JN#JN02++JN#JN02', 'ㆍ가ㆍ게,가게.NS+ZNZ+JN#JN01+LEO+JN#JN01+SLB+JN#JN01+HAL+JN#JN01+MCO+JN#JN01++JN#JN01가ㆍ결,가결.NS+ZNZ+JN#JN03+LEO+JN#JN03+SLB+JN#JN03+PHV+JN#JN03++JN#JN03가ㆍ계,가계.NS+ZNZ+JN#JN01+LEO+JN#JN01+SLB+JN#JN01+NAB+JN#JN01++JN#JN01가ㆍ곡,가곡.NS+ZNX+JN#JN02+PXN+JN#JN02+NZX+JN#JN02+SLB+JN#JN02+LEO+JN#JN02+HAL+JN#JN02++JN#JN02가ㆍ공,가공.NS+ZNM+JN#JN02+LEO+JN#JN02+SLB+JN#JN02+PSN+JN#JN02++JN#JN02+QHUM+JN#JN02+XQFT+JN#JN02+XCUL+JN#JN02+XSIN+JN#JN02가ㆍ관,가관.NS+ZNZ+JN#JN02+LEO+JN#JN02+SLB+JN#JN02+NAB+JN#JN02++JN#JN02가ㆍ구,가구.NS+ZND+JN#JN01+LEO+JN#JN01+SLB+JN#JN01+MES+JN#JN01+NOU+JN#JN01++JN#JN01가ㆍ난,가난.NS+ZNZ+JN#JN02+LEO+JN#JN02+SLB+JN#JN02+PHA+JN#JN02++JN#JN02가ㆍ능,가능.NS+ZNM+JN#JN02+LEO+JN#JN02+SLB+JN#JN02+MDN+JN#JN02++JN#JN02', 'ㆍ가ㆍ게,가게.NS+ZNZ+JN#JN01+LEO+JN#JN01+SLB+JN#JN01+HAL+JN#JN01+MCO+JN#JN01++JN#JN01가ㆍ결,가결.NS+ZNZ+JN#JN03+LEO+JN#JN03+SLB+JN#JN03+PHV+JN#JN03++JN#JN03가ㆍ계,가계.NS+ZNZ+JN#JN01+LEO+JN#JN01+SLB+JN#JN01+NAB+JN#JN01++JN#JN01가ㆍ곡,가곡.NS+ZNX+JN#JN02+PXN+JN#JN02+NZX+JN#JN02+SLB+JN#JN02+LEO+JN#JN02+HAL+JN#JN02++JN#JN02가ㆍ공,가공.NS+ZNM+JN#JN02+LEO+JN#JN02+SLB+JN#JN02+PSN+JN#JN02++JN#JN02+QHUM+JN#JN02+XQFT+JN#JN02+XCUL+JN#JN02+XSIN+JN#JN02가ㆍ관,가관.NS+ZNZ+JN#JN02+LEO+JN#JN02+SLB+JN#JN02+NAB+JN#JN02++JN#JN02가ㆍ구,가구.NS+ZND+JN#JN01+LEO+JN#JN01+SLB+JN#JN01+MES+JN#JN01+NOU+JN#JN01++JN#JN01가ㆍ난,가난.NS+ZNZ+JN#JN02+LEO+JN#JN02+SLB+JN#JN02+PHA+JN#JN02++JN#JN02가ㆍ능,가능.NS+ZNM+JN#JN02+LEO+JN#JN02+SLB+JN#JN02+MDN+JN#JN02++JN#JN02가ㆍ닥,가닥.NS+ZND+JN#JN02+LEO+JN#JN02+SLB+JN#JN02+MES+JN#JN02+NOU+JN#JN02++JN#JN02']\n"
    }
   ],
   "source": [
    "# writedata.py\n",
    "# f = open(r\"E:\\Programming\\python\\NLP\\DecoLexO\\DecoLexO\\Edit\\results\\dic_res.txt\", 'w')\n",
    "\n",
    "#구분자들\n",
    "spc = \"ㆍ\"\n",
    "com = \",\"\n",
    "plus = \"+\"\n",
    "dot = \".\"\n",
    "\n",
    "#중복제거\n",
    "from collections import OrderedDict\n",
    "\n",
    "def rmvspc(alist):\n",
    "    d = OrderedDict()\n",
    "    for i in alist:\n",
    "        d[i] = True\n",
    "        res = list(d.keys())\n",
    "    return res\n",
    "\n",
    "\n",
    "#dic작성 시작\n",
    "dic_lst = []\n",
    "dic = \"ㆍ\"\n",
    "for i in range(0, ind_l):\n",
    "    ind_lst = list(df.iloc[i])\n",
    "    ind_lst = rmvspc(ind_lst)\n",
    "    lem = ind_lst[0]\n",
    "    sep_lem = spc.join(lem)\n",
    "    dic = dic + sep_lem + com + lem + dot\n",
    "    cat = ind_lst[1]\n",
    "    dic = dic + cat[0:2]\n",
    "    for x in range(2, len(ind_lst)):\n",
    "        inf = ind_lst[x]\n",
    "        dic = dic + plus + ind_lst[x] ##이곳이 문제\n",
    "        last = plus + \"JN#JN\" + cat[-2:]\n",
    "        dic = dic + last\n",
    "    dic_lst.append(str(dic))\n",
    "dic_lst = rmvspc(dic_lst)\n",
    "print(dic_lst[:10])\n",
    "    # f.write(dic)\n",
    "# f.close()"
   ]
  },
  {
   "cell_type": "code",
   "execution_count": 115,
   "metadata": {},
   "outputs": [],
   "source": [
    "##dic 형식###\n",
    "###ㆍ한ㆍ국ㆍCㆍAㆍTㆍVㆍ나ㆍ라ㆍ방ㆍ송,한국CATV나라방송.NS+ZNW+XXOR+XXCO+XQBR+JN#JN02"
   ]
  },
  {
   "cell_type": "code",
   "execution_count": null,
   "metadata": {},
   "outputs": [],
   "source": [
    "'ㆍ가ㆍ게,가게.NS+ZNZ+JN#JN01+LEO+JN#JN01+SLB+JN#JN01+HAL+JN#JN01+MCO+JN#JN01++JN#JN01'\n"
   ]
  }
 ]
}