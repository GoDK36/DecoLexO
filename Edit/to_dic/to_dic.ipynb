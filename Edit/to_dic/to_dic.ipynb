{
 "nbformat": 4,
 "nbformat_minor": 2,
 "metadata": {
  "language_info": {
   "name": "python",
   "codemirror_mode": {
    "name": "ipython",
    "version": 3
   },
   "version": "3.7.6-final"
  },
  "orig_nbformat": 2,
  "file_extension": ".py",
  "mimetype": "text/x-python",
  "name": "python",
  "npconvert_exporter": "python",
  "pygments_lexer": "ipython3",
  "version": 3,
  "kernelspec": {
   "name": "python37664bitbaseconda7ccc1197ea424c04aa8e970980241a68",
   "display_name": "Python 3.7.6 64-bit ('base': conda)"
  }
 },
 "cells": [
  {
   "cell_type": "code",
   "execution_count": 30,
   "metadata": {},
   "outputs": [],
   "source": [
    "import pandas as pd\n",
    "import numpy as np\n",
    "import os, re\n",
    "\n",
    "df = pd.read_csv(r'E:\\Programming\\python\\NLP\\DecoLexO\\DecoLexO\\Edit\\example\\DECO-Ver5.2-NS-2019-Kernel-DevTest.csv',encoding = 'utf-8-sig')\n",
    "\n",
    "#첫 행 살리기\n",
    "col_rgx = re.compile(r'[A-Za-z]{6,}[:\\.]?')\n",
    "first = list(df.columns)\n",
    "df.loc[0] = first\n",
    "for val in first:\n",
    "    m = col_rgx.match(val)\n",
    "    if m:\n",
    "        x = first.index(val)\n",
    "        first[x] = np.nan\n",
    "    else:\n",
    "        continue\n",
    "df.loc[0] = first\n",
    "\n",
    "##행 이름 변경하기\n",
    "df = df.fillna('')\n",
    "sem_rgx = re.compile(r'[Q][A-Z]{3}')  #semantic tagset\n",
    "syn_rgx = re.compile(r'[Y][A-Z]{3}')  #syntactic tagset\n",
    "dom_rgx = re.compile(r'[X]{1}[ABCDEFGHIJKLMNOPQRSTUVWYZ]{3}')  #domain tagset\n",
    "ent_rgx = re.compile(r'[X]{2}[A-Z]{2}') #entity tagset\n",
    "mor_rgx = re.compile(r'[A-Z]{3}') #morph tagset\n",
    "seminfo = []\n",
    "syninfo = []\n",
    "dominfo = []\n",
    "entinfo = []\n",
    "morinfo = []\n",
    "\n",
    "#컬럼의 총 개수를 l에 저장한다.\n",
    "#컬럼의 개수 만큼 lemma와 category뒤에 lemma와 category개수인 2를 뺀만큼\n",
    "#''를 추가해 주어 해당 컬럼 개수 만큼의 리스트 col_nme을 만들어 준다.\n",
    "l = len(df.columns)\n",
    "col_nme = ['Lemma','Category']\n",
    "for i in range(l-2):\n",
    "    col_nme.append('')\n",
    "#sem =>SemInfo 뒤에 붙을 숫자 \n",
    "#syn =>SynInfo 뒤에 붙을 숫자 \n",
    "#dom =>DomInfo 뒤에 붙을 숫자 \n",
    "#ent =>EntInfo 뒤에 붙을 숫자 \n",
    "#mor =>MorInfo 뒤에 붙을 숫자 \n",
    "sem = 1\n",
    "syn = 1\n",
    "dom = 1\n",
    "ent = 1\n",
    "mor = 1\n",
    "\n",
    "#x를 컬럼의 개수 만큼의 숫자로 지정해 준다.\n",
    "#col_val은 해당 df의 열을 리스트화 시켜준 것이다.\n",
    "for x in range(0, l):\n",
    "    col_val = df.iloc[:, x].tolist()\n",
    "    #cnt가 0이면 일치하는 값을 못 찾았다는 의미로 해석(ex 모두 빈칸인 열을 만났을 때)\n",
    "    #밑에서 cnt == 0 일때 앞에 정보를 보고 빈칸의 정보를 수정할 때 사용한다.\n",
    "    cnt = 0\n",
    "    #k로 col_val의 리스트 요소들을 하나씩 지정해주면서\n",
    "    #k가 sem_rgx, syn_rgx, dom_rgx, ent_rgx, mor_rgx에 해당되면\n",
    "    #컬럼에 일치하는 값이 있었다는 의미로 cnt를 1 증가시켜 주고\n",
    "    #Info뒤에 붙을 숫자를 1씩 증가시켜 주고\n",
    "    #비효율적인 탐색을 막기 위해 바로 break시켜준다.\n",
    "    for k in col_val:\n",
    "        if sem_rgx.match(k):\n",
    "            col_nme[x] = 'Sem Info' + str(sem)\n",
    "            sem += 1\n",
    "            cnt += 1\n",
    "            break\n",
    "\n",
    "        elif syn_rgx.match(k):\n",
    "            col_nme[x] = 'Syn Info' + str(syn)\n",
    "            syn += 1\n",
    "            cnt += 1\n",
    "            break\n",
    "\n",
    "        elif dom_rgx.match(k):\n",
    "            col_nme[x] = 'Dom Info' + str(dom)\n",
    "            dom += 1\n",
    "            cnt += 1\n",
    "            break\n",
    "\n",
    "        elif ent_rgx.match(k):\n",
    "            col_nme[x] = 'Ent Info' + str(ent)\n",
    "            ent += 1\n",
    "            cnt += 1\n",
    "            break\n",
    "\n",
    "        elif mor_rgx.match(k):\n",
    "            col_nme[x] = 'Mor Info' + str(mor)\n",
    "            mor += 1 \n",
    "            cnt += 1\n",
    "            break\n",
    "\n",
    "    #만약 위에서 일치하는 값을 못찾았을 때(ex 모두 빈칸인 열이었을 때)\n",
    "    #cnt는 0이므로 앞에 col_nme의 정보를 보고 \n",
    "    #해당 정보와 일치하는 정보의 Info숫자를 증가시켜준 값을 해당 리스트 위치에 저장해준다.\n",
    "    if cnt == 0:\n",
    "        if 'Sem' in col_nme[x-1]:\n",
    "            col_nme[x] = 'Sem Info' + str(sem)\n",
    "            sem+=1\n",
    "            \n",
    "        elif 'Syn' in col_nme[x-1]:\n",
    "            col_nme[x] =  'Syn Info' + str(syn)\n",
    "            syn+=1\n",
    "        \n",
    "        elif 'Dom' in col_nme[x-1]:\n",
    "            col_nme[x] =  'Dom Info' + str(dom)\n",
    "            dom+=1\n",
    "            \n",
    "        elif 'Ent' in col_nme[x-1]:\n",
    "            col_nme[x] =  'Ent Info' + str(ent)\n",
    "            ent+=1\n",
    "            \n",
    "        elif 'Mor' in col_nme[x-1]:\n",
    "            col_nme[x] =  'Mor Info' + str(mor)\n",
    "            mor+=1\n",
    "\n",
    "df.columns = col_nme\n",
    "\n",
    "#편집을 원하는 행을 리스트화 하는 함수\n",
    "#df에는 불러온 데이터프레임을 넣고 col에는 수정 원하는 행 이름을 삽입\n",
    "def df2first(df,col):\n",
    "    col_first = list(df.columns)\n",
    "    x = col_first.index(col)\n",
    "    res = df.iloc[:,x:x+1].values.tolist()\n",
    "    res = sum(res,[])\n",
    "    return res"
   ]
  },
  {
   "cell_type": "code",
   "execution_count": 31,
   "metadata": {},
   "outputs": [
    {
     "data": {
      "text/html": "<div>\n<style scoped>\n    .dataframe tbody tr th:only-of-type {\n        vertical-align: middle;\n    }\n\n    .dataframe tbody tr th {\n        vertical-align: top;\n    }\n\n    .dataframe thead th {\n        text-align: right;\n    }\n</style>\n<table border=\"1\" class=\"dataframe\">\n  <thead>\n    <tr style=\"text-align: right;\">\n      <th></th>\n      <th>Lemma</th>\n      <th>Category</th>\n      <th>Mor Info1</th>\n      <th>Mor Info2</th>\n      <th>Mor Info3</th>\n      <th>Mor Info4</th>\n      <th>Mor Info5</th>\n      <th>Mor Info6</th>\n      <th>Mor Info7</th>\n      <th>Mor Info8</th>\n      <th>...</th>\n      <th>Dom Info4</th>\n      <th>Dom Info5</th>\n      <th>Dom Info6</th>\n      <th>Dom Info7</th>\n      <th>Dom Info8</th>\n      <th>Dom Info9</th>\n      <th>Dom Info10</th>\n      <th>Dom Info11</th>\n      <th>Dom Info12</th>\n      <th>Dom Info13</th>\n    </tr>\n  </thead>\n  <tbody>\n    <tr>\n      <th>0</th>\n      <td>가게</td>\n      <td>NS01</td>\n      <td>ZNZ</td>\n      <td>LEO</td>\n      <td>SLB</td>\n      <td>HAL</td>\n      <td>MCO</td>\n      <td></td>\n      <td></td>\n      <td></td>\n      <td>...</td>\n      <td></td>\n      <td></td>\n      <td></td>\n      <td></td>\n      <td></td>\n      <td></td>\n      <td></td>\n      <td></td>\n      <td></td>\n      <td></td>\n    </tr>\n    <tr>\n      <th>1</th>\n      <td>가결</td>\n      <td>NS03</td>\n      <td>ZNZ</td>\n      <td>LEO</td>\n      <td>SLB</td>\n      <td>PHV</td>\n      <td></td>\n      <td></td>\n      <td></td>\n      <td></td>\n      <td>...</td>\n      <td></td>\n      <td></td>\n      <td></td>\n      <td></td>\n      <td></td>\n      <td></td>\n      <td></td>\n      <td></td>\n      <td></td>\n      <td></td>\n    </tr>\n    <tr>\n      <th>2</th>\n      <td>가계</td>\n      <td>NS01</td>\n      <td>ZNZ</td>\n      <td>LEO</td>\n      <td>SLB</td>\n      <td>NAB</td>\n      <td></td>\n      <td></td>\n      <td></td>\n      <td></td>\n      <td>...</td>\n      <td></td>\n      <td></td>\n      <td></td>\n      <td></td>\n      <td></td>\n      <td></td>\n      <td></td>\n      <td></td>\n      <td></td>\n      <td></td>\n    </tr>\n    <tr>\n      <th>3</th>\n      <td>가곡</td>\n      <td>NS02</td>\n      <td>ZNX</td>\n      <td>PXN</td>\n      <td>NZX</td>\n      <td>SLB</td>\n      <td>LEO</td>\n      <td>HAL</td>\n      <td></td>\n      <td></td>\n      <td>...</td>\n      <td></td>\n      <td></td>\n      <td></td>\n      <td></td>\n      <td></td>\n      <td></td>\n      <td></td>\n      <td></td>\n      <td></td>\n      <td></td>\n    </tr>\n    <tr>\n      <th>4</th>\n      <td>가공</td>\n      <td>NS02</td>\n      <td>ZNM</td>\n      <td>LEO</td>\n      <td>SLB</td>\n      <td>PSN</td>\n      <td></td>\n      <td></td>\n      <td></td>\n      <td></td>\n      <td>...</td>\n      <td></td>\n      <td></td>\n      <td></td>\n      <td></td>\n      <td></td>\n      <td>XCUL</td>\n      <td>XSIN</td>\n      <td></td>\n      <td></td>\n      <td></td>\n    </tr>\n  </tbody>\n</table>\n<p>5 rows × 65 columns</p>\n</div>",
      "text/plain": "  Lemma Category Mor Info1 Mor Info2 Mor Info3 Mor Info4 Mor Info5 Mor Info6  \\\n0    가게     NS01       ZNZ       LEO       SLB       HAL       MCO             \n1    가결     NS03       ZNZ       LEO       SLB       PHV                       \n2    가계     NS01       ZNZ       LEO       SLB       NAB                       \n3    가곡     NS02       ZNX       PXN       NZX       SLB       LEO       HAL   \n4    가공     NS02       ZNM       LEO       SLB       PSN                       \n\n  Mor Info7 Mor Info8  ... Dom Info4 Dom Info5 Dom Info6 Dom Info7 Dom Info8  \\\n0                      ...                                                     \n1                      ...                                                     \n2                      ...                                                     \n3                      ...                                                     \n4                      ...                                                     \n\n  Dom Info9 Dom Info10 Dom Info11 Dom Info12 Dom Info13  \n0                                                        \n1                                                        \n2                                                        \n3                                                        \n4      XCUL       XSIN                                   \n\n[5 rows x 65 columns]"
     },
     "execution_count": 31,
     "metadata": {},
     "output_type": "execute_result"
    }
   ],
   "source": [
    "df.head()"
   ]
  },
  {
   "cell_type": "code",
   "execution_count": 32,
   "metadata": {},
   "outputs": [],
   "source": [
    "ind_l = len(df.index)"
   ]
  },
  {
   "cell_type": "code",
   "execution_count": 34,
   "metadata": {},
   "outputs": [],
   "source": [
    "ind_lst = list(df.iloc[0])"
   ]
  },
  {
   "cell_type": "code",
   "execution_count": 35,
   "metadata": {},
   "outputs": [
    {
     "name": "stdout",
     "output_type": "stream",
     "text": "['가게', 'NS01', 'ZNZ', 'LEO', 'SLB', 'HAL', 'MCO']\n"
    }
   ],
   "source": [
    "##중복 제거\n",
    "\n",
    "from collections import OrderedDict\n",
    "\n",
    "def rmvspc(alist):\n",
    "    d = OrderedDict()\n",
    "    for i in alist:\n",
    "        d[i] = True\n",
    "        res = list(d.keys())\n",
    "    return res\n",
    "inf_lst = rmvspc(ind_lst)\n",
    "inf_lst.remove('')\n",
    "print(inf_lst)"
   ]
  },
  {
   "cell_type": "code",
   "execution_count": 36,
   "metadata": {},
   "outputs": [
    {
     "name": "stdout",
     "output_type": "stream",
     "text": "ㆍ가ㆍ게,가게.\n"
    }
   ],
   "source": [
    "##레마에 구분자 넣기\n",
    "dic = \"ㆍ\"\n",
    "lem = inf_lst[0]\n",
    "spc = \"ㆍ\"\n",
    "com = \",\"\n",
    "plus = \"+\"\n",
    "dot = \".\"\n",
    "sep_lem = spc.join(lem)\n",
    "dic = dic + sep_lem + com + lem + dot\n",
    "print(dic)"
   ]
  },
  {
   "cell_type": "code",
   "execution_count": 41,
   "metadata": {},
   "outputs": [
    {
     "name": "stdout",
     "output_type": "stream",
     "text": "ㆍ가ㆍ결,가결.NS+ZNZ+LEO+SLB+PHV+JN#JN03\n"
    }
   ],
   "source": [
    "ind_l = len(df.index)\n",
    "\n",
    "ind_lst = list(df.iloc[1])\n",
    "from collections import OrderedDict\n",
    "\n",
    "def rmvspc(alist):\n",
    "    d = OrderedDict()\n",
    "    for i in alist:\n",
    "        d[i] = True\n",
    "        res = list(d.keys())\n",
    "    return res\n",
    "inf_lst = rmvspc(ind_lst)\n",
    "inf_lst.remove('')\n",
    "##레마에 구분자 넣기\n",
    "dic = \"ㆍ\"\n",
    "lem = inf_lst[0]\n",
    "spc = \"ㆍ\"\n",
    "com = \",\"\n",
    "plus = \"+\"\n",
    "dot = \".\"\n",
    "sep_lem = spc.join(lem)\n",
    "dic = dic + sep_lem + com + lem + dot\n",
    "##NS01 나누기\n",
    "cat = inf_lst[1]\n",
    "dic = dic + cat[0:2]\n",
    "for x in range(2, len(inf_lst)):\n",
    "    inf = inf_lst[x]\n",
    "    dic = dic + plus + inf_lst[x]\n",
    "last = plus + \"JN#JN\" + cat[-2:]\n",
    "dic = dic + last\n",
    "\n",
    "print(dic)"
   ]
  },
  {
   "cell_type": "code",
   "execution_count": 55,
   "metadata": {},
   "outputs": [
    {
     "name": "stdout",
     "output_type": "stream",
     "text": "QINS+XEDU높ㆍ임,높임.NS+ZNZ+LEO+SLB+PMN+PHV+QTMP+QHUM+QHUE+XXPE+XCUL뇌,뇌.NS+ZNZ+LEO+SLA+MCO+QCOG+QPRO+XPOL+XCUL+XITP+XLIF+XSOC뇌ㆍ물,뇌물.NS+ZNZ+LEO+SLB+NAB+QEVN+QCRR+XPOL+XCUL+XLIF뇌ㆍ사,뇌사.NS+ZNX+SXN+NZX+SLB+LEO+PHV+QBOD+XXPR+XWOR뇌ㆍ우,뇌우.NS+ZNZ+LEO+SLB+MCO+QPRD+QCRA+XXCR+XCUL누ㆍ구,누구.NS+ZNP+LEO+SLB+THI+ELE+DEU누ㆍ나,누나.NS+ZNZ+LEO+SLB+MCO+XXCR+XWOR누ㆍ님,누님.NS+ZNZ+LEO+SLB+MCO+QEVN+QINS+XCUL+XECO+XGAM+XWOR누ㆍ더ㆍ기,누더기.NS+ZNZ+LEO+SLC+MCO+QEVN+QART+XCOS+XGAM누ㆍ렁,누렁.NS+ZNZ+LEO+SLB+MCO+QART+QPRO+XQFT+XACT+XCOS+XCUL+XLIF누ㆍ룩,누룩.NS+ZNZ+LEO+SLB+MCO+QART+QCOG누ㆍ룽ㆍ지,누룽지.NS+ZNZ+LEO+SLC+MCO+QPRD+QCLT+XXPR+XECO누ㆍ명,누명.NS+ZNZ+LEO+SLB+NAB+QPRD+XXPE+XCUL누ㆍ수,누수.NS+ZNZ+LEO+SLB+MCO+QLAN+QPRD+XCUL누ㆍ에,누에.NS+ZNZ+LEO+SLB+MCO+QPRD+QCLT+XXPR+XCLO누ㆍ이,누이.NS+ZNZ+LEO+SLB+MCO+QEVN+QART+XXOR+XCUL누ㆍ전,누전.NS+ZNZ+LEO+SLB+PHD+QXDE+QXEL+QLAN+QCOG+XXCR+XXPE+XCUL+XITP+XPOL+XRES누ㆍ진,누진.NS+ZNZ+LEO+SLB+PHD+QEVN누ㆍ차,누차.NS+ZNX+PXN+NZX+SLB+LEO+QPRD+QSUS+XXPE+XXPR+XCOS+XCUL+XPLA+XRES눈,눈.NS+ZND+LEO+SLA+MES+CLA+QEVN+QART+XPLA눈ㆍ금,눈금.NS+ZNX+PXN+NZX+SLB+LEO+QXDE+QXEL+QPRO+XCUL+XCLO눈ㆍ짓,눈짓.NS+ZNZ+LEO+SLB+PHV+NAB+QPRD+QFOO+XXPR+XCOS+XCUL+XRES+XSER눈ㆍ총,눈총.NS+ZNX+SXN+NZX+SLB+LEO+QPRD+QCLT+XXPR+XCLO+XECO눈ㆍ치,눈치.NS+ZNX+SXN+NZX+SLB+LEO+QPRD+QFOO+XXPR+XCOS+XCUL+XECO+XRES+XSER뉘ㆍ우ㆍ침,뉘우침.NS+ZNZ+LEO+SLC+NAB+QPRO+XCOS+XRES뉴ㆍ스,뉴스.NS+ZNF+SIM+SLB+NZF+LEO+ROM+QEVN+QTMP+XXCO+XXEV+XXCR+XXPR뉴ㆍ턴,뉴턴.NS+ZND+LEO+SLB+MES+CLA+QPRD+QCRR+QPRO+XXPR+XCUL+XSER+XITP+XPOL느ㆍ낌,느낌.NS+ZNZ+LEO+SLB+NAB+XXPR+XRES느ㆍ타ㆍ리,느타리.NS+ZNZ+LEO+SLC+MCO+QXDE+QXEL+XITP+XCUL+XACT+XPOL+XSER늑ㆍ골,늑골.NS+ZNZ+LEO+SLB+MCO+QPRD+QART+XXPR+XXCR+XQFT+XCLO+XCOS+XCUL+XECO늑ㆍ대,늑대.NS+ZNZ+LEO+SLB+MCO+QLOC+XCUL능ㆍ금,능금.NS+ZNZ+LEO+SLB+MCO+QPRD+QBUI+XXPR능ㆍ동,능동.NS+ZNM+LEO+SLB+MDN+QPRD+QFOO+XXPR+XRES+XSER능ㆍ동ㆍ적,능동적.NS+ZNM+LEO+SLC+JEG+QXDE+QXEL+XITP능ㆍ력,능력.NS+ZNZ+LEO+SLB+NAB+XXPR+XRES능ㆍ률,능률.NS+ZNZ+LEO+SLB+NAB+XITP+XCLO능ㆍ사,능사.NS+ZNZ+LEO+SLB+MCO+NAB+QPRD+QBAN+QCLT+XXPR+XCOS능ㆍ선,능선.NS+ZNX+PXN+NZX+SLB+LEO+QPRD+QPRO+QFOO+XXPE+XXPR+XCOS+XRES능ㆍ청,능청.NS+ZNZ+LEO+SLB+NAB+QPRD+QCRA+XXPR늦ㆍ봄,늦봄.NS+ZNX+PXN+NZX+SLB+LEO+QFOO+QPRD+XXPR+XCOS+XCUL+XECO+XITP+XPLA늦ㆍ잠,늦잠.NS+ZNX+PXN+NZX+SLB+LEO+QPRO+XQFT+XCLO+XCOS+XITP+XRES늦ㆍ장,늦장.NS+ZNX+PXN+NZX+SLB+LEO+QPRD+QCRA+XXPR+XCLO+XCUL+XECO+XEDU늪,늪.NS+ZNZ+LEO+SLA+MCO+QPRD+QFOO+XXPR+XCUL+XECO+XRES+XSER늪ㆍ지,늪지.NS+ZNX+SXN+NZX+SLB+LEO+QEVN+QART+QCLT+XXCR+XCLO+XECO니,니.NS+ZNT+LEO+SLA+GNT+PRI+XXPR+XXOR+XITP+XECO+XMOV니ㆍ까ㆍ짓,니까짓.NS+ZNT+LEO+SLC+GNT+PRI+QCOG+QLOC+QPRD+XXPR+XXCR+XCLO+XCOS+XCUL+XECO+XITP니ㆍ은,니은.NS+ZNZ+LEO+SLB+MCO+XXPR+XCUL+XLIF+XRES+XSER니ㆍ켈,니켈.NS+ZNF+SIM+SLB+NZF+LEO+ROM+QPRD+QFOO+XXPR니ㆍ코ㆍ틴,니코틴.NS+ZNF+SIM+SLC+NZF+LEO+ROM+XXPE+XPLA니ㆍ크ㆍ롬,니크롬.NS+ZNF+SIM+SLC+NZF+LEO+ROM+XXCR+XITP니ㆍ트,니트.NS+ZNF+SIM+SLB+NZF+LEO+ROM+QPRO+QPRD+XXPR님,님.NS+ZND+LEO+SLA+MES+CLA+XXPR+XPOL닢,닢.NS+ZND+LEO+SLA+MES+CLA+XXCR+XRES다,다.NS+ZNZ+LEO+SLA+NAB+QPLT+QLOC+XXPR+XCOS다ㆍ각,다각.NS+ZNX+PXN+NZX+SLB+LEO+XXCR+XITP다ㆍ과,다과.NS+ZNZ+LEO+SLB+HAL+MCO+QPLT+QPRD+QFOO+XXCO+XXCR+XXPR+XXPE+XCOS+XSER+XCUL+XPLA다ㆍ다ㆍ미,다다미.NS+ZNZ+LEO+SLC+MCO+XXPE+XCUL+XRES+XMOV다ㆍ대ㆍ기,다대기.NS+ZNZ+LEO+SLC+QPRD+XXPR+XCUL다ㆍ도,다도.NS+ZNZ+LEO+SLB+NAB+QPRO+QSUS+XXPR+XCUL다ㆍ듬ㆍ이,다듬이.NS+ZNZ+LEO+SLC+MCO+QXNG+QXFU+XPLA+XPOL+XSER다ㆍ락,다락.NS+ZNZ+LEO+SLB+MCO+QPRD+QFOO+XXCR+XXCO+XXPR+XRES+XCUL+XSER+XPLA다ㆍ람ㆍ쥐,다람쥐.NS+ZNZ+LEO+SLC+MCO+QPRO+QCLT다ㆍ랑ㆍ어,다랑어.NS+ZNZ+LEO+SLC+MCO+QPRD+QFOO+XXPR+XRES다ㆍ래ㆍ끼,다래끼.NS+ZNZ+LEO+SLC+MCO+NAB+QART다ㆍ량,다량.NS+ZNZ+LEO+SLB+PHV+QLOC+QBUI+QCLL+XCUL+XLIF다ㆍ른,다른.NS+ZNT+LEO+SLB+FNT+SCZ+XXCO+XPLA다ㆍ리,다리.NS+ZNZ+LEO+SLB+MCO+QPRD+QCOG+QPRO+QPES+XXPE+XCUL+XECO+XITP다ㆍ리ㆍ미,다리미.NS+ZNZ+LEO+SLC+MCO+QPRD+QART+XXPR+XGAM+XITP+XCUL+XECO다ㆍ림ㆍ질,다림질.NS+ZNZ+LEO+SLC+HAL+NAB+PHD+QEVN+XXPE+XCUL다ㆍ목ㆍ적,다목적.NS+ZNM+LEO+SLC+JEG+QXDE+QXEL+XXPE+XRES+XPOL다ㆍ발,다발.NS+ZND+LEO+SLB+MES+NOU+QPRD+QCLT+XXPR다ㆍ방,다방.NS+ZNX+PXN+NZX+SLB+LEO+HAL+QPRD+XXPR다ㆍ섯,다섯.NS+ZNU+LEO+SLB+NUM+KOR+NDU+QPRD+QART다ㆍ소,다소.NS+ZNZ+LEO+SLB+NAB+QART+XCLO+XSPO다ㆍ수,다수.NS+ZNX+PXN+NZX+SLB+LEO+QXDE+QXEL+XXCO+XRES다ㆍ슬ㆍ기,다슬기.NS+ZNZ+LEO+SLC+MCO+QPRD+QBUI+XXPR+XCOS+XCUL+XRES+XPOL다ㆍ시ㆍ마,다시마.NS+ZNZ+LEO+SLC+MCO+QPRD+QCRA+XXPR+XCLO+XCUL+XMOV다ㆍ운,다운.NS+ZNF+SIM+SLB+NZF+LEO+ROM+XXPR+XRES다ㆍ음,다음.NS+ZNZ+LEO+SLB+NAB+QXDE+QXEL+QCOG+QLOC+XXPR+XCUL+XLIF+XRES다ㆍ이ㆍ너ㆍ마ㆍ이ㆍ트,다이너마이트.NS+ZNF+SIM+SLF+NZF+LEO+ROM+QART+QLOC다ㆍ이ㆍ아ㆍ몬ㆍ드,다이아몬드.NS+ZNF+SIM+SLE+NZF+LEO+ROM+XXCR+XITP+XCOS+XCUL+XLIF다ㆍ이ㆍ얼,다이얼.NS+ZNF+SIM+SLC+NZF+LEO+ROM+QPRD+XXPR+XCOS다ㆍ이ㆍ옥ㆍ신,다이옥신.NS+ZNF+SIM+SLD+NZF+LEO+ROM+QART+QPRD+XXCR+XXPR+XCUL+XECO+XMOV+XSPO+XSER다ㆍ작,다작.NS+ZNZ+LEO+SLB+PHV+QCLL+QHUM+XCUL다ㆍ중,다중.NS+ZNM+LEO+SLB+PSN+QART+QLOC+XXPR+XCUL+XRES+XSER다ㆍ지ㆍ기,다지기.NS+ZNZ+LEO+SLC+PGN+PHD+QPRD+QPRO+XXPR다ㆍ짐,다짐.NS+ZNZ+LEO+SLB+PMN+PHV+QPRO+XXPR+XCLO다ㆍ큐ㆍ멘ㆍ터ㆍ리,다큐멘터리.NS+ZNF+SIM+SLE+NZF+LEO+ROM+QPRD+QFOO+QCOG+XXPR+XRES+XCUL+XSER다ㆍ행,다행.NS+ZNZ+LEO+SLB+PHA+QXDE+QXEL+QLOC+QEVN+XCLO+XCOS+XSIN+XLIF다ㆍ혈ㆍ질,다혈질.NS+ZNZ+LEO+SLC+MCO+QART+QPRD+XXCR+XXPR+XCOS+XCUL+XECO+XTWE다ㆍ홍,다홍.NS+ZNZ+LEO+SLB+MCO+QPRD+QFOO+XXOR+XRES닥ㆍ터,닥터.NS+ZNF+SIM+SLB+NZF+LEO+ROM+XXPR+XXPE+XCUL+XLIF+XITP닦ㆍ달,닦달.NS+ZNZ+LEO+SLB+PHV+XXPR+XXCR+XITP+XECO단,단.NS+ZND+LEO+SLA+MES+QCLT+QPRD+QCOG+XCLO+XSOC+XLIF단ㆍ가,단가.NS+ZNZ+LEO+SLB+NAB+QXDE+QXEL+XSER+XITP+XPLA단ㆍ계,단계.NS+ZND+LEO+SLB+MES+NOU+QPRD+QCLT+XCLO단ㆍ골,단골.NS+ZNZ+LEO+SLB+MCO+QEVN+XXCR+XXPR+XCUL+XECO단ㆍ기,단기.NS+ZNX+PXN+NZX+SLB+LEO+QPRD+QPRO+XCOS단ㆍ도ㆍ직ㆍ입ㆍ적,단도직입적.NS+ZNM+LEO+SLE+JEG+XXPR+XITP+XCOS단ㆍ독,단독.NS+ZNM+LEO+SLB+PSN+XXCR+XECO+XITP+XSER단ㆍ돈,단돈.NS+ZNX+PXN+NZX+SLB+LEO+QCOG+QPRO+XCOS+XCLO+XECO+XRES+XSER단ㆍ락,단락.NS+ZND+LEO+SLB+MES+NOU+QPRO+QCLT+XXPR+XCLO단ㆍ련,단련.NS+ZNZ+LEO+SLB+PHV+QFOO+QPLT단ㆍ말ㆍ기,단말기.NS+ZNZ+LEO+SLC+QPRO+XXPR+XXPE+XCUL+XSER단ㆍ면,단면.NS+ZNX+PXN+NZX+SLB+LEO+PHP+QBUI단ㆍ면ㆍ적,단면적.NS+ZNM+LEO+SLC+JEG+QLOC+QPRO+XCUL+XRES단ㆍ무ㆍ지,단무지.NS+ZNZ+LEO+SLC+HAL+MCO+XXPE+XITP단ㆍ발,단발.NS+ZNZ+LEO+SLB+PHV+QLAN+QART+QTHN+QABS단ㆍ방,단방.NS+ZNX+PXN+NZX+SLB+LEO+QXSP+QXFP+QPRD+QPRO+XXCR+XCOS+XCUL+XRES+XLIF+XITP단ㆍ백,단백.NS+ZNM+LEO+SLB+MDN+QPRD+QPRO+XCOS단ㆍ백ㆍ질,단백질.NS+ZNZ+LEO+SLC+NAB+QPRD+QCRA+XXPR+XQFT+XCUL+XITP단ㆍ벌,단벌.NS+ZNX+PXN+NZX+SLB+LEO+XXPR+XCOS+XRES+XITP단ㆍ상,단상.NS+ZNX+SXN+NZX+SLB+LEO+XXPR+XITP+XECO+XCUL단ㆍ색,단색.NS+ZNX+PXN+NZX+SLB+LEO+XITP+XCUL+XLIF+XSPO단ㆍ서,단서.NS+ZNZ+LEO+SLB+NAB+QPLT+QFOO단ㆍ선,단선.NS+ZNX+PXN+NZX+SLB+LEO+PHP+QART+QPRD+XXCR+XXPR+XQFT+XACT+XCUL+XSER단ㆍ순,단순.NS+ZNM+LEO+SLB+MDN+XXPR+XPOL단ㆍ식,단식.NS+ZNZ+LEO+SLB+PHV+QPRO+XXPR+XCOS+XCUL+XECO+XITP단ㆍ신,단신.NS+ZNZ+LEO+SLB+NAB단ㆍ어,단어.NS+ZND+LEO+SLB+MES+NOU+QEVN+QCRA+XPOL단ㆍ열,단열.NS+ZNX+PXN+NZX+SLB+LEO+PHP+QXNG+QXFU+QPES+QPRO+XSWN단ㆍ원,단원.NS+ZND+LEO+SLB+MES+NOU+QXDE+QXJO+QPRD+QFOO+XXPR+XCUL+XSER+XRES단ㆍ위,단위.NS+ZND+LEO+SLB+MES+NOU+QPRD+QFOO+XXPR+XCUL+XLIF+XRES+XPOL+XSER단ㆍ일,단일.NS+ZNZ+LEO+SLB+PHA+QPRO단ㆍ일ㆍ어,단일어.NS+ZNZ+LEO+SLC+NAB+XXPR+XPOL단ㆍ일ㆍ화,단일화.NS+ZNZ+LEO+SLC+PHD+QCOG+QLOC+XCUL+XLIF단ㆍ자,단자.NS+ZNZ+LEO+SLB+MCO+NAB+QXNG+QXFU+XPLA단ㆍ전,단전.NS+ZNZ+LEO+SLB+PHD+QXNG+QXSY+QPES+XSWN단ㆍ절,단절.NS+ZNZ+LEO+SLB+PHD+QCOG+QLAN+XSWN단ㆍ점,단점.NS+ZNZ+LEO+SLB+NAB+QCOD단ㆍ정ㆍ적,단정적.NS+ZNM+LEO+SLC+JEG+QPRO+QLOC단ㆍ종,단종.NS+ZNZ+LEO+SLB+PHD+QBUI+XXCO+XCOS+XCUL+XPLA+XRES+XWOR단ㆍ지,단지.NS+ZND+LEO+SLB+MES+QCLL+QCRR+XPOL+XSOC+XCUL단ㆍ체,단체.NS+ZNZ+LEO+SLB+NAB+QXNG+QXFU+QCOG+XPOL+XITP+XPLA+XRES단ㆍ추,단추.NS+ZNZ+LEO+SLB+MCO+QSOA단ㆍ층,단층.NS+ZNX+PXN+NZX+SLB+LEO+PHP+QMEA+XCLO단ㆍ칸,단칸.NS+ZNX+PXN+NZX+SLB+LEO+QXPO+QXFP+XPOL+XEDU+XCLO+XSIN단ㆍ판,단판.NS+ZNX+PXN+NZX+SLB+LEO+QSUS+XRES단ㆍ편,단편.NS+ZNZ+LEO+SLB+NAB+QXNG+QXEL+QSOA단ㆍ품,단품.NS+ZNZ+LEO+SLB+QHUM+XITP단ㆍ풍,단풍.NS+ZNZ+LEO+SLB+MCO+QCOD단ㆍ합,단합.NS+ZNZ+LEO+SLB+PHD+QCRA단ㆍ행,단행.NS+ZNZ+LEO+SLB+PHV+QBOD+QCLL+QSUS+XCLO달,달.NS+ZND+LEO+SLA+MES+NOU+QBOD+QPLT+XCUL달ㆍ걀,달걀.NS+ZNZ+LEO+SLB+MCO달ㆍ구ㆍ지,달구지.NS+ZND+LEO+SLC+MES+NOU+QSUS+XCOS+XCUL+XRES달ㆍ래,달래.NS+ZNZ+LEO+SLB+MCO+QSOA+XEDU+XLIF달ㆍ러,달러.NS+ZNF+SIM+SLB+NZF+LEO+ROM+QINA+XCLO달ㆍ력,달력.NS+ZNX+SXN+NZX+SLB+LEO+QVOD달ㆍ리ㆍ기,달리기.NS+ZNZ+LEO+SLC+PHV+PGN+QCOD달ㆍ변,달변.NS+ZNZ+LEO+SLB+NAB+QVOD달ㆍ음ㆍ박ㆍ질,달음박질.NS+ZNZ+LEO+SLD+PHV+QEVN+XXPR+XCLO+XCUL+XSER+XECO달ㆍ음ㆍ질,달음질.NS+ZNZ+LEO+SLC+PHV+QMOM달ㆍ인,달인.NS+ZNZ+LEO+SLB+MCO+QMOM+XLIF+XCUL달ㆍ팽ㆍ이,달팽이.NS+ZNZ+LEO+SLC+MCO+QCRA달ㆍ포,달포.NS+ZNX+SXN+NZX+SLB+LEO+QXNG+QXFU+QBIC닭,닭.NS+ZNZ+LEO+SLA+MCO+QMOM+QPRC담,담.NS+ZNZ+LEO+SLA+HAL+MCO담ㆍ당,담당.NS+ZNZ+LEO+SLB+PHV+QXDE+QXEL+QPRC+XSWN담ㆍ력,담력.NS+ZNX+SXN+NZX+SLB+LEO+QPRC담ㆍ론,담론.NS+ZNZ+LEO+SLB+PHV+QSOA+QSHC+QART+XXCR+XQFT+XCUL+XECO+XPOL+XSIN담ㆍ배,담배.NS+ZNZ+LEO+SLB+MCO담ㆍ백,담백.NS+ZNM+LEO+SLB+MDN담ㆍ보,담보.NS+ZNZ+LEO+SLB+PHV+QHUM+QSHC+XGAM담ㆍ석,담석.NS+ZNX+SXN+NZX+SLB+LEO+QHUM+XQFT+XCUL+XSIN담ㆍ소,담소.NS+ZNZ+LEO+SLB+PHV담ㆍ요,담요.NS+ZNX+PXN+NZX+SLB+LEO+QBAN+QBPL+XSWN+XCUL+XRES담ㆍ임,담임.NS+ZNZ+LEO+SLB+MCO담ㆍ채ㆍ화,담채화.NS+ZNZ+LEO+SLC+HAL+MCO+QANM+QFOO담ㆍ판,담판.NS+ZNZ+LEO+SLB+PHV+QART+XXCR+XMOV담ㆍ화,담화.NS+ZNZ+LEO+SLB+PHV답,답.NS+ZNZ+LEO+SLA+PHV+QXDE+QXEL+QEVN+XXPR+XRES답ㆍ례,답례.NS+ZNX+SXN+NZX+SLB+LEO+PHV+QNTR+XXEV+XQFT+XCLO+XCOS+XCUL+XRES+XSPO답ㆍ사,답사.NS+ZNX+SXN+NZX+SLB+LEO+HAL+QHUM+XCUL답ㆍ신,답신.NS+ZNX+SXN+NZX+SLB+LEO+PHV답ㆍ장,답장.NS+ZNX+SXN+NZX+SLB+LEO+PHV+QXPO+QXFP닷ㆍ새,닷새.NS+ZNZ+LEO+SLB+NAB+QXDE+QXEL+QINC+QREG당,당.NS+ZND+LEO+SLA+INC+QXNB+QXFU+QINC+XCUL+XSWN당ㆍ구,당구.NS+ZNZ+LEO+SLB+HAL+NAB+PHV+QCOD+XXPR당ㆍ국,당국.NS+ZNZ+LEO+SLB+NAB+XCUL당ㆍ근,당근.NS+ZNZ+LEO+SLB+MCO+QINA당ㆍ도,당도.NS+ZNX+SXN+NZX+SLB+LEO+QXDE+QXEL+QSOA당ㆍ락,당락.NS+ZNZ+LEO+SLB+NAB+QCOD당ㆍ론,당론.NS+ZNX+SXN+NZX+SLB+LEO+QXDE+QXEL당ㆍ분,당분.NS+ZNX+SXN+NZX+SLB+LEO+QCRA+QCOG+XSPO+XITP당ㆍ선,당선.NS+ZNZ+LEO+SLB+PHD+QCRC+QPRC당ㆍ숙,당숙.NS+ZNZ+LEO+SLB+MCO+QXDE+QXEL+QPRO+QPLE당ㆍ신,당신.NS+ZNP+LEO+SLB+SEC+ELE+DEU+QCRC+QHUM당ㆍ위ㆍ적,당위적.NS+ZNM+LEO+SLC+JEG+XCUL+XSPO당ㆍ일,당일.NS+ZNZ+LEO+SLB+NAB+QSUS당ㆍ장,당장.NS+ZNZ+LEO+SLB+NAB+QCLL당ㆍ직,당직.NS+ZNX+SXN+NZX+SLB+LEO+HAL+QXDE+QXEL+QSOA+QHUM+XCUL+XPOL당ㆍ첨,당첨.NS+ZNZ+LEO+SLB+PHD+XRES당ㆍ혹ㆍ감,당혹감.NS+ZNZ+LEO+SLC+NAB+QXNG+QXFU+QMEA+XSWN당ㆍ황,당황.NS+ZNZ+LEO+SLB+QLOC닻,닻.NS+ZNZ+LEO+SLA+MCO+QXNB+QXEL+QSTA대,대.NS+ZND+LEO+SLA+MES+QXDE+QXEL+QPRO+XSWN+XECO대ㆍ가,대가.NS+ZNZ+LEO+SLB+MCO+QEVN+QMUA+XSWN대ㆍ가ㆍ리,대가리.NS+ZNZ+LEO+SLC+MCO+QXDE+QXEL+QDEC대ㆍ갈ㆍ통,대갈통.NS+ZNZ+LEO+SLC+MCO+QPRC대ㆍ감,대감.NS+ZNZ+LEO+SLB+MCO+QSOA대ㆍ강,대강.NS+ZNZ+LEO+SLB+HAL+NAB+QHUM+XXPE+XPOL+XCUL대ㆍ개,대개.NS+ZNZ+LEO+SLB+NAB+QXNG+QXFU+QSOA대ㆍ거,대거.NS+ZNZ+LEO+SLB+PHV+QXDE+QXEL+QPRC대ㆍ검,대검.NS+ZNX+PXN+NZX+SLB+LEO+QLOC+QHUM+QINA+QPRC+XCUL대ㆍ구,대구.NS+ZNZ+LEO+SLB+MCO+QXDE+QXEL대ㆍ군,대군.NS+ZNZ+LEO+SLB+NAB+QSOA대ㆍ권,대권.NS+ZNZ+LEO+SLB+NAB+QXDE+QXEL+QCOG+QTMP+QPRD+XITP+XSIN+XCLO+XECO+XSER대ㆍ궐,대궐.NS+ZNX+PXN+NZX+SLB+LEO+QXNB+QXSY+QBIO+XSWN대ㆍ금,대금.NS+ZNZ+LEO+SLB+NAB+HAL+MCO+QXNG+QXFU+QHUM+XXPE+XPOL대ㆍ꾸,대꾸.NS+ZNZ+LEO+SLB+PHV+QXPO+QXFP+QSOA+XPLA대ㆍ낮,대낮.NS+ZNX+PXN+NZX+SLB+LEO+QPLT대ㆍ내ㆍ외ㆍ적,대내외적.NS+ZNM+LEO+SLD+JEG+QCOD대ㆍ담,대담.NS+ZNZ+LEO+SLB+PHV+QPRC대ㆍ답,대답.NS+ZNX+PXN+NZX+SLB+LEO+PHV+QHUM대ㆍ대,대대.NS+ZND+LEO+SLB+MES+NOU+QBOD+XXPR+XCUL+XRES+XSER대ㆍ두,대두.NS+ZNZ+LEO+SLB+PHD+MCO+QCOD대ㆍ들ㆍ보,대들보.NS+ZNZ+LEO+SLC+MCO+QCOG+XRES+XSIN+XCUL대ㆍ략,대략.NS+ZNZ+LEO+SLB+NAB+QXSP+QXJO+QPSI+XPLA+XSWN대ㆍ량,대량.NS+ZNZ+LEO+SLB+NAB+QXPO+QXJO대ㆍ로,대로.NS+ZND+LEO+SLB+INC+QXDE+QXEL+QMEA+XECO+XITP대ㆍ륙,대륙.NS+ZNZ+LEO+SLB+MCO+QXPO+QXJO+QPSI+XPLA+XSWN+XECO+XCOS+XGAM대ㆍ리,대리.NS+ZNZ+LEO+SLB+MCO+QXDE+QXEL+QXNA+QINA대ㆍ리ㆍ석,대리석.NS+ZNZ+LEO+SLC+MCO+QHUM+QSOA대ㆍ망,대망.NS+ZNZ+LEO+SLB+NAB+PHV+QXPO+QXEL+QVIS대ㆍ목,대목.NS+ZNZ+LEO+SLB+NAB+QXDE+QXEL대ㆍ문,대문.NS+ZNX+PXN+NZX+SLB+LEO+QXPB+QXEL+XPOL대ㆍ미,대미.NS+ZNM+LEO+SLB+MDN+QXDE+QXEL+QXNA+QDEC+QLIT+XECO+XSWN대ㆍ본,대본.NS+ZNZ+LEO+SLB+PHV+QXNG+QXFU+QEVN대ㆍ비,대비.NS+ZNX+PXN+NZX+SLB+LEO+QSOA대ㆍ사,대사.NS+ZNZ+LEO+SLB+MCO+QXDE+QXEL+QPES+XSWN+XPOL대ㆍ상,대상.NS+ZNM+LEO+SLB+PSN+QXDE+QPES+XSWN대ㆍ선,대선.NS+ZNZ+LEO+SLB+QXDE+QXEL+QBIC+QPRT+QTOU+XITP대ㆍ세,대세.NS+ZNZ+LEO+SLB+NAB+QXPO+QXJO+QSOA+XSER+XPLA+XSWN+XECO+XITP대ㆍ소,대소.NS+ZNZ+LEO+SLB+PHV+NAB+QCLT+XLIF대ㆍ안ㆍ적,대안적.NS+ZNM+LEO+SLC+JEG+QANM대ㆍ양,대양.NS+ZNZ+LEO+SLB+NAB+QBOD대ㆍ어,대어.NS+ZNZ+LEO+SLB+MCO+QHUM+XCUL대ㆍ여,대여.NS+ZNZ+LEO+SLB+PHD+QINC대ㆍ역,대역.NS+ZNZ+LEO+SLB+NAB+PHV+QCRR+XQFT+XCEL+XRES+XPLA+XSIN+XCLO대ㆍ열,대열.NS+ZNZ+LEO+SLB+MCO+QXDE+QXEL+QCLT+XSIN대ㆍ외,대외.NS+ZNM+LEO+SLB+MDN+QAND대ㆍ의,대의.NS+ZNZ+LEO+SLB+NAB+QINS+QSOA대ㆍ인,대인.NS+ZNZ+LEO+SLB+MCO+PHV+QBUI대ㆍ자ㆍ보,대자보.NS+ZNZ+LEO+SLC+MCO+QCLL+XPOL+XCUL+XSOC대ㆍ장,대장.NS+ZNZ+LEO+SLB+MCO+QXNG+QXFU+QSOA+QPRC대ㆍ장ㆍ장ㆍ이,대장장이.NS+ZNZ+LEO+SLD+MCO대ㆍ전,대전.NS+ZNZ+LEO+SLB+MCO+NAB+PHV+QCRA대ㆍ졸,대졸.NS+ZNZ+LEO+SLB+NAB+QXAD+QXEL+QCOM+QDIM+QSTR+XITP대ㆍ중,대중.NS+ZNZ+LEO+SLB+NAB+QSOA+XCUL+XSPO대ㆍ중ㆍ적,대중적.NS+ZNM+LEO+SLC+JEG+QXDE+QXEL+QPRO대ㆍ지,대지.NS+ZNZ+LEO+SLB+MCO+QXNG+QXFU+QSOA+XPOL+XSWN대ㆍ책,대책.NS+ZNZ+LEO+SLB+NAB+XXPE대ㆍ첩,대첩.NS+ZNZ+LEO+SLB+PHV+QXPO+QXFP+QSOA+XITP+XRES+XSIN+XWOR대ㆍ체,대체.NS+ZNZ+LEO+SLB+NAB+QXNG+QXFU+QSOA대ㆍ체ㆍ적,대체적.NS+ZNM+LEO+SLC+JEG+QXNG+QXFU+XPOL+XLIF대ㆍ추,대추.NS+ZNZ+LEO+SLB+MCO+QXDE+QXEL+QSOA+XSIN+XRES+XCUL대ㆍ충,대충.NS+ZNZ+LEO+SLB+NAB대ㆍ칭,대칭.NS+ZNZ+LEO+SLB+NAB+QXNG+QXFU+QSOA+XCUL+XSWN대ㆍ타,대타.NS+ZNZ+LEO+SLB+PHV+QXDE+QXEL+QDEC+QPRC+QLOW+XECO대ㆍ통ㆍ령,대통령.NS+ZNZ+LEO+SLC+MCO+QXNG+QXFU+QINA+XPOL대ㆍ판,대판.NS+ZNX+PXN+NZX+SLB+LEO대ㆍ패,대패.NS+ZNZ+LEO+SLB+MCO+PHV대ㆍ포,대포.NS+ZNX+PXN+NZX+SLB+LEO+QXDE+QXEL+QANM+XRES+XCUL대ㆍ폭,대폭.NS+ZNX+PXN+NZX+SLB+LEO+QCOD대ㆍ표,대표.NS+ZNZ+LEO+SLB+MCO+QPRC대ㆍ표ㆍ적,대표적.NS+ZNM+LEO+SLC+JEG+QANM대ㆍ학,대학.NS+ZNZ+LEO+SLB+NAB+QINA대ㆍ합ㆍ실,대합실.NS+ZNZ+LEO+SLC+MCO+QXDE+QXEL대ㆍ해,대해.NS+ZNX+PXN+NZX+SLB+LEO+QMEA+XEDU대ㆍ형,대형.NS+ZNZ+LEO+SLB+MCO+QANM+XCUL+XITP대ㆍ회,대회.NS+ZNZ+LEO+SLB+PHV+QXDE+QXEL댁,댁.NS+ZND+LEO+SLA+INC+QPRO+XCUL+XCLO댄ㆍ서,댄서.NS+ZNF+SIM+SLB+NZF+LEO+ROM+QXDE+QXEL댄ㆍ스,댄스.NS+ZNF+SIM+SLB+NZF+LEO+ROM+QSOA+XGAM+XACT+XCLO+XITP+XMOV댐,댐.NS+ZNF+SIM+SLA+NZF+LEO+ROM+QPRC+QCRC+XCUL댕ㆍ기,댕기.NS+ZNZ+LEO+SLB+MCO+QXPO+QXFP+QPRC+XITP+XPOL+XSWN+XPLA더,더.NS+ZNZ+LEO+SLA+PHD+QCRC+XCUL더ㆍ덕,더덕.NS+ZNZ+LEO+SLB+MCO+QXPO+QXEL+QPRO+XRES+XPLA더ㆍ듬ㆍ이,더듬이.NS+ZNZ+LEO+SLC+MCO+QXPO+QXEL더ㆍ블,더블.NS+ZNF+SIM+SLB+NZF+LEO+ROM+QXDE+QXEL+QSOA+XCLO더ㆍ위,더위.NS+ZNZ+LEO+SLB+NAB+QXDE+QXEL+QLOG+XECO더ㆍ하ㆍ기,더하기.NS+ZNZ+LEO+SLC+PGN+QLAN덕,덕.NS+ZNZ+LEO+SLA+NAB+QREG덕ㆍ담,덕담.NS+ZNX+SXN+NZX+SLB+LEO+PHV+QCRC덕ㆍ망,덕망.NS+ZNX+SXN+NZX+SLB+LEO+QDAD+XCUL덕ㆍ목,덕목.NS+ZNX+SXN+NZX+SLB+LEO+QHUM+XCLO+XCUL+XSIN+XLIF덕ㆍ분,덕분.NS+ZNZ+LEO+SLB+NAB+QXDE+QXEL+XPOL+XCUL덕ㆍ택,덕택.NS+ZNZ+LEO+SLB+NAB+QINA+QSOA+XPOL던ㆍ지ㆍ기,던지기.NS+ZNZ+LEO+SLC+PGN+PHV+QPRC덜ㆍ미,덜미.NS+ZNZ+LEO+SLB+MCO+QPRC+XPOL덤,덤.NS+ZNZ+LEO+SLA+MCO+QCOD덤ㆍ불,덤불.NS+ZNZ+LEO+SLB+MCO+QPRC+XSWN덧ㆍ셈,덧셈.NS+ZNX+PXN+NZX+SLB+LEO+PHV+QXSN+QXAN+QPSI+XPOL덧ㆍ신,덧신.NS+ZNX+PXN+NZX+SLB+LEO+QCRC+XCEL+XITP덧ㆍ칠,덧칠.NS+ZNX+PXN+NZX+SLB+LEO+PHV+QCOD+XCUL덩ㆍ굴,덩굴.NS+ZNZ+LEO+SLB+MCO+QINA덩ㆍ어ㆍ리,덩어리.NS+ZND+LEO+SLC+MES+NOU+QSOA덩ㆍ이,덩이.NS+ZND+LEO+SLB+MES+NOU+QCRC+XQFT+XPOL+XLIF+XSOC+XCUL덫,덫.NS+ZNZ+LEO+SLA+MCO+QXPO+QXEL+XPOL덮ㆍ개,덮개.NS+ZNZ+LEO+SLB+HAL+MCO+QSOA+XSOC덮ㆍ밥,덮밥.NS+ZNX+PXN+NZX+SLB+LEO+HAL+QCRC데,데.NS+ZND+LEO+SLA+INC+QHUM데ㆍ모,데모.NS+ZNF+SIM+SLB+NZF+LEO+ROM+QXDE+QXEL+XCUL+XPOL데ㆍ뷔,데뷔.NS+ZNF+SIM+SLB+NZF+LEO+ROM+QXNG+QXFU+QBIC데ㆍ생,데생.NS+ZNF+SIM+SLB+NZF+LEO+ROM+QBUI+XXCR+XSER데ㆍ스ㆍ크,데스크.NS+ZNF+SIM+SLC+NZF+LEO+ROM+QHUM데ㆍ시ㆍ벨,데시벨.NS+ZND+LEO+SLC+MES+CLA데ㆍ이ㆍ터,데이터.NS+ZNF+SIM+SLC+NZF+LEO+ROM+QREG도,도.NS+ZNF+SIM+SLA+NZF+LEO+ROM+QXNB+QXDI+QTMP도ㆍ감,도감.NS+ZNZ+LEO+SLB+MCO+QPRD도ㆍ구,도구.NS+ZNZ+LEO+SLB+MCO+QCRR+XPOL+XCUL도ㆍ깨ㆍ비,도깨비.NS+ZNZ+LEO+SLC+MCO+QXDE+QXEL+QMUA+XSIN+XCLO+XITP+XSOC+XCUL도ㆍ끼,도끼.NS+ZNZ+LEO+SLB+MCO+QXNG+QXFU+QHUM도ㆍ난,도난.NS+ZNZ+LEO+SLB+NAB+QSHC+XPOL도ㆍ넛,도넛.NS+ZNF+SIM+SLB+NZF+LEO+ROM+QCOD+XXPR도ㆍ둑,도둑.NS+ZNZ+LEO+SLB+MCO+QXNG+QXFU+QANM+XLIF+XCUL도ㆍ라ㆍ지,도라지.NS+ZNZ+LEO+SLC+MCO+QXAD+QXEL+QHUM+XPOL+XSIN도ㆍ랑,도랑.NS+ZNZ+LEO+SLB+MCO+QANM+XXPR+XXPE+XMOV+XSIN도ㆍ련ㆍ님,도련님.NS+ZNZ+LEO+SLC+MCO+QHUM도ㆍ로,도로.NS+ZNZ+LEO+SLB+MCO+QXNG+QXNA+QSHC+XCUL도ㆍ롱ㆍ뇽,도롱뇽.NS+ZNZ+LEO+SLC+MCO+QCRR도ㆍ료,도료.NS+ZNZ+LEO+SLB+MCO도ㆍ르ㆍ래,도르래.NS+ZNZ+LEO+SLC+MCO+QXNG+QXFU+QDIS+XSWN도ㆍ리,도리.NS+ZNZ+LEO+SLB+QBUI+XCUL도ㆍ립,도립.NS+ZNX+SXN+NZX+SLB+LEO+DFS+QXNG+QXFU+QXNR+QINA+XPOL도ㆍ마,도마.NS+ZNZ+LEO+SLB+MCO+QPRD+XXPR+XECO+XSER도ㆍ망,도망.NS+ZNZ+LEO+SLB+PHV+QHUM+XXPE+XCUL+XMOV도ㆍ매,도매.NS+ZNZ+LEO+SLB+PHV+QXNG+QXFU+QXNR+QSOA+XCUL+XSWN+XECO+XPOL도ㆍ면,도면.NS+ZNZ+LEO+SLB+MCO+QCRA도ㆍ미,도미.NS+ZNZ+LEO+SLB+MCO+PHV+QXNG+QXFU+QHUM+XSWN+XITP+XPOL+XECO+XWOR도ㆍ미ㆍ노,도미노.NS+ZNF+SIM+SLC+NZF+LEO+ROM+QXNG+QXFU+QCOG+XPLA+XPOL도ㆍ박,도박.NS+ZNZ+LEO+SLB+PHV+NAB+QBOD+XPOL도ㆍ벽,도벽.NS+ZNZ+LEO+SLB+NAB+QINA도ㆍ보,도보.NS+ZNM+LEO+SLB+PSN+QXNG+QXFE+QPSI+XPOL+XPLA+XSWN+XITP+XSOC도ㆍ서,도서.NS+ZNZ+LEO+SLB+MCO+QXDE+QXEL+QTMP도ㆍ시,도시.NS+ZNZ+LEO+SLB+NAB+QCRC도ㆍ시ㆍ락,도시락.NS+ZNZ+LEO+SLC+MCO+QBUI+QLOC+XCUL+XRES+XTUR도ㆍ심,도심.NS+ZNZ+LEO+SLB+NAB+QCRC+XCUL도ㆍ안,도안.NS+ZNX+PXN+NZX+SLB+LEO+PHP+QXPO+QXEL도ㆍ예,도예.NS+ZNZ+LEO+SLB+HAL+NAB+PHV+QART도ㆍ우ㆍ미,도우미.NS+ZNZ+LEO+SLC+QXPO+QXFP+XCUL+XSOC도ㆍ움,도움.NS+ZNZ+LEO+SLB+NAB+QPRD+XXPR도ㆍ장,도장.NS+ZNZ+LEO+SLB+HAL+MCO+PHV+QPRD도ㆍ적,도적.NS+ZNZ+LEO+SLB+MCO+QINA도ㆍ중,도중.NS+ZNM+LEO+SLB+PSN+QSOA도ㆍ치,도치.NS+ZNZ+LEO+SLB+PHD+QSOA+QMEA+QCLO+QART+XPOL+XITP+XCLO도ㆍ토ㆍ리,도토리.NS+ZNZ+LEO+SLC+MCO+QXDE+QXEL+QSOA도ㆍ통,도통.NS+ZNZ+LEO+SLB+PHV+QSOA+XXOR+XXPE+XPOL+XLIF+XCUL+XSOC도ㆍ표,도표.NS+ZNX+PXN+NZX+SLB+LEO+PHP+QINA+QSHC도ㆍ핑,도핑.NS+ZNF+SIM+SLB+NZF+LEO+ROM+QSOA도ㆍ합,도합.NS+ZNX+PXN+NZX+SLB+LEO+PHV+XXCR+XITP도ㆍ형,도형.NS+ZNZ+LEO+SLB+MCO+QLOC+XCLO+XCUL+XRES+XCOS+XITP도ㆍ화ㆍ지,도화지.NS+ZNZ+LEO+SLC+MCO+QHTP+XXPR독,독.NS+ZNZ+LEO+SLA+MCO+QSHC독ㆍ감,독감.NS+ZNZ+LEO+SLB+NAB+QTRM독ㆍ거,독거.NS+ZNZ+LEO+SLB+PHV+QXNG+QXEL+QATT+XSWN독ㆍ단,독단.NS+ZNZ+LEO+SLB+PHV+QHUM+XPOL독ㆍ립ㆍ적,독립적.NS+ZNM+LEO+SLC+JEG+QCOD독ㆍ방,독방.NS+ZNX+PXN+NZX+SLB+LEO+QINS+XRES+XCUL독ㆍ배,독배.NS+ZNX+SXN+NZX+SLB+LEO+QXDE+QXNA+QDEC+QLIT+QWEA독ㆍ보ㆍ적,독보적.NS+ZNM+LEO+SLC+JEG+QXAD+QXEL+QMUA독ㆍ서,독서.NS+ZNZ+LEO+SLB+PHV+QMUA독ㆍ소,독소.NS+ZNX+SXN+NZX+SLB+LEO+QINS+XRES+XLIF독ㆍ수ㆍ리,독수리.NS+ZNZ+LEO+SLC+MCO+QEVN+XEDU독ㆍ신,독신.NS+ZNZ+LEO+SLB+MCO+QTMP독ㆍ심ㆍ술,독심술.NS+ZNZ+LEO+SLC+NAB+QPRO독ㆍ자,독자.NS+ZNZ+LEO+SLB+MCO+QXDE+QXEL+QPRO+XQFT+XPOL+XSIN+XCUL+XEDU독ㆍ자ㆍ적,독자적.NS+ZNM+LEO+SLC+JEG+QXDE+QXEL+QSOA+XSWN독ㆍ재,독재.NS+ZNZ+LEO+SLB+PHV+QXNB+QXEL+QSOA+XPOL독ㆍ재ㆍ적,독재적.NS+ZNM+LEO+SLC+JEG+QINA독ㆍ점ㆍ적,독점적.NS+ZNM+LEO+SLC+JEG+QINA독ㆍ종,독종.NS+ZNZ+LEO+SLB+MCO+QXDE+QXEL+QTRM+XSWN독ㆍ창,독창.NS+ZNZ+LEO+SLB+PHV+QCOG독ㆍ창ㆍ성,독창성.NS+ZNZ+LEO+SLC+NAB+QMEA+XPOL독ㆍ채,독채.NS+ZNZ+LEO+SLB+HAL+MCO독ㆍ트ㆍ린,독트린.NS+ZNF+SIM+SLC+NZF+LEO+ROM+QNTR+XPLA+XPOL+XCOS+XSPO+XSIN돈,돈.NS+ZNZ+LEO+SLA+NAB+QXNG+QXNF+QSOA돈ㆍ가ㆍ스,돈가스.NS+ZNF+SIM+SLC+NZF+LEO+NRO+QINA돈ㆍ육,돈육.NS+ZNZ+LEO+SLB+MCO+QXNG+QXFU+QMUA돋ㆍ보ㆍ기,돋보기.NS+ZNZ+LEO+SLC+PGN+QXNG+QXFU+QXNA+QMUA+XITP돌,돌.NS+ZND+LEO+SLA+MES+NOU+QNAC돌ㆍ격,돌격.NS+ZNZ+LEO+SLB+PHV+QXDE+QXEL+XPOL돌ㆍ발,돌발.NS+ZNZ+LEO+SLB+PHV+QXPO+QXFP+QCRC+XSWN돌ㆍ연,돌연.NS+ZNM+LEO+SLB+MDN+QSHC+XITP+XSIN돌ㆍ출,돌출.NS+ZNZ+LEO+SLB+PHD+QXDE+QXEL+XPOL돌ㆍ풍,돌풍.NS+ZNZ+LEO+SLB+NAB+QMUA돔,돔.NS+ZNF+SIM+SLA+NZF+LEO+ROM+QMEA+QSHC동,동.NS+ZND+LEO+SLA+MES+QXNG+QXFU+QNTR+XLIF+XITP동ㆍ감,동감.NS+ZNZ+LEO+SLB+PHV+QMUA+XCUL+XITP+XSIN동ㆍ갑,동갑.NS+ZNZ+LEO+SLB+NAB+QSHC동ㆍ공,동공.NS+ZNZ+LEO+SLB+MCO+QMEA동ㆍ굴,동굴.NS+ZNX+PXN+NZX+SLB+LEO+QMUA동ㆍ그ㆍ라ㆍ미,동그라미.NS+ZNZ+LEO+SLD+HAL+MCO+QPRO+XCOS동ㆍ급,동급.NS+ZNX+PXN+NZX+SLB+LEO+QDID동ㆍ기,동기.NS+ZNM+LEO+SLB+PSN동ㆍ네,동네.NS+ZND+LEO+SLB+MES+NOU동ㆍ녘,동녘.NS+ZNZ+LEO+SLB+NAB+QXDE+QXEL+QDEC+QLIG+QHUM동ㆍ동ㆍ주,동동주.NS+ZNZ+LEO+SLC+HAL+MCO+QREG동ㆍ력,동력.NS+ZNZ+LEO+SLB+NAB+QPRC+XPLA동ㆍ료,동료.NS+ZNZ+LEO+SLB+MCO+QHUM+XQFT+XTUR+XRES동ㆍ맹,동맹.NS+ZNZ+LEO+SLB+PHV+QXDE+QXEL+QPRO+QLIG동ㆍ무,동무.NS+ZNZ+LEO+SLB+MCO+QSOA+QREG+XCUL+XITP동ㆍ문,동문.NS+ZNX+PXN+NZX+SLB+LEO+QMEA동ㆍ물,동물.NS+ZNZ+LEO+SLB+MCO+QINA+XCUL동ㆍ방,동방.NS+ZNZ+LEO+SLB+NAB+QXPO+QXFP+QEVN+QHUM+XSWN동ㆍ백,동백.NS+ZNZ+LEO+SLB+MCO+QBIC+XRES+XCUL동ㆍ사,동사.NS+ZNZ+LEO+SLB+NAB+QXDE+QXEL+QPSI동ㆍ산,동산.NS+ZNX+PXN+NZX+SLB+LEO+QCRA동ㆍ상,동상.NS+ZNX+SXN+NZX+SLB+LEO+QMEA+QSOA+QHUM+QART+XCUL+XECO동ㆍ생,동생.NS+ZNZ+LEO+SLB+MCO+QXDE+QXEL+QINA+XSWN동ㆍ선,동선.NS+ZNZ+LEO+SLB+PHV+QLAN+JN#JN02\n['ㆍ가ㆍ게,가게.NS+ZNZ+LEO+SLB+HAL+MCO+JN#JN01', 'ㆍ가ㆍ게,가게.NS+ZNZ+LEO+SLB+HAL+MCO가ㆍ결,가결.NS+ZNZ+LEO+SLB+PHV+JN#JN03', 'ㆍ가ㆍ게,가게.NS+ZNZ+LEO+SLB+HAL+MCO가ㆍ결,가결.NS+ZNZ+LEO+SLB+PHV가ㆍ계,가계.NS+ZNZ+LEO+SLB+NAB+JN#JN01', 'ㆍ가ㆍ게,가게.NS+ZNZ+LEO+SLB+HAL+MCO가ㆍ결,가결.NS+ZNZ+LEO+SLB+PHV가ㆍ계,가계.NS+ZNZ+LEO+SLB+NAB가ㆍ곡,가곡.NS+ZNX+PXN+NZX+SLB+LEO+HAL+JN#JN02', 'ㆍ가ㆍ게,가게.NS+ZNZ+LEO+SLB+HAL+MCO가ㆍ결,가결.NS+ZNZ+LEO+SLB+PHV가ㆍ계,가계.NS+ZNZ+LEO+SLB+NAB가ㆍ곡,가곡.NS+ZNX+PXN+NZX+SLB+LEO+HAL가ㆍ공,가공.NS+ZNM+LEO+SLB+PSN+QHUM+XQFT+XCUL+XSIN+JN#JN02', 'ㆍ가ㆍ게,가게.NS+ZNZ+LEO+SLB+HAL+MCO가ㆍ결,가결.NS+ZNZ+LEO+SLB+PHV가ㆍ계,가계.NS+ZNZ+LEO+SLB+NAB가ㆍ곡,가곡.NS+ZNX+PXN+NZX+SLB+LEO+HAL가ㆍ공,가공.NS+ZNM+LEO+SLB+PSN+QHUM+XQFT+XCUL+XSIN가ㆍ관,가관.NS+ZNZ+LEO+SLB+NAB+JN#JN02', 'ㆍ가ㆍ게,가게.NS+ZNZ+LEO+SLB+HAL+MCO가ㆍ결,가결.NS+ZNZ+LEO+SLB+PHV가ㆍ계,가계.NS+ZNZ+LEO+SLB+NAB가ㆍ곡,가곡.NS+ZNX+PXN+NZX+SLB+LEO+HAL가ㆍ공,가공.NS+ZNM+LEO+SLB+PSN+QHUM+XQFT+XCUL+XSIN가ㆍ관,가관.NS+ZNZ+LEO+SLB+NAB가ㆍ구,가구.NS+ZND+LEO+SLB+MES+NOU+JN#JN01', 'ㆍ가ㆍ게,가게.NS+ZNZ+LEO+SLB+HAL+MCO가ㆍ결,가결.NS+ZNZ+LEO+SLB+PHV가ㆍ계,가계.NS+ZNZ+LEO+SLB+NAB가ㆍ곡,가곡.NS+ZNX+PXN+NZX+SLB+LEO+HAL가ㆍ공,가공.NS+ZNM+LEO+SLB+PSN+QHUM+XQFT+XCUL+XSIN가ㆍ관,가관.NS+ZNZ+LEO+SLB+NAB가ㆍ구,가구.NS+ZND+LEO+SLB+MES+NOU가ㆍ난,가난.NS+ZNZ+LEO+SLB+PHA+JN#JN02', 'ㆍ가ㆍ게,가게.NS+ZNZ+LEO+SLB+HAL+MCO가ㆍ결,가결.NS+ZNZ+LEO+SLB+PHV가ㆍ계,가계.NS+ZNZ+LEO+SLB+NAB가ㆍ곡,가곡.NS+ZNX+PXN+NZX+SLB+LEO+HAL가ㆍ공,가공.NS+ZNM+LEO+SLB+PSN+QHUM+XQFT+XCUL+XSIN가ㆍ관,가관.NS+ZNZ+LEO+SLB+NAB가ㆍ구,가구.NS+ZND+LEO+SLB+MES+NOU가ㆍ난,가난.NS+ZNZ+LEO+SLB+PHA가ㆍ능,가능.NS+ZNM+LEO+SLB+MDN+JN#JN02', 'ㆍ가ㆍ게,가게.NS+ZNZ+LEO+SLB+HAL+MCO가ㆍ결,가결.NS+ZNZ+LEO+SLB+PHV가ㆍ계,가계.NS+ZNZ+LEO+SLB+NAB가ㆍ곡,가곡.NS+ZNX+PXN+NZX+SLB+LEO+HAL가ㆍ공,가공.NS+ZNM+LEO+SLB+PSN+QHUM+XQFT+XCUL+XSIN가ㆍ관,가관.NS+ZNZ+LEO+SLB+NAB가ㆍ구,가구.NS+ZND+LEO+SLB+MES+NOU가ㆍ난,가난.NS+ZNZ+LEO+SLB+PHA가ㆍ능,가능.NS+ZNM+LEO+SLB+MDN가ㆍ닥,가닥.NS+ZND+LEO+SLB+MES+NOU+JN#JN02']\n"
    }
   ],
   "source": [
    "\n",
    "\n",
    "#구분자들\n",
    "spc = \"ㆍ\"\n",
    "com = \",\"\n",
    "plus = \"+\"\n",
    "dot = \".\"\n",
    "\n",
    "#딕셔너리 자료형의 특징을 이용하여 리스트 요소 순서를 우지하며 중복 제거하기\n",
    "from collections import OrderedDict\n",
    "\n",
    "def rmvspc(alist):\n",
    "    d = OrderedDict()\n",
    "    for i in alist:\n",
    "        d[i] = True\n",
    "        res = list(d.keys())\n",
    "    return res\n",
    "\n",
    "\n",
    "#dic작성 시작\n",
    "dic_lst = []\n",
    "dic = \"ㆍ\"\n",
    "for i in range(0, ind_l):\n",
    "    ind_lst = list(df.iloc[i])\n",
    "    inf_lst = rmvspc(ind_lst)\n",
    "    inf_lst.remove('')\n",
    "    lem = inf_lst[0]\n",
    "    sep_lem = spc.join(lem)\n",
    "    dic = dic + sep_lem + com + lem + dot\n",
    "    cat = inf_lst[1]\n",
    "    dic = dic + cat[0:2]\n",
    "    for x in range(2, len(inf_lst)):\n",
    "        inf = inf_lst[x]\n",
    "        dic = dic + plus + inf ##이곳이 문제\n",
    "    last = plus + \"JN#JN\" + cat[-2:]\n",
    "    dic1 = dic + last\n",
    "    print(dic1)\n",
    "    dic_lst.append(str(dic1))\n",
    "print(dic_lst[:10])\n",
    "\n",
    "# writedata.py\n",
    "f = open(r\"E:\\Programming\\python\\NLP\\DecoLexO\\DecoLexO\\Edit\\results\\dic_res.txt\", 'w',encoding='utf-8-sig')\n",
    "\n",
    "\n",
    "\n",
    "for i in range(len(dic_lst)):\n",
    "    f.write('%s \\n' % dic_lst[i])\n",
    "\n",
    "\n",
    "f.close()"
   ]
  },
  {
   "cell_type": "code",
   "execution_count": 115,
   "metadata": {},
   "outputs": [],
   "source": [
    "##dic 형식###\n",
    "###ㆍ한ㆍ국ㆍCㆍAㆍTㆍVㆍ나ㆍ라ㆍ방ㆍ송,한국CATV나라방송.NS+ZNW+XXOR+XXCO+XQBR+JN#JN02"
   ]
  },
  {
   "cell_type": "code",
   "execution_count": 13,
   "metadata": {},
   "outputs": [
    {
     "data": {
      "text/plain": "'ㆍ가ㆍ게,가게.NS+ZNZ+JN#JN01+LEO+JN#JN01+SLB+JN#JN01+HAL+JN#JN01+MCO+JN#JN01++JN#JN01'"
     },
     "execution_count": 13,
     "metadata": {},
     "output_type": "execute_result"
    }
   ],
   "source": [
    "'ㆍ가ㆍ게,가게.NS+ZNZ+JN#JN01+LEO+JN#JN01+SLB+JN#JN01+HAL+JN#JN01+MCO+JN#JN01++JN#JN01'\n"
   ]
  },
  {
   "cell_type": "code",
   "execution_count": 25,
   "metadata": {},
   "outputs": [
    {
     "name": "stdout",
     "output_type": "stream",
     "text": "k\nTrue\n\nTrue\nl\nTrue\nk\nTrue\n['k', '', 'l']\n"
    }
   ],
   "source": [
    "p = ['k', '','l','k']\n",
    "#딕셔너리 형식으로 중복제거\n",
    "from collections import OrderedDict\n",
    "\n",
    "d = OrderedDict()\n",
    "for i in p:\n",
    "    print(i)\n",
    "    d[i] = True\n",
    "    print(d[i])\n",
    "    res = list(d.keys())\n",
    "print(res)\n"
   ]
  },
  {
   "cell_type": "code",
   "execution_count": 17,
   "metadata": {},
   "outputs": [
    {
     "name": "stdout",
     "output_type": "stream",
     "text": "['k', 'l']\n"
    }
   ],
   "source": [
    "print(p)"
   ]
  },
  {
   "cell_type": "code",
   "execution_count": null,
   "metadata": {},
   "outputs": [],
   "source": []
  }
 ]
}