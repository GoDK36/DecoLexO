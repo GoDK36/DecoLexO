{
 "cells": [
  {
   "cell_type": "code",
   "execution_count": 9,
   "metadata": {},
   "outputs": [],
   "source": [
    "import pandas as pd\n",
    "import numpy as np\n",
    "import os, re\n",
    "\n",
    "df = pd.read_csv(r'G:\\Programming\\python\\NLP\\DecoLexO\\DecoLexO\\Edit\\example\\DecoLex_Test.csv')\n",
    "\n",
    "\n",
    "####행 이름 decolex처럼 변경하기####\n",
    "\n",
    "#첫 행 살리기\n",
    "first = list(df.columns)\n",
    "df.loc[0] = first\n",
    "for val in first:\n",
    "    if 'Unnamed' in val:\n",
    "        x = first.index(val)\n",
    "        first[x] = np.nan\n",
    "df.loc[0] = first\n",
    "\n",
    "#행 이름 설정해주기\n",
    "col_nme = ['Lemma','Category','Morph1']\n",
    "\n",
    "l = len(df.columns)\n",
    "for i in range(1, l - 2):\n",
    "    info = 'info' + str(i)\n",
    "    col_nme.append(info)\n",
    "\n",
    "df.columns = col_nme"
   ]
  },
  {
   "cell_type": "code",
   "execution_count": 10,
   "metadata": {},
   "outputs": [
    {
     "data": {
      "text/html": [
       "<div>\n",
       "<style scoped>\n",
       "    .dataframe tbody tr th:only-of-type {\n",
       "        vertical-align: middle;\n",
       "    }\n",
       "\n",
       "    .dataframe tbody tr th {\n",
       "        vertical-align: top;\n",
       "    }\n",
       "\n",
       "    .dataframe thead th {\n",
       "        text-align: right;\n",
       "    }\n",
       "</style>\n",
       "<table border=\"1\" class=\"dataframe\">\n",
       "  <thead>\n",
       "    <tr style=\"text-align: right;\">\n",
       "      <th></th>\n",
       "      <th>Lemma</th>\n",
       "      <th>Category</th>\n",
       "      <th>Morph1</th>\n",
       "    </tr>\n",
       "  </thead>\n",
       "  <tbody>\n",
       "    <tr>\n",
       "      <th>0</th>\n",
       "      <td>가나다순</td>\n",
       "      <td>NS02</td>\n",
       "      <td>NaN</td>\n",
       "    </tr>\n",
       "    <tr>\n",
       "      <th>1</th>\n",
       "      <td>개중</td>\n",
       "      <td>NS02</td>\n",
       "      <td>NaN</td>\n",
       "    </tr>\n",
       "    <tr>\n",
       "      <th>2</th>\n",
       "      <td>갱스터</td>\n",
       "      <td>NS01</td>\n",
       "      <td>NaN</td>\n",
       "    </tr>\n",
       "    <tr>\n",
       "      <th>3</th>\n",
       "      <td>검식관</td>\n",
       "      <td>NS02</td>\n",
       "      <td>NaN</td>\n",
       "    </tr>\n",
       "    <tr>\n",
       "      <th>4</th>\n",
       "      <td>격식체</td>\n",
       "      <td>NS01</td>\n",
       "      <td>NaN</td>\n",
       "    </tr>\n",
       "    <tr>\n",
       "      <th>...</th>\n",
       "      <td>...</td>\n",
       "      <td>...</td>\n",
       "      <td>...</td>\n",
       "    </tr>\n",
       "    <tr>\n",
       "      <th>371</th>\n",
       "      <td>중장</td>\n",
       "      <td>NS02</td>\n",
       "      <td>NaN</td>\n",
       "    </tr>\n",
       "    <tr>\n",
       "      <th>372</th>\n",
       "      <td>증후군</td>\n",
       "      <td>NS02</td>\n",
       "      <td>NaN</td>\n",
       "    </tr>\n",
       "    <tr>\n",
       "      <th>373</th>\n",
       "      <td>지상전</td>\n",
       "      <td>NS02</td>\n",
       "      <td>NaN</td>\n",
       "    </tr>\n",
       "    <tr>\n",
       "      <th>374</th>\n",
       "      <td>지아이</td>\n",
       "      <td>NS01</td>\n",
       "      <td>NaN</td>\n",
       "    </tr>\n",
       "    <tr>\n",
       "      <th>375</th>\n",
       "      <td>지은이</td>\n",
       "      <td>NS01</td>\n",
       "      <td>NaN</td>\n",
       "    </tr>\n",
       "  </tbody>\n",
       "</table>\n",
       "<p>376 rows × 3 columns</p>\n",
       "</div>"
      ],
      "text/plain": [
       "    Lemma Category Morph1\n",
       "0    가나다순     NS02    NaN\n",
       "1      개중     NS02    NaN\n",
       "2     갱스터     NS01    NaN\n",
       "3     검식관     NS02    NaN\n",
       "4     격식체     NS01    NaN\n",
       "..    ...      ...    ...\n",
       "371    중장     NS02    NaN\n",
       "372   증후군     NS02    NaN\n",
       "373   지상전     NS02    NaN\n",
       "374   지아이     NS01    NaN\n",
       "375   지은이     NS01    NaN\n",
       "\n",
       "[376 rows x 3 columns]"
      ]
     },
     "execution_count": 10,
     "metadata": {},
     "output_type": "execute_result"
    }
   ],
   "source": [
    "df"
   ]
  },
  {
   "cell_type": "code",
   "execution_count": 19,
   "metadata": {},
   "outputs": [
    {
     "name": "stdout",
     "output_type": "stream",
     "text": [
      "['증후군', 'NS02', nan]\n"
     ]
    }
   ],
   "source": [
    "sel_df = list(df.iloc[372])\n",
    "print(sel_df)"
   ]
  },
  {
   "cell_type": "code",
   "execution_count": 20,
   "metadata": {},
   "outputs": [
    {
     "name": "stdout",
     "output_type": "stream",
     "text": [
      "    Lemma Category Morph1\n",
      "0    가나다순     NS02    NaN\n",
      "1      개중     NS02    NaN\n",
      "2     갱스터     NS01    NaN\n",
      "3     검식관     NS02    NaN\n",
      "4     격식체     NS01    NaN\n",
      "..    ...      ...    ...\n",
      "373   지상전     NS02    NaN\n",
      "374   지아이     NS01    NaN\n",
      "375   지은이     NS01    NaN\n",
      "376    개중     NS02    NaN\n",
      "377   증후군     NS02    NaN\n",
      "\n",
      "[378 rows x 3 columns]\n"
     ]
    }
   ],
   "source": [
    "df.loc[len(df)] = sel_df\n",
    "print(df)"
   ]
  },
  {
   "cell_type": "code",
   "execution_count": null,
   "metadata": {},
   "outputs": [],
   "source": []
  }
 ],
 "metadata": {
  "kernelspec": {
   "display_name": "Python 3",
   "language": "python",
   "name": "python3"
  },
  "language_info": {
   "codemirror_mode": {
    "name": "ipython",
    "version": 3
   },
   "file_extension": ".py",
   "mimetype": "text/x-python",
   "name": "python",
   "nbconvert_exporter": "python",
   "pygments_lexer": "ipython3",
   "version": "3.7.4"
  }
 },
 "nbformat": 4,
 "nbformat_minor": 2
}
